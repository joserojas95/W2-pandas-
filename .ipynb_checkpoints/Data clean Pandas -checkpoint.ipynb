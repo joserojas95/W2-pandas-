{
 "cells": [
  {
   "cell_type": "code",
   "execution_count": 424,
   "id": "a7e33887",
   "metadata": {},
   "outputs": [],
   "source": [
    "import pandas as pd\n",
    "import numpy as np\n",
    "import pylab as plt\n",
    "import seaborn as sns\n",
    "import warnings\n",
    "import datetime\n",
    "warnings.filterwarnings('ignore') "
   ]
  },
  {
   "cell_type": "code",
   "execution_count": 425,
   "id": "f1076c5f",
   "metadata": {},
   "outputs": [],
   "source": [
    "data = pd.read_csv(\"../W2-pandas-/attacks.csv.zip\",sep=',', encoding='latin1')"
   ]
  },
  {
   "cell_type": "code",
   "execution_count": 426,
   "id": "8a57c878",
   "metadata": {},
   "outputs": [],
   "source": [
    "data = data.copy()"
   ]
  },
  {
   "cell_type": "code",
   "execution_count": 427,
   "id": "4238210a",
   "metadata": {},
   "outputs": [
    {
     "data": {
      "text/plain": [
       "(25723, 24)"
      ]
     },
     "execution_count": 427,
     "metadata": {},
     "output_type": "execute_result"
    }
   ],
   "source": [
    "data.shape"
   ]
  },
  {
   "cell_type": "code",
   "execution_count": 428,
   "id": "a991d627",
   "metadata": {},
   "outputs": [
    {
     "data": {
      "text/html": [
       "<div>\n",
       "<style scoped>\n",
       "    .dataframe tbody tr th:only-of-type {\n",
       "        vertical-align: middle;\n",
       "    }\n",
       "\n",
       "    .dataframe tbody tr th {\n",
       "        vertical-align: top;\n",
       "    }\n",
       "\n",
       "    .dataframe thead th {\n",
       "        text-align: right;\n",
       "    }\n",
       "</style>\n",
       "<table border=\"1\" class=\"dataframe\">\n",
       "  <thead>\n",
       "    <tr style=\"text-align: right;\">\n",
       "      <th></th>\n",
       "      <th>Case Number</th>\n",
       "      <th>Date</th>\n",
       "      <th>Year</th>\n",
       "      <th>Type</th>\n",
       "      <th>Country</th>\n",
       "      <th>Area</th>\n",
       "      <th>Location</th>\n",
       "      <th>Activity</th>\n",
       "      <th>Name</th>\n",
       "      <th>Sex</th>\n",
       "      <th>...</th>\n",
       "      <th>Species</th>\n",
       "      <th>Investigator or Source</th>\n",
       "      <th>pdf</th>\n",
       "      <th>href formula</th>\n",
       "      <th>href</th>\n",
       "      <th>Case Number.1</th>\n",
       "      <th>Case Number.2</th>\n",
       "      <th>original order</th>\n",
       "      <th>Unnamed: 22</th>\n",
       "      <th>Unnamed: 23</th>\n",
       "    </tr>\n",
       "  </thead>\n",
       "  <tbody>\n",
       "    <tr>\n",
       "      <th>0</th>\n",
       "      <td>2018.06.25</td>\n",
       "      <td>25-Jun-2018</td>\n",
       "      <td>2018.0</td>\n",
       "      <td>Boating</td>\n",
       "      <td>USA</td>\n",
       "      <td>California</td>\n",
       "      <td>Oceanside, San Diego County</td>\n",
       "      <td>Paddling</td>\n",
       "      <td>Julie Wolfe</td>\n",
       "      <td>F</td>\n",
       "      <td>...</td>\n",
       "      <td>White shark</td>\n",
       "      <td>R. Collier, GSAF</td>\n",
       "      <td>2018.06.25-Wolfe.pdf</td>\n",
       "      <td>http://sharkattackfile.net/spreadsheets/pdf_di...</td>\n",
       "      <td>http://sharkattackfile.net/spreadsheets/pdf_di...</td>\n",
       "      <td>2018.06.25</td>\n",
       "      <td>2018.06.25</td>\n",
       "      <td>6303.0</td>\n",
       "      <td>NaN</td>\n",
       "      <td>NaN</td>\n",
       "    </tr>\n",
       "    <tr>\n",
       "      <th>1</th>\n",
       "      <td>2018.06.18</td>\n",
       "      <td>18-Jun-2018</td>\n",
       "      <td>2018.0</td>\n",
       "      <td>Unprovoked</td>\n",
       "      <td>USA</td>\n",
       "      <td>Georgia</td>\n",
       "      <td>St. Simon Island, Glynn County</td>\n",
       "      <td>Standing</td>\n",
       "      <td>Adyson McNeely</td>\n",
       "      <td>F</td>\n",
       "      <td>...</td>\n",
       "      <td>NaN</td>\n",
       "      <td>K.McMurray, TrackingSharks.com</td>\n",
       "      <td>2018.06.18-McNeely.pdf</td>\n",
       "      <td>http://sharkattackfile.net/spreadsheets/pdf_di...</td>\n",
       "      <td>http://sharkattackfile.net/spreadsheets/pdf_di...</td>\n",
       "      <td>2018.06.18</td>\n",
       "      <td>2018.06.18</td>\n",
       "      <td>6302.0</td>\n",
       "      <td>NaN</td>\n",
       "      <td>NaN</td>\n",
       "    </tr>\n",
       "    <tr>\n",
       "      <th>2</th>\n",
       "      <td>2018.06.09</td>\n",
       "      <td>09-Jun-2018</td>\n",
       "      <td>2018.0</td>\n",
       "      <td>Invalid</td>\n",
       "      <td>USA</td>\n",
       "      <td>Hawaii</td>\n",
       "      <td>Habush, Oahu</td>\n",
       "      <td>Surfing</td>\n",
       "      <td>John Denges</td>\n",
       "      <td>M</td>\n",
       "      <td>...</td>\n",
       "      <td>NaN</td>\n",
       "      <td>K.McMurray, TrackingSharks.com</td>\n",
       "      <td>2018.06.09-Denges.pdf</td>\n",
       "      <td>http://sharkattackfile.net/spreadsheets/pdf_di...</td>\n",
       "      <td>http://sharkattackfile.net/spreadsheets/pdf_di...</td>\n",
       "      <td>2018.06.09</td>\n",
       "      <td>2018.06.09</td>\n",
       "      <td>6301.0</td>\n",
       "      <td>NaN</td>\n",
       "      <td>NaN</td>\n",
       "    </tr>\n",
       "    <tr>\n",
       "      <th>3</th>\n",
       "      <td>2018.06.08</td>\n",
       "      <td>08-Jun-2018</td>\n",
       "      <td>2018.0</td>\n",
       "      <td>Unprovoked</td>\n",
       "      <td>AUSTRALIA</td>\n",
       "      <td>New South Wales</td>\n",
       "      <td>Arrawarra Headland</td>\n",
       "      <td>Surfing</td>\n",
       "      <td>male</td>\n",
       "      <td>M</td>\n",
       "      <td>...</td>\n",
       "      <td>2 m shark</td>\n",
       "      <td>B. Myatt, GSAF</td>\n",
       "      <td>2018.06.08-Arrawarra.pdf</td>\n",
       "      <td>http://sharkattackfile.net/spreadsheets/pdf_di...</td>\n",
       "      <td>http://sharkattackfile.net/spreadsheets/pdf_di...</td>\n",
       "      <td>2018.06.08</td>\n",
       "      <td>2018.06.08</td>\n",
       "      <td>6300.0</td>\n",
       "      <td>NaN</td>\n",
       "      <td>NaN</td>\n",
       "    </tr>\n",
       "    <tr>\n",
       "      <th>4</th>\n",
       "      <td>2018.06.04</td>\n",
       "      <td>04-Jun-2018</td>\n",
       "      <td>2018.0</td>\n",
       "      <td>Provoked</td>\n",
       "      <td>MEXICO</td>\n",
       "      <td>Colima</td>\n",
       "      <td>La Ticla</td>\n",
       "      <td>Free diving</td>\n",
       "      <td>Gustavo Ramos</td>\n",
       "      <td>M</td>\n",
       "      <td>...</td>\n",
       "      <td>Tiger shark, 3m</td>\n",
       "      <td>A .Kipper</td>\n",
       "      <td>2018.06.04-Ramos.pdf</td>\n",
       "      <td>http://sharkattackfile.net/spreadsheets/pdf_di...</td>\n",
       "      <td>http://sharkattackfile.net/spreadsheets/pdf_di...</td>\n",
       "      <td>2018.06.04</td>\n",
       "      <td>2018.06.04</td>\n",
       "      <td>6299.0</td>\n",
       "      <td>NaN</td>\n",
       "      <td>NaN</td>\n",
       "    </tr>\n",
       "  </tbody>\n",
       "</table>\n",
       "<p>5 rows × 24 columns</p>\n",
       "</div>"
      ],
      "text/plain": [
       "  Case Number         Date    Year        Type    Country             Area  \\\n",
       "0  2018.06.25  25-Jun-2018  2018.0     Boating        USA       California   \n",
       "1  2018.06.18  18-Jun-2018  2018.0  Unprovoked        USA          Georgia   \n",
       "2  2018.06.09  09-Jun-2018  2018.0     Invalid        USA           Hawaii   \n",
       "3  2018.06.08  08-Jun-2018  2018.0  Unprovoked  AUSTRALIA  New South Wales   \n",
       "4  2018.06.04  04-Jun-2018  2018.0    Provoked     MEXICO           Colima   \n",
       "\n",
       "                         Location     Activity             Name Sex   ...  \\\n",
       "0     Oceanside, San Diego County     Paddling      Julie Wolfe    F  ...   \n",
       "1  St. Simon Island, Glynn County     Standing  Adyson McNeely     F  ...   \n",
       "2                    Habush, Oahu      Surfing      John Denges    M  ...   \n",
       "3              Arrawarra Headland      Surfing             male    M  ...   \n",
       "4                        La Ticla  Free diving   Gustavo Ramos     M  ...   \n",
       "\n",
       "          Species           Investigator or Source                       pdf  \\\n",
       "0      White shark                R. Collier, GSAF      2018.06.25-Wolfe.pdf   \n",
       "1              NaN  K.McMurray, TrackingSharks.com    2018.06.18-McNeely.pdf   \n",
       "2              NaN  K.McMurray, TrackingSharks.com     2018.06.09-Denges.pdf   \n",
       "3        2 m shark                  B. Myatt, GSAF  2018.06.08-Arrawarra.pdf   \n",
       "4  Tiger shark, 3m                       A .Kipper      2018.06.04-Ramos.pdf   \n",
       "\n",
       "                                        href formula  \\\n",
       "0  http://sharkattackfile.net/spreadsheets/pdf_di...   \n",
       "1  http://sharkattackfile.net/spreadsheets/pdf_di...   \n",
       "2  http://sharkattackfile.net/spreadsheets/pdf_di...   \n",
       "3  http://sharkattackfile.net/spreadsheets/pdf_di...   \n",
       "4  http://sharkattackfile.net/spreadsheets/pdf_di...   \n",
       "\n",
       "                                                href Case Number.1  \\\n",
       "0  http://sharkattackfile.net/spreadsheets/pdf_di...    2018.06.25   \n",
       "1  http://sharkattackfile.net/spreadsheets/pdf_di...    2018.06.18   \n",
       "2  http://sharkattackfile.net/spreadsheets/pdf_di...    2018.06.09   \n",
       "3  http://sharkattackfile.net/spreadsheets/pdf_di...    2018.06.08   \n",
       "4  http://sharkattackfile.net/spreadsheets/pdf_di...    2018.06.04   \n",
       "\n",
       "  Case Number.2 original order Unnamed: 22 Unnamed: 23  \n",
       "0    2018.06.25         6303.0         NaN         NaN  \n",
       "1    2018.06.18         6302.0         NaN         NaN  \n",
       "2    2018.06.09         6301.0         NaN         NaN  \n",
       "3    2018.06.08         6300.0         NaN         NaN  \n",
       "4    2018.06.04         6299.0         NaN         NaN  \n",
       "\n",
       "[5 rows x 24 columns]"
      ]
     },
     "execution_count": 428,
     "metadata": {},
     "output_type": "execute_result"
    }
   ],
   "source": [
    "data.head()"
   ]
  },
  {
   "cell_type": "code",
   "execution_count": 429,
   "id": "43fe6d14",
   "metadata": {},
   "outputs": [
    {
     "data": {
      "text/plain": [
       "Index(['Case Number', 'Date', 'Year', 'Type', 'Country', 'Area', 'Location',\n",
       "       'Activity', 'Name', 'Sex ', 'Age', 'Injury', 'Fatal (Y/N)', 'Time',\n",
       "       'Species ', 'Investigator or Source', 'pdf', 'href formula', 'href',\n",
       "       'Case Number.1', 'Case Number.2', 'original order', 'Unnamed: 22',\n",
       "       'Unnamed: 23'],\n",
       "      dtype='object')"
      ]
     },
     "execution_count": 429,
     "metadata": {},
     "output_type": "execute_result"
    }
   ],
   "source": [
    "data.columns"
   ]
  },
  {
   "cell_type": "code",
   "execution_count": 430,
   "id": "df52c9f3",
   "metadata": {},
   "outputs": [
    {
     "data": {
      "text/plain": [
       "['case_number',\n",
       " 'date',\n",
       " 'year',\n",
       " 'type',\n",
       " 'country',\n",
       " 'area',\n",
       " 'location',\n",
       " 'activity',\n",
       " 'name',\n",
       " 'sex',\n",
       " 'age',\n",
       " 'injury',\n",
       " 'fatal_(y/n)',\n",
       " 'time',\n",
       " 'species',\n",
       " 'investigator_or_source',\n",
       " 'pdf',\n",
       " 'href_formula',\n",
       " 'href',\n",
       " 'case_number.1',\n",
       " 'case_number.2',\n",
       " 'original_order',\n",
       " 'unnamed:_22',\n",
       " 'unnamed:_23']"
      ]
     },
     "execution_count": 430,
     "metadata": {},
     "output_type": "execute_result"
    }
   ],
   "source": [
    "new_col = [c.lower().strip().replace(' ', '_') for c in data.columns]\n",
    "new_col"
   ]
  },
  {
   "cell_type": "code",
   "execution_count": 336,
   "id": "09ec670d",
   "metadata": {},
   "outputs": [
    {
     "data": {
      "text/plain": [
       "{'Case Number': 'case_number',\n",
       " 'Date': 'date',\n",
       " 'Year': 'year',\n",
       " 'Type': 'type',\n",
       " 'Country': 'country',\n",
       " 'Area': 'area',\n",
       " 'Location': 'location',\n",
       " 'Activity': 'activity',\n",
       " 'Name': 'name',\n",
       " 'Sex ': 'sex',\n",
       " 'Age': 'age',\n",
       " 'Injury': 'injury',\n",
       " 'Fatal (Y/N)': 'fatal_(y/n)',\n",
       " 'Time': 'time',\n",
       " 'Species ': 'species',\n",
       " 'Investigator or Source': 'investigator_or_source',\n",
       " 'pdf': 'pdf',\n",
       " 'href formula': 'href_formula',\n",
       " 'href': 'href',\n",
       " 'Case Number.1': 'case_number.1',\n",
       " 'Case Number.2': 'case_number.2',\n",
       " 'original order': 'original_order',\n",
       " 'Unnamed: 22': 'unnamed:_22',\n",
       " 'Unnamed: 23': 'unnamed:_23'}"
      ]
     },
     "execution_count": 336,
     "metadata": {},
     "output_type": "execute_result"
    }
   ],
   "source": [
    "dict(zip(data.columns, new_col))"
   ]
  },
  {
   "cell_type": "code",
   "execution_count": 431,
   "id": "24bf4e38",
   "metadata": {},
   "outputs": [
    {
     "data": {
      "text/html": [
       "<div>\n",
       "<style scoped>\n",
       "    .dataframe tbody tr th:only-of-type {\n",
       "        vertical-align: middle;\n",
       "    }\n",
       "\n",
       "    .dataframe tbody tr th {\n",
       "        vertical-align: top;\n",
       "    }\n",
       "\n",
       "    .dataframe thead th {\n",
       "        text-align: right;\n",
       "    }\n",
       "</style>\n",
       "<table border=\"1\" class=\"dataframe\">\n",
       "  <thead>\n",
       "    <tr style=\"text-align: right;\">\n",
       "      <th></th>\n",
       "      <th>case_number</th>\n",
       "      <th>date</th>\n",
       "      <th>year</th>\n",
       "      <th>type</th>\n",
       "      <th>country</th>\n",
       "      <th>area</th>\n",
       "      <th>location</th>\n",
       "      <th>activity</th>\n",
       "      <th>name</th>\n",
       "      <th>sex</th>\n",
       "      <th>...</th>\n",
       "      <th>species</th>\n",
       "      <th>investigator_or_source</th>\n",
       "      <th>pdf</th>\n",
       "      <th>href_formula</th>\n",
       "      <th>href</th>\n",
       "      <th>case_number.1</th>\n",
       "      <th>case_number.2</th>\n",
       "      <th>original_order</th>\n",
       "      <th>unnamed:_22</th>\n",
       "      <th>unnamed:_23</th>\n",
       "    </tr>\n",
       "  </thead>\n",
       "  <tbody>\n",
       "    <tr>\n",
       "      <th>0</th>\n",
       "      <td>2018.06.25</td>\n",
       "      <td>25-Jun-2018</td>\n",
       "      <td>2018.0</td>\n",
       "      <td>Boating</td>\n",
       "      <td>USA</td>\n",
       "      <td>California</td>\n",
       "      <td>Oceanside, San Diego County</td>\n",
       "      <td>Paddling</td>\n",
       "      <td>Julie Wolfe</td>\n",
       "      <td>F</td>\n",
       "      <td>...</td>\n",
       "      <td>White shark</td>\n",
       "      <td>R. Collier, GSAF</td>\n",
       "      <td>2018.06.25-Wolfe.pdf</td>\n",
       "      <td>http://sharkattackfile.net/spreadsheets/pdf_di...</td>\n",
       "      <td>http://sharkattackfile.net/spreadsheets/pdf_di...</td>\n",
       "      <td>2018.06.25</td>\n",
       "      <td>2018.06.25</td>\n",
       "      <td>6303.0</td>\n",
       "      <td>NaN</td>\n",
       "      <td>NaN</td>\n",
       "    </tr>\n",
       "    <tr>\n",
       "      <th>1</th>\n",
       "      <td>2018.06.18</td>\n",
       "      <td>18-Jun-2018</td>\n",
       "      <td>2018.0</td>\n",
       "      <td>Unprovoked</td>\n",
       "      <td>USA</td>\n",
       "      <td>Georgia</td>\n",
       "      <td>St. Simon Island, Glynn County</td>\n",
       "      <td>Standing</td>\n",
       "      <td>Adyson McNeely</td>\n",
       "      <td>F</td>\n",
       "      <td>...</td>\n",
       "      <td>NaN</td>\n",
       "      <td>K.McMurray, TrackingSharks.com</td>\n",
       "      <td>2018.06.18-McNeely.pdf</td>\n",
       "      <td>http://sharkattackfile.net/spreadsheets/pdf_di...</td>\n",
       "      <td>http://sharkattackfile.net/spreadsheets/pdf_di...</td>\n",
       "      <td>2018.06.18</td>\n",
       "      <td>2018.06.18</td>\n",
       "      <td>6302.0</td>\n",
       "      <td>NaN</td>\n",
       "      <td>NaN</td>\n",
       "    </tr>\n",
       "    <tr>\n",
       "      <th>2</th>\n",
       "      <td>2018.06.09</td>\n",
       "      <td>09-Jun-2018</td>\n",
       "      <td>2018.0</td>\n",
       "      <td>Invalid</td>\n",
       "      <td>USA</td>\n",
       "      <td>Hawaii</td>\n",
       "      <td>Habush, Oahu</td>\n",
       "      <td>Surfing</td>\n",
       "      <td>John Denges</td>\n",
       "      <td>M</td>\n",
       "      <td>...</td>\n",
       "      <td>NaN</td>\n",
       "      <td>K.McMurray, TrackingSharks.com</td>\n",
       "      <td>2018.06.09-Denges.pdf</td>\n",
       "      <td>http://sharkattackfile.net/spreadsheets/pdf_di...</td>\n",
       "      <td>http://sharkattackfile.net/spreadsheets/pdf_di...</td>\n",
       "      <td>2018.06.09</td>\n",
       "      <td>2018.06.09</td>\n",
       "      <td>6301.0</td>\n",
       "      <td>NaN</td>\n",
       "      <td>NaN</td>\n",
       "    </tr>\n",
       "    <tr>\n",
       "      <th>3</th>\n",
       "      <td>2018.06.08</td>\n",
       "      <td>08-Jun-2018</td>\n",
       "      <td>2018.0</td>\n",
       "      <td>Unprovoked</td>\n",
       "      <td>AUSTRALIA</td>\n",
       "      <td>New South Wales</td>\n",
       "      <td>Arrawarra Headland</td>\n",
       "      <td>Surfing</td>\n",
       "      <td>male</td>\n",
       "      <td>M</td>\n",
       "      <td>...</td>\n",
       "      <td>2 m shark</td>\n",
       "      <td>B. Myatt, GSAF</td>\n",
       "      <td>2018.06.08-Arrawarra.pdf</td>\n",
       "      <td>http://sharkattackfile.net/spreadsheets/pdf_di...</td>\n",
       "      <td>http://sharkattackfile.net/spreadsheets/pdf_di...</td>\n",
       "      <td>2018.06.08</td>\n",
       "      <td>2018.06.08</td>\n",
       "      <td>6300.0</td>\n",
       "      <td>NaN</td>\n",
       "      <td>NaN</td>\n",
       "    </tr>\n",
       "    <tr>\n",
       "      <th>4</th>\n",
       "      <td>2018.06.04</td>\n",
       "      <td>04-Jun-2018</td>\n",
       "      <td>2018.0</td>\n",
       "      <td>Provoked</td>\n",
       "      <td>MEXICO</td>\n",
       "      <td>Colima</td>\n",
       "      <td>La Ticla</td>\n",
       "      <td>Free diving</td>\n",
       "      <td>Gustavo Ramos</td>\n",
       "      <td>M</td>\n",
       "      <td>...</td>\n",
       "      <td>Tiger shark, 3m</td>\n",
       "      <td>A .Kipper</td>\n",
       "      <td>2018.06.04-Ramos.pdf</td>\n",
       "      <td>http://sharkattackfile.net/spreadsheets/pdf_di...</td>\n",
       "      <td>http://sharkattackfile.net/spreadsheets/pdf_di...</td>\n",
       "      <td>2018.06.04</td>\n",
       "      <td>2018.06.04</td>\n",
       "      <td>6299.0</td>\n",
       "      <td>NaN</td>\n",
       "      <td>NaN</td>\n",
       "    </tr>\n",
       "  </tbody>\n",
       "</table>\n",
       "<p>5 rows × 24 columns</p>\n",
       "</div>"
      ],
      "text/plain": [
       "  case_number         date    year        type    country             area  \\\n",
       "0  2018.06.25  25-Jun-2018  2018.0     Boating        USA       California   \n",
       "1  2018.06.18  18-Jun-2018  2018.0  Unprovoked        USA          Georgia   \n",
       "2  2018.06.09  09-Jun-2018  2018.0     Invalid        USA           Hawaii   \n",
       "3  2018.06.08  08-Jun-2018  2018.0  Unprovoked  AUSTRALIA  New South Wales   \n",
       "4  2018.06.04  04-Jun-2018  2018.0    Provoked     MEXICO           Colima   \n",
       "\n",
       "                         location     activity             name sex  ...  \\\n",
       "0     Oceanside, San Diego County     Paddling      Julie Wolfe   F  ...   \n",
       "1  St. Simon Island, Glynn County     Standing  Adyson McNeely    F  ...   \n",
       "2                    Habush, Oahu      Surfing      John Denges   M  ...   \n",
       "3              Arrawarra Headland      Surfing             male   M  ...   \n",
       "4                        La Ticla  Free diving   Gustavo Ramos    M  ...   \n",
       "\n",
       "           species          investigator_or_source                       pdf  \\\n",
       "0      White shark                R. Collier, GSAF      2018.06.25-Wolfe.pdf   \n",
       "1              NaN  K.McMurray, TrackingSharks.com    2018.06.18-McNeely.pdf   \n",
       "2              NaN  K.McMurray, TrackingSharks.com     2018.06.09-Denges.pdf   \n",
       "3        2 m shark                  B. Myatt, GSAF  2018.06.08-Arrawarra.pdf   \n",
       "4  Tiger shark, 3m                       A .Kipper      2018.06.04-Ramos.pdf   \n",
       "\n",
       "                                        href_formula  \\\n",
       "0  http://sharkattackfile.net/spreadsheets/pdf_di...   \n",
       "1  http://sharkattackfile.net/spreadsheets/pdf_di...   \n",
       "2  http://sharkattackfile.net/spreadsheets/pdf_di...   \n",
       "3  http://sharkattackfile.net/spreadsheets/pdf_di...   \n",
       "4  http://sharkattackfile.net/spreadsheets/pdf_di...   \n",
       "\n",
       "                                                href case_number.1  \\\n",
       "0  http://sharkattackfile.net/spreadsheets/pdf_di...    2018.06.25   \n",
       "1  http://sharkattackfile.net/spreadsheets/pdf_di...    2018.06.18   \n",
       "2  http://sharkattackfile.net/spreadsheets/pdf_di...    2018.06.09   \n",
       "3  http://sharkattackfile.net/spreadsheets/pdf_di...    2018.06.08   \n",
       "4  http://sharkattackfile.net/spreadsheets/pdf_di...    2018.06.04   \n",
       "\n",
       "  case_number.2 original_order unnamed:_22 unnamed:_23  \n",
       "0    2018.06.25         6303.0         NaN         NaN  \n",
       "1    2018.06.18         6302.0         NaN         NaN  \n",
       "2    2018.06.09         6301.0         NaN         NaN  \n",
       "3    2018.06.08         6300.0         NaN         NaN  \n",
       "4    2018.06.04         6299.0         NaN         NaN  \n",
       "\n",
       "[5 rows x 24 columns]"
      ]
     },
     "execution_count": 431,
     "metadata": {},
     "output_type": "execute_result"
    }
   ],
   "source": [
    "data = data.rename(columns={k:v for k,v in zip(data.columns, new_col)})\n",
    "\n",
    "data.head()"
   ]
  },
  {
   "cell_type": "code",
   "execution_count": 432,
   "id": "37939f56",
   "metadata": {},
   "outputs": [
    {
     "name": "stdout",
     "output_type": "stream",
     "text": [
      "<class 'pandas.core.frame.DataFrame'>\n",
      "RangeIndex: 25723 entries, 0 to 25722\n",
      "Data columns (total 24 columns):\n",
      " #   Column                  Non-Null Count  Dtype  \n",
      "---  ------                  --------------  -----  \n",
      " 0   case_number             8702 non-null   object \n",
      " 1   date                    6302 non-null   object \n",
      " 2   year                    6300 non-null   float64\n",
      " 3   type                    6298 non-null   object \n",
      " 4   country                 6252 non-null   object \n",
      " 5   area                    5847 non-null   object \n",
      " 6   location                5762 non-null   object \n",
      " 7   activity                5758 non-null   object \n",
      " 8   name                    6092 non-null   object \n",
      " 9   sex                     5737 non-null   object \n",
      " 10  age                     3471 non-null   object \n",
      " 11  injury                  6274 non-null   object \n",
      " 12  fatal_(y/n)             5763 non-null   object \n",
      " 13  time                    2948 non-null   object \n",
      " 14  species                 3464 non-null   object \n",
      " 15  investigator_or_source  6285 non-null   object \n",
      " 16  pdf                     6302 non-null   object \n",
      " 17  href_formula            6301 non-null   object \n",
      " 18  href                    6302 non-null   object \n",
      " 19  case_number.1           6302 non-null   object \n",
      " 20  case_number.2           6302 non-null   object \n",
      " 21  original_order          6309 non-null   float64\n",
      " 22  unnamed:_22             1 non-null      object \n",
      " 23  unnamed:_23             2 non-null      object \n",
      "dtypes: float64(2), object(22)\n",
      "memory usage: 22.8 MB\n"
     ]
    }
   ],
   "source": [
    "data.info(memory_usage='deep')"
   ]
  },
  {
   "cell_type": "code",
   "execution_count": 433,
   "id": "53384002",
   "metadata": {},
   "outputs": [],
   "source": [
    "nan_cols = data.isna().sum()"
   ]
  },
  {
   "cell_type": "code",
   "execution_count": 434,
   "id": "9685538c",
   "metadata": {
    "scrolled": true
   },
   "outputs": [
    {
     "data": {
      "text/plain": [
       "case_number               17021\n",
       "date                      19421\n",
       "year                      19423\n",
       "type                      19425\n",
       "country                   19471\n",
       "area                      19876\n",
       "location                  19961\n",
       "activity                  19965\n",
       "name                      19631\n",
       "sex                       19986\n",
       "age                       22252\n",
       "injury                    19449\n",
       "fatal_(y/n)               19960\n",
       "time                      22775\n",
       "species                   22259\n",
       "investigator_or_source    19438\n",
       "pdf                       19421\n",
       "href_formula              19422\n",
       "href                      19421\n",
       "case_number.1             19421\n",
       "case_number.2             19421\n",
       "original_order            19414\n",
       "unnamed:_22               25722\n",
       "unnamed:_23               25721\n",
       "dtype: int64"
      ]
     },
     "execution_count": 434,
     "metadata": {},
     "output_type": "execute_result"
    }
   ],
   "source": [
    "nan_cols[nan_cols>0]"
   ]
  },
  {
   "cell_type": "code",
   "execution_count": 435,
   "id": "394e4db5",
   "metadata": {},
   "outputs": [
    {
     "data": {
      "image/png": "[encoded data removed]",
      "text/plain": [
       "<Figure size 720x432 with 1 Axes>"
      ]
     },
     "metadata": {
      "needs_background": "light"
     },
     "output_type": "display_data"
    }
   ],
   "source": [
    "plt.figure(figsize=(10,6))\n",
    "\n",
    "sns.heatmap(data.isna(),\n",
    "           yticklabels=False,\n",
    "           cmap='viridis',\n",
    "           cbar = False)\n",
    "\n",
    "plt.show()"
   ]
  },
  {
   "cell_type": "code",
   "execution_count": 436,
   "id": "310502b9",
   "metadata": {},
   "outputs": [],
   "source": [
    "data=data.drop_duplicates()"
   ]
  },
  {
   "cell_type": "code",
   "execution_count": 437,
   "id": "ecbfb1ce",
   "metadata": {},
   "outputs": [
    {
     "data": {
      "text/plain": [
       "(6312, 24)"
      ]
     },
     "execution_count": 437,
     "metadata": {},
     "output_type": "execute_result"
    }
   ],
   "source": [
    "data.shape"
   ]
  },
  {
   "cell_type": "code",
   "execution_count": 438,
   "id": "3d0593a2",
   "metadata": {
    "scrolled": true
   },
   "outputs": [
    {
     "data": {
      "text/html": [
       "<div>\n",
       "<style scoped>\n",
       "    .dataframe tbody tr th:only-of-type {\n",
       "        vertical-align: middle;\n",
       "    }\n",
       "\n",
       "    .dataframe tbody tr th {\n",
       "        vertical-align: top;\n",
       "    }\n",
       "\n",
       "    .dataframe thead th {\n",
       "        text-align: right;\n",
       "    }\n",
       "</style>\n",
       "<table border=\"1\" class=\"dataframe\">\n",
       "  <thead>\n",
       "    <tr style=\"text-align: right;\">\n",
       "      <th></th>\n",
       "      <th>case_number</th>\n",
       "      <th>date</th>\n",
       "      <th>year</th>\n",
       "      <th>type</th>\n",
       "      <th>country</th>\n",
       "      <th>area</th>\n",
       "      <th>location</th>\n",
       "      <th>activity</th>\n",
       "      <th>name</th>\n",
       "      <th>sex</th>\n",
       "      <th>...</th>\n",
       "      <th>species</th>\n",
       "      <th>investigator_or_source</th>\n",
       "      <th>pdf</th>\n",
       "      <th>href_formula</th>\n",
       "      <th>href</th>\n",
       "      <th>case_number.1</th>\n",
       "      <th>case_number.2</th>\n",
       "      <th>original_order</th>\n",
       "      <th>unnamed:_22</th>\n",
       "      <th>unnamed:_23</th>\n",
       "    </tr>\n",
       "  </thead>\n",
       "  <tbody>\n",
       "    <tr>\n",
       "      <th>0</th>\n",
       "      <td>2018.06.25</td>\n",
       "      <td>25-Jun-2018</td>\n",
       "      <td>2018.0</td>\n",
       "      <td>Boating</td>\n",
       "      <td>USA</td>\n",
       "      <td>California</td>\n",
       "      <td>Oceanside, San Diego County</td>\n",
       "      <td>Paddling</td>\n",
       "      <td>Julie Wolfe</td>\n",
       "      <td>F</td>\n",
       "      <td>...</td>\n",
       "      <td>White shark</td>\n",
       "      <td>R. Collier, GSAF</td>\n",
       "      <td>2018.06.25-Wolfe.pdf</td>\n",
       "      <td>http://sharkattackfile.net/spreadsheets/pdf_di...</td>\n",
       "      <td>http://sharkattackfile.net/spreadsheets/pdf_di...</td>\n",
       "      <td>2018.06.25</td>\n",
       "      <td>2018.06.25</td>\n",
       "      <td>6303.0</td>\n",
       "      <td>NaN</td>\n",
       "      <td>NaN</td>\n",
       "    </tr>\n",
       "    <tr>\n",
       "      <th>1</th>\n",
       "      <td>2018.06.18</td>\n",
       "      <td>18-Jun-2018</td>\n",
       "      <td>2018.0</td>\n",
       "      <td>Unprovoked</td>\n",
       "      <td>USA</td>\n",
       "      <td>Georgia</td>\n",
       "      <td>St. Simon Island, Glynn County</td>\n",
       "      <td>Standing</td>\n",
       "      <td>Adyson McNeely</td>\n",
       "      <td>F</td>\n",
       "      <td>...</td>\n",
       "      <td>NaN</td>\n",
       "      <td>K.McMurray, TrackingSharks.com</td>\n",
       "      <td>2018.06.18-McNeely.pdf</td>\n",
       "      <td>http://sharkattackfile.net/spreadsheets/pdf_di...</td>\n",
       "      <td>http://sharkattackfile.net/spreadsheets/pdf_di...</td>\n",
       "      <td>2018.06.18</td>\n",
       "      <td>2018.06.18</td>\n",
       "      <td>6302.0</td>\n",
       "      <td>NaN</td>\n",
       "      <td>NaN</td>\n",
       "    </tr>\n",
       "    <tr>\n",
       "      <th>2</th>\n",
       "      <td>2018.06.09</td>\n",
       "      <td>09-Jun-2018</td>\n",
       "      <td>2018.0</td>\n",
       "      <td>Invalid</td>\n",
       "      <td>USA</td>\n",
       "      <td>Hawaii</td>\n",
       "      <td>Habush, Oahu</td>\n",
       "      <td>Surfing</td>\n",
       "      <td>John Denges</td>\n",
       "      <td>M</td>\n",
       "      <td>...</td>\n",
       "      <td>NaN</td>\n",
       "      <td>K.McMurray, TrackingSharks.com</td>\n",
       "      <td>2018.06.09-Denges.pdf</td>\n",
       "      <td>http://sharkattackfile.net/spreadsheets/pdf_di...</td>\n",
       "      <td>http://sharkattackfile.net/spreadsheets/pdf_di...</td>\n",
       "      <td>2018.06.09</td>\n",
       "      <td>2018.06.09</td>\n",
       "      <td>6301.0</td>\n",
       "      <td>NaN</td>\n",
       "      <td>NaN</td>\n",
       "    </tr>\n",
       "    <tr>\n",
       "      <th>3</th>\n",
       "      <td>2018.06.08</td>\n",
       "      <td>08-Jun-2018</td>\n",
       "      <td>2018.0</td>\n",
       "      <td>Unprovoked</td>\n",
       "      <td>AUSTRALIA</td>\n",
       "      <td>New South Wales</td>\n",
       "      <td>Arrawarra Headland</td>\n",
       "      <td>Surfing</td>\n",
       "      <td>male</td>\n",
       "      <td>M</td>\n",
       "      <td>...</td>\n",
       "      <td>2 m shark</td>\n",
       "      <td>B. Myatt, GSAF</td>\n",
       "      <td>2018.06.08-Arrawarra.pdf</td>\n",
       "      <td>http://sharkattackfile.net/spreadsheets/pdf_di...</td>\n",
       "      <td>http://sharkattackfile.net/spreadsheets/pdf_di...</td>\n",
       "      <td>2018.06.08</td>\n",
       "      <td>2018.06.08</td>\n",
       "      <td>6300.0</td>\n",
       "      <td>NaN</td>\n",
       "      <td>NaN</td>\n",
       "    </tr>\n",
       "    <tr>\n",
       "      <th>4</th>\n",
       "      <td>2018.06.04</td>\n",
       "      <td>04-Jun-2018</td>\n",
       "      <td>2018.0</td>\n",
       "      <td>Provoked</td>\n",
       "      <td>MEXICO</td>\n",
       "      <td>Colima</td>\n",
       "      <td>La Ticla</td>\n",
       "      <td>Free diving</td>\n",
       "      <td>Gustavo Ramos</td>\n",
       "      <td>M</td>\n",
       "      <td>...</td>\n",
       "      <td>Tiger shark, 3m</td>\n",
       "      <td>A .Kipper</td>\n",
       "      <td>2018.06.04-Ramos.pdf</td>\n",
       "      <td>http://sharkattackfile.net/spreadsheets/pdf_di...</td>\n",
       "      <td>http://sharkattackfile.net/spreadsheets/pdf_di...</td>\n",
       "      <td>2018.06.04</td>\n",
       "      <td>2018.06.04</td>\n",
       "      <td>6299.0</td>\n",
       "      <td>NaN</td>\n",
       "      <td>NaN</td>\n",
       "    </tr>\n",
       "    <tr>\n",
       "      <th>...</th>\n",
       "      <td>...</td>\n",
       "      <td>...</td>\n",
       "      <td>...</td>\n",
       "      <td>...</td>\n",
       "      <td>...</td>\n",
       "      <td>...</td>\n",
       "      <td>...</td>\n",
       "      <td>...</td>\n",
       "      <td>...</td>\n",
       "      <td>...</td>\n",
       "      <td>...</td>\n",
       "      <td>...</td>\n",
       "      <td>...</td>\n",
       "      <td>...</td>\n",
       "      <td>...</td>\n",
       "      <td>...</td>\n",
       "      <td>...</td>\n",
       "      <td>...</td>\n",
       "      <td>...</td>\n",
       "      <td>...</td>\n",
       "      <td>...</td>\n",
       "    </tr>\n",
       "    <tr>\n",
       "      <th>6307</th>\n",
       "      <td>0</td>\n",
       "      <td>NaN</td>\n",
       "      <td>NaN</td>\n",
       "      <td>NaN</td>\n",
       "      <td>NaN</td>\n",
       "      <td>NaN</td>\n",
       "      <td>NaN</td>\n",
       "      <td>NaN</td>\n",
       "      <td>NaN</td>\n",
       "      <td>NaN</td>\n",
       "      <td>...</td>\n",
       "      <td>NaN</td>\n",
       "      <td>NaN</td>\n",
       "      <td>NaN</td>\n",
       "      <td>NaN</td>\n",
       "      <td>NaN</td>\n",
       "      <td>NaN</td>\n",
       "      <td>NaN</td>\n",
       "      <td>6309.0</td>\n",
       "      <td>NaN</td>\n",
       "      <td>NaN</td>\n",
       "    </tr>\n",
       "    <tr>\n",
       "      <th>6308</th>\n",
       "      <td>0</td>\n",
       "      <td>NaN</td>\n",
       "      <td>NaN</td>\n",
       "      <td>NaN</td>\n",
       "      <td>NaN</td>\n",
       "      <td>NaN</td>\n",
       "      <td>NaN</td>\n",
       "      <td>NaN</td>\n",
       "      <td>NaN</td>\n",
       "      <td>NaN</td>\n",
       "      <td>...</td>\n",
       "      <td>NaN</td>\n",
       "      <td>NaN</td>\n",
       "      <td>NaN</td>\n",
       "      <td>NaN</td>\n",
       "      <td>NaN</td>\n",
       "      <td>NaN</td>\n",
       "      <td>NaN</td>\n",
       "      <td>6310.0</td>\n",
       "      <td>NaN</td>\n",
       "      <td>NaN</td>\n",
       "    </tr>\n",
       "    <tr>\n",
       "      <th>6309</th>\n",
       "      <td>0</td>\n",
       "      <td>NaN</td>\n",
       "      <td>NaN</td>\n",
       "      <td>NaN</td>\n",
       "      <td>NaN</td>\n",
       "      <td>NaN</td>\n",
       "      <td>NaN</td>\n",
       "      <td>NaN</td>\n",
       "      <td>NaN</td>\n",
       "      <td>NaN</td>\n",
       "      <td>...</td>\n",
       "      <td>NaN</td>\n",
       "      <td>NaN</td>\n",
       "      <td>NaN</td>\n",
       "      <td>NaN</td>\n",
       "      <td>NaN</td>\n",
       "      <td>NaN</td>\n",
       "      <td>NaN</td>\n",
       "      <td>NaN</td>\n",
       "      <td>NaN</td>\n",
       "      <td>NaN</td>\n",
       "    </tr>\n",
       "    <tr>\n",
       "      <th>8702</th>\n",
       "      <td>NaN</td>\n",
       "      <td>NaN</td>\n",
       "      <td>NaN</td>\n",
       "      <td>NaN</td>\n",
       "      <td>NaN</td>\n",
       "      <td>NaN</td>\n",
       "      <td>NaN</td>\n",
       "      <td>NaN</td>\n",
       "      <td>NaN</td>\n",
       "      <td>NaN</td>\n",
       "      <td>...</td>\n",
       "      <td>NaN</td>\n",
       "      <td>NaN</td>\n",
       "      <td>NaN</td>\n",
       "      <td>NaN</td>\n",
       "      <td>NaN</td>\n",
       "      <td>NaN</td>\n",
       "      <td>NaN</td>\n",
       "      <td>NaN</td>\n",
       "      <td>NaN</td>\n",
       "      <td>NaN</td>\n",
       "    </tr>\n",
       "    <tr>\n",
       "      <th>25722</th>\n",
       "      <td>xx</td>\n",
       "      <td>NaN</td>\n",
       "      <td>NaN</td>\n",
       "      <td>NaN</td>\n",
       "      <td>NaN</td>\n",
       "      <td>NaN</td>\n",
       "      <td>NaN</td>\n",
       "      <td>NaN</td>\n",
       "      <td>NaN</td>\n",
       "      <td>NaN</td>\n",
       "      <td>...</td>\n",
       "      <td>NaN</td>\n",
       "      <td>NaN</td>\n",
       "      <td>NaN</td>\n",
       "      <td>NaN</td>\n",
       "      <td>NaN</td>\n",
       "      <td>NaN</td>\n",
       "      <td>NaN</td>\n",
       "      <td>NaN</td>\n",
       "      <td>NaN</td>\n",
       "      <td>NaN</td>\n",
       "    </tr>\n",
       "  </tbody>\n",
       "</table>\n",
       "<p>6312 rows × 24 columns</p>\n",
       "</div>"
      ],
      "text/plain": [
       "      case_number         date    year        type    country  \\\n",
       "0      2018.06.25  25-Jun-2018  2018.0     Boating        USA   \n",
       "1      2018.06.18  18-Jun-2018  2018.0  Unprovoked        USA   \n",
       "2      2018.06.09  09-Jun-2018  2018.0     Invalid        USA   \n",
       "3      2018.06.08  08-Jun-2018  2018.0  Unprovoked  AUSTRALIA   \n",
       "4      2018.06.04  04-Jun-2018  2018.0    Provoked     MEXICO   \n",
       "...           ...          ...     ...         ...        ...   \n",
       "6307            0          NaN     NaN         NaN        NaN   \n",
       "6308            0          NaN     NaN         NaN        NaN   \n",
       "6309            0          NaN     NaN         NaN        NaN   \n",
       "8702          NaN          NaN     NaN         NaN        NaN   \n",
       "25722          xx          NaN     NaN         NaN        NaN   \n",
       "\n",
       "                  area                        location     activity  \\\n",
       "0           California     Oceanside, San Diego County     Paddling   \n",
       "1              Georgia  St. Simon Island, Glynn County     Standing   \n",
       "2               Hawaii                    Habush, Oahu      Surfing   \n",
       "3      New South Wales              Arrawarra Headland      Surfing   \n",
       "4               Colima                        La Ticla  Free diving   \n",
       "...                ...                             ...          ...   \n",
       "6307               NaN                             NaN          NaN   \n",
       "6308               NaN                             NaN          NaN   \n",
       "6309               NaN                             NaN          NaN   \n",
       "8702               NaN                             NaN          NaN   \n",
       "25722              NaN                             NaN          NaN   \n",
       "\n",
       "                  name  sex  ...          species  \\\n",
       "0          Julie Wolfe    F  ...      White shark   \n",
       "1      Adyson McNeely     F  ...              NaN   \n",
       "2          John Denges    M  ...              NaN   \n",
       "3                 male    M  ...        2 m shark   \n",
       "4       Gustavo Ramos     M  ...  Tiger shark, 3m   \n",
       "...                ...  ...  ...              ...   \n",
       "6307               NaN  NaN  ...              NaN   \n",
       "6308               NaN  NaN  ...              NaN   \n",
       "6309               NaN  NaN  ...              NaN   \n",
       "8702               NaN  NaN  ...              NaN   \n",
       "25722              NaN  NaN  ...              NaN   \n",
       "\n",
       "               investigator_or_source                       pdf  \\\n",
       "0                    R. Collier, GSAF      2018.06.25-Wolfe.pdf   \n",
       "1      K.McMurray, TrackingSharks.com    2018.06.18-McNeely.pdf   \n",
       "2      K.McMurray, TrackingSharks.com     2018.06.09-Denges.pdf   \n",
       "3                      B. Myatt, GSAF  2018.06.08-Arrawarra.pdf   \n",
       "4                           A .Kipper      2018.06.04-Ramos.pdf   \n",
       "...                               ...                       ...   \n",
       "6307                              NaN                       NaN   \n",
       "6308                              NaN                       NaN   \n",
       "6309                              NaN                       NaN   \n",
       "8702                              NaN                       NaN   \n",
       "25722                             NaN                       NaN   \n",
       "\n",
       "                                            href_formula  \\\n",
       "0      http://sharkattackfile.net/spreadsheets/pdf_di...   \n",
       "1      http://sharkattackfile.net/spreadsheets/pdf_di...   \n",
       "2      http://sharkattackfile.net/spreadsheets/pdf_di...   \n",
       "3      http://sharkattackfile.net/spreadsheets/pdf_di...   \n",
       "4      http://sharkattackfile.net/spreadsheets/pdf_di...   \n",
       "...                                                  ...   \n",
       "6307                                                 NaN   \n",
       "6308                                                 NaN   \n",
       "6309                                                 NaN   \n",
       "8702                                                 NaN   \n",
       "25722                                                NaN   \n",
       "\n",
       "                                                    href case_number.1  \\\n",
       "0      http://sharkattackfile.net/spreadsheets/pdf_di...    2018.06.25   \n",
       "1      http://sharkattackfile.net/spreadsheets/pdf_di...    2018.06.18   \n",
       "2      http://sharkattackfile.net/spreadsheets/pdf_di...    2018.06.09   \n",
       "3      http://sharkattackfile.net/spreadsheets/pdf_di...    2018.06.08   \n",
       "4      http://sharkattackfile.net/spreadsheets/pdf_di...    2018.06.04   \n",
       "...                                                  ...           ...   \n",
       "6307                                                 NaN           NaN   \n",
       "6308                                                 NaN           NaN   \n",
       "6309                                                 NaN           NaN   \n",
       "8702                                                 NaN           NaN   \n",
       "25722                                                NaN           NaN   \n",
       "\n",
       "      case_number.2 original_order unnamed:_22 unnamed:_23  \n",
       "0        2018.06.25         6303.0         NaN         NaN  \n",
       "1        2018.06.18         6302.0         NaN         NaN  \n",
       "2        2018.06.09         6301.0         NaN         NaN  \n",
       "3        2018.06.08         6300.0         NaN         NaN  \n",
       "4        2018.06.04         6299.0         NaN         NaN  \n",
       "...             ...            ...         ...         ...  \n",
       "6307            NaN         6309.0         NaN         NaN  \n",
       "6308            NaN         6310.0         NaN         NaN  \n",
       "6309            NaN            NaN         NaN         NaN  \n",
       "8702            NaN            NaN         NaN         NaN  \n",
       "25722           NaN            NaN         NaN         NaN  \n",
       "\n",
       "[6312 rows x 24 columns]"
      ]
     },
     "execution_count": 438,
     "metadata": {},
     "output_type": "execute_result"
    }
   ],
   "source": [
    "data"
   ]
  },
  {
   "cell_type": "code",
   "execution_count": 439,
   "id": "6ce4dc0c",
   "metadata": {},
   "outputs": [
    {
     "data": {
      "image/png": "[encoded data removed]",
      "text/plain": [
       "<Figure size 720x432 with 1 Axes>"
      ]
     },
     "metadata": {
      "needs_background": "light"
     },
     "output_type": "display_data"
    }
   ],
   "source": [
    "plt.figure(figsize=(10,6))\n",
    "\n",
    "sns.heatmap(data.isna(),\n",
    "           yticklabels=False,\n",
    "           cmap='viridis',\n",
    "           cbar = False)\n",
    "\n",
    "plt.show()"
   ]
  },
  {
   "cell_type": "code",
   "execution_count": 440,
   "id": "5e80df51",
   "metadata": {
    "scrolled": false
   },
   "outputs": [
    {
     "name": "stdout",
     "output_type": "stream",
     "text": [
      "<class 'pandas.core.frame.DataFrame'>\n",
      "Int64Index: 6312 entries, 0 to 25722\n",
      "Data columns (total 24 columns):\n",
      " #   Column                  Non-Null Count  Dtype  \n",
      "---  ------                  --------------  -----  \n",
      " 0   case_number             6310 non-null   object \n",
      " 1   date                    6302 non-null   object \n",
      " 2   year                    6300 non-null   float64\n",
      " 3   type                    6298 non-null   object \n",
      " 4   country                 6252 non-null   object \n",
      " 5   area                    5847 non-null   object \n",
      " 6   location                5762 non-null   object \n",
      " 7   activity                5758 non-null   object \n",
      " 8   name                    6092 non-null   object \n",
      " 9   sex                     5737 non-null   object \n",
      " 10  age                     3471 non-null   object \n",
      " 11  injury                  6274 non-null   object \n",
      " 12  fatal_(y/n)             5763 non-null   object \n",
      " 13  time                    2948 non-null   object \n",
      " 14  species                 3464 non-null   object \n",
      " 15  investigator_or_source  6285 non-null   object \n",
      " 16  pdf                     6302 non-null   object \n",
      " 17  href_formula            6301 non-null   object \n",
      " 18  href                    6302 non-null   object \n",
      " 19  case_number.1           6302 non-null   object \n",
      " 20  case_number.2           6302 non-null   object \n",
      " 21  original_order          6309 non-null   float64\n",
      " 22  unnamed:_22             1 non-null      object \n",
      " 23  unnamed:_23             2 non-null      object \n",
      "dtypes: float64(2), object(22)\n",
      "memory usage: 9.4 MB\n"
     ]
    }
   ],
   "source": [
    "data.info(memory_usage='deep')"
   ]
  },
  {
   "cell_type": "code",
   "execution_count": 441,
   "id": "87fc3636",
   "metadata": {},
   "outputs": [
    {
     "data": {
      "text/plain": [
       "N          4293\n",
       "Y          1388\n",
       "UNKNOWN      71\n",
       " N            7\n",
       "M             1\n",
       "2017          1\n",
       "N             1\n",
       "y             1\n",
       "Name: fatal_(y/n), dtype: int64"
      ]
     },
     "execution_count": 441,
     "metadata": {},
     "output_type": "execute_result"
    }
   ],
   "source": [
    "data[\"fatal_(y/n)\"].value_counts()"
   ]
  },
  {
   "cell_type": "code",
   "execution_count": 442,
   "id": "685d2ad0",
   "metadata": {},
   "outputs": [
    {
     "data": {
      "text/plain": [
       "M      5094\n",
       "F       637\n",
       "M         2\n",
       "N         2\n",
       "lli       1\n",
       ".         1\n",
       "Name: sex, dtype: int64"
      ]
     },
     "execution_count": 442,
     "metadata": {},
     "output_type": "execute_result"
    }
   ],
   "source": [
    "data[\"sex\"].value_counts()"
   ]
  },
  {
   "cell_type": "code",
   "execution_count": 443,
   "id": "ff4673cf",
   "metadata": {
    "scrolled": true
   },
   "outputs": [
    {
     "data": {
      "text/plain": [
       "Unprovoked      4595\n",
       "Provoked         574\n",
       "Invalid          547\n",
       "Sea Disaster     239\n",
       "Boating          203\n",
       "Boat             137\n",
       "Questionable       2\n",
       "Boatomg            1\n",
       "Name: type, dtype: int64"
      ]
     },
     "execution_count": 443,
     "metadata": {},
     "output_type": "execute_result"
    }
   ],
   "source": [
    "data[\"type\"].value_counts()"
   ]
  },
  {
   "cell_type": "code",
   "execution_count": 444,
   "id": "ff59948b",
   "metadata": {},
   "outputs": [
    {
     "data": {
      "text/plain": [
       "USA                       2229\n",
       "AUSTRALIA                 1338\n",
       "SOUTH AFRICA               579\n",
       "PAPUA NEW GUINEA           134\n",
       "NEW ZEALAND                128\n",
       "                          ... \n",
       "MALDIVE ISLANDS              1\n",
       "NICARAGUA                    1\n",
       "NORTH SEA                    1\n",
       "RED SEA / INDIAN OCEAN       1\n",
       "CEYLON (SRI LANKA)           1\n",
       "Name: country, Length: 212, dtype: int64"
      ]
     },
     "execution_count": 444,
     "metadata": {},
     "output_type": "execute_result"
    }
   ],
   "source": [
    "data[\"country\"].value_counts()"
   ]
  },
  {
   "cell_type": "code",
   "execution_count": 445,
   "id": "733c6586",
   "metadata": {},
   "outputs": [
    {
     "data": {
      "text/plain": [
       "Florida                                 1037\n",
       "New South Wales                          486\n",
       "Queensland                               311\n",
       "Hawaii                                   298\n",
       "California                               290\n",
       "                                        ... \n",
       "Ysabel Island                              1\n",
       " Lau Province                              1\n",
       "South Coast, East New Britain              1\n",
       "Between Southampton & Canary Islands       1\n",
       "Moala Island                               1\n",
       "Name: area, Length: 825, dtype: int64"
      ]
     },
     "execution_count": 445,
     "metadata": {},
     "output_type": "execute_result"
    }
   ],
   "source": [
    "data[\"area\"].value_counts()"
   ]
  },
  {
   "cell_type": "code",
   "execution_count": 446,
   "id": "e41bcd64",
   "metadata": {},
   "outputs": [
    {
     "data": {
      "text/plain": [
       "Surfing                                   971\n",
       "Swimming                                  869\n",
       "Fishing                                   431\n",
       "Spearfishing                              333\n",
       "Bathing                                   162\n",
       "                                         ... \n",
       "Playing with a frisbee in the shallows      1\n",
       "Sinking of the ferryboat Dumaguete          1\n",
       "Wreck of the Storm King                     1\n",
       "Feeding mullet to sharks                    1\n",
       "Wreck of  large double sailing canoe        1\n",
       "Name: activity, Length: 1532, dtype: int64"
      ]
     },
     "execution_count": 446,
     "metadata": {},
     "output_type": "execute_result"
    }
   ],
   "source": [
    "data[\"activity\"].value_counts()"
   ]
  },
  {
   "cell_type": "code",
   "execution_count": 353,
   "id": "1222342f",
   "metadata": {},
   "outputs": [],
   "source": [
    "#objetivo: Analizar el % de hombres muertos en USA frente al de las mujeres. "
   ]
  },
  {
   "cell_type": "code",
   "execution_count": 447,
   "id": "6f68b530",
   "metadata": {},
   "outputs": [
    {
     "data": {
      "text/plain": [
       "Int64Index([    3,     4,     5,     6,    10,    13,    14,    15,    16,\n",
       "               17,\n",
       "            ...\n",
       "             6302,  6303,  6304,  6305,  6306,  6307,  6308,  6309,  8702,\n",
       "            25722],\n",
       "           dtype='int64', length=4083)"
      ]
     },
     "execution_count": 447,
     "metadata": {},
     "output_type": "execute_result"
    }
   ],
   "source": [
    "col_usa = data[data[\"country\"]!=\"USA\"].index\n",
    "col_usa"
   ]
  },
  {
   "cell_type": "code",
   "execution_count": 448,
   "id": "397b0548",
   "metadata": {},
   "outputs": [
    {
     "data": {
      "text/plain": [
       "(2229, 24)"
      ]
     },
     "execution_count": 448,
     "metadata": {},
     "output_type": "execute_result"
    }
   ],
   "source": [
    "data.drop(col_usa, axis=0, inplace=True)\n",
    "data.shape"
   ]
  },
  {
   "cell_type": "code",
   "execution_count": 449,
   "id": "966a41f2",
   "metadata": {},
   "outputs": [
    {
     "data": {
      "text/plain": [
       "(2229, 24)"
      ]
     },
     "execution_count": 449,
     "metadata": {},
     "output_type": "execute_result"
    }
   ],
   "source": [
    "data.fillna (\"unknown\" , inplace = True )\n",
    "data.shape"
   ]
  },
  {
   "cell_type": "code",
   "execution_count": 450,
   "id": "ea327e05",
   "metadata": {},
   "outputs": [
    {
     "name": "stdout",
     "output_type": "stream",
     "text": [
      "<class 'pandas.core.frame.DataFrame'>\n",
      "Int64Index: 2229 entries, 0 to 6299\n",
      "Data columns (total 24 columns):\n",
      " #   Column                  Non-Null Count  Dtype  \n",
      "---  ------                  --------------  -----  \n",
      " 0   case_number             2229 non-null   object \n",
      " 1   date                    2229 non-null   object \n",
      " 2   year                    2229 non-null   float64\n",
      " 3   type                    2229 non-null   object \n",
      " 4   country                 2229 non-null   object \n",
      " 5   area                    2229 non-null   object \n",
      " 6   location                2229 non-null   object \n",
      " 7   activity                2229 non-null   object \n",
      " 8   name                    2229 non-null   object \n",
      " 9   sex                     2229 non-null   object \n",
      " 10  age                     2229 non-null   object \n",
      " 11  injury                  2229 non-null   object \n",
      " 12  fatal_(y/n)             2229 non-null   object \n",
      " 13  time                    2229 non-null   object \n",
      " 14  species                 2229 non-null   object \n",
      " 15  investigator_or_source  2229 non-null   object \n",
      " 16  pdf                     2229 non-null   object \n",
      " 17  href_formula            2229 non-null   object \n",
      " 18  href                    2229 non-null   object \n",
      " 19  case_number.1           2229 non-null   object \n",
      " 20  case_number.2           2229 non-null   object \n",
      " 21  original_order          2229 non-null   float64\n",
      " 22  unnamed:_22             2229 non-null   object \n",
      " 23  unnamed:_23             2229 non-null   object \n",
      "dtypes: float64(2), object(22)\n",
      "memory usage: 3.6 MB\n"
     ]
    }
   ],
   "source": [
    "data.info(memory_usage='deep')"
   ]
  },
  {
   "cell_type": "markdown",
   "id": "7580e312",
   "metadata": {},
   "source": [
    "#Ya tenemos las filas y columnas que necesitamos. ¿Qué se ha hecho?:\n",
    "- limpiar columnas (todo minúscula, quitar espacios de laterales y \"\" por _)\n",
    "- eliminar filas duplicadas. \n",
    "- eliminar todas los indices que no sean de usa. "
   ]
  },
  {
   "cell_type": "code",
   "execution_count": 358,
   "id": "d98af1dc",
   "metadata": {},
   "outputs": [],
   "source": [
    "#limpiamos \"case number\""
   ]
  },
  {
   "cell_type": "code",
   "execution_count": 451,
   "id": "6751e192",
   "metadata": {},
   "outputs": [
    {
     "data": {
      "text/plain": [
       "2012.09.02.b    2\n",
       "1962.06.11.b    2\n",
       "1913.08.27.R    2\n",
       "1923.00.00.a    2\n",
       "1980.07.00      2\n",
       "               ..\n",
       "2005.07.15      1\n",
       "2005.07.22      1\n",
       "2005.07.23      1\n",
       "2005.07.27      1\n",
       "ND.0003         1\n",
       "Name: case_number, Length: 2222, dtype: int64"
      ]
     },
     "execution_count": 451,
     "metadata": {},
     "output_type": "execute_result"
    }
   ],
   "source": [
    "data[\"case_number\"].value_counts()"
   ]
  },
  {
   "cell_type": "code",
   "execution_count": 452,
   "id": "51634b49",
   "metadata": {},
   "outputs": [],
   "source": [
    "data.case_number = data.case_number.str.replace('\\(', '')"
   ]
  },
  {
   "cell_type": "code",
   "execution_count": 361,
   "id": "828850aa",
   "metadata": {},
   "outputs": [],
   "source": [
    "#limpiamos \"area\""
   ]
  },
  {
   "cell_type": "code",
   "execution_count": 459,
   "id": "f9c4c452",
   "metadata": {},
   "outputs": [
    {
     "data": {
      "text/html": [
       "<div>\n",
       "<style scoped>\n",
       "    .dataframe tbody tr th:only-of-type {\n",
       "        vertical-align: middle;\n",
       "    }\n",
       "\n",
       "    .dataframe tbody tr th {\n",
       "        vertical-align: top;\n",
       "    }\n",
       "\n",
       "    .dataframe thead th {\n",
       "        text-align: right;\n",
       "    }\n",
       "</style>\n",
       "<table border=\"1\" class=\"dataframe\">\n",
       "  <thead>\n",
       "    <tr style=\"text-align: right;\">\n",
       "      <th></th>\n",
       "      <th>case_number</th>\n",
       "      <th>date</th>\n",
       "      <th>year</th>\n",
       "      <th>type</th>\n",
       "      <th>country</th>\n",
       "      <th>area</th>\n",
       "      <th>location</th>\n",
       "      <th>activity</th>\n",
       "      <th>name</th>\n",
       "      <th>sex</th>\n",
       "      <th>...</th>\n",
       "      <th>species</th>\n",
       "      <th>investigator_or_source</th>\n",
       "      <th>pdf</th>\n",
       "      <th>href_formula</th>\n",
       "      <th>href</th>\n",
       "      <th>case_number.1</th>\n",
       "      <th>case_number.2</th>\n",
       "      <th>original_order</th>\n",
       "      <th>unnamed:_22</th>\n",
       "      <th>unnamed:_23</th>\n",
       "    </tr>\n",
       "  </thead>\n",
       "  <tbody>\n",
       "    <tr>\n",
       "      <th>0</th>\n",
       "      <td>2018.06.25</td>\n",
       "      <td>25-Jun-2018</td>\n",
       "      <td>2018.0</td>\n",
       "      <td>Boating</td>\n",
       "      <td>USA</td>\n",
       "      <td>None</td>\n",
       "      <td>Oceanside, San Diego County</td>\n",
       "      <td>Paddling</td>\n",
       "      <td>Julie Wolfe</td>\n",
       "      <td>F</td>\n",
       "      <td>...</td>\n",
       "      <td>White shark</td>\n",
       "      <td>R. Collier, GSAF</td>\n",
       "      <td>2018.06.25-Wolfe.pdf</td>\n",
       "      <td>http://sharkattackfile.net/spreadsheets/pdf_di...</td>\n",
       "      <td>http://sharkattackfile.net/spreadsheets/pdf_di...</td>\n",
       "      <td>2018.06.25</td>\n",
       "      <td>2018.06.25</td>\n",
       "      <td>6303.0</td>\n",
       "      <td>unknown</td>\n",
       "      <td>unknown</td>\n",
       "    </tr>\n",
       "    <tr>\n",
       "      <th>1</th>\n",
       "      <td>2018.06.18</td>\n",
       "      <td>18-Jun-2018</td>\n",
       "      <td>2018.0</td>\n",
       "      <td>Unprovoked</td>\n",
       "      <td>USA</td>\n",
       "      <td>None</td>\n",
       "      <td>St. Simon Island, Glynn County</td>\n",
       "      <td>Standing</td>\n",
       "      <td>Adyson McNeely</td>\n",
       "      <td>F</td>\n",
       "      <td>...</td>\n",
       "      <td>unknown</td>\n",
       "      <td>K.McMurray, TrackingSharks.com</td>\n",
       "      <td>2018.06.18-McNeely.pdf</td>\n",
       "      <td>http://sharkattackfile.net/spreadsheets/pdf_di...</td>\n",
       "      <td>http://sharkattackfile.net/spreadsheets/pdf_di...</td>\n",
       "      <td>2018.06.18</td>\n",
       "      <td>2018.06.18</td>\n",
       "      <td>6302.0</td>\n",
       "      <td>unknown</td>\n",
       "      <td>unknown</td>\n",
       "    </tr>\n",
       "    <tr>\n",
       "      <th>2</th>\n",
       "      <td>2018.06.09</td>\n",
       "      <td>09-Jun-2018</td>\n",
       "      <td>2018.0</td>\n",
       "      <td>Invalid</td>\n",
       "      <td>USA</td>\n",
       "      <td>None</td>\n",
       "      <td>Habush, Oahu</td>\n",
       "      <td>Surfing</td>\n",
       "      <td>John Denges</td>\n",
       "      <td>M</td>\n",
       "      <td>...</td>\n",
       "      <td>unknown</td>\n",
       "      <td>K.McMurray, TrackingSharks.com</td>\n",
       "      <td>2018.06.09-Denges.pdf</td>\n",
       "      <td>http://sharkattackfile.net/spreadsheets/pdf_di...</td>\n",
       "      <td>http://sharkattackfile.net/spreadsheets/pdf_di...</td>\n",
       "      <td>2018.06.09</td>\n",
       "      <td>2018.06.09</td>\n",
       "      <td>6301.0</td>\n",
       "      <td>unknown</td>\n",
       "      <td>unknown</td>\n",
       "    </tr>\n",
       "    <tr>\n",
       "      <th>7</th>\n",
       "      <td>2018.05.27</td>\n",
       "      <td>27-May-2018</td>\n",
       "      <td>2018.0</td>\n",
       "      <td>Unprovoked</td>\n",
       "      <td>USA</td>\n",
       "      <td>None</td>\n",
       "      <td>Lighhouse Point Park, Ponce Inlet, Volusia County</td>\n",
       "      <td>Fishing</td>\n",
       "      <td>male</td>\n",
       "      <td>M</td>\n",
       "      <td>...</td>\n",
       "      <td>Lemon shark, 3'</td>\n",
       "      <td>K. McMurray, TrackingSharks.com</td>\n",
       "      <td>2018.05.27-Ponce.pdf</td>\n",
       "      <td>http://sharkattackfile.net/spreadsheets/pdf_di...</td>\n",
       "      <td>http://sharkattackfile.net/spreadsheets/pdf_di...</td>\n",
       "      <td>2018.05.27</td>\n",
       "      <td>2018.05.27</td>\n",
       "      <td>6296.0</td>\n",
       "      <td>unknown</td>\n",
       "      <td>unknown</td>\n",
       "    </tr>\n",
       "    <tr>\n",
       "      <th>8</th>\n",
       "      <td>2018.05.26.b</td>\n",
       "      <td>26-May-2018</td>\n",
       "      <td>2018.0</td>\n",
       "      <td>Unprovoked</td>\n",
       "      <td>USA</td>\n",
       "      <td>None</td>\n",
       "      <td>Cocoa Beach, Brevard  County</td>\n",
       "      <td>Walking</td>\n",
       "      <td>Cody High</td>\n",
       "      <td>M</td>\n",
       "      <td>...</td>\n",
       "      <td>Bull shark, 6'</td>\n",
       "      <td>K.McMurray, TrackingSharks.com</td>\n",
       "      <td>2018.05.26.b-High.pdf</td>\n",
       "      <td>http://sharkattackfile.net/spreadsheets/pdf_di...</td>\n",
       "      <td>http://sharkattackfile.net/spreadsheets/pdf_di...</td>\n",
       "      <td>2018.05.26.b</td>\n",
       "      <td>2018.05.26.b</td>\n",
       "      <td>6295.0</td>\n",
       "      <td>unknown</td>\n",
       "      <td>unknown</td>\n",
       "    </tr>\n",
       "  </tbody>\n",
       "</table>\n",
       "<p>5 rows × 24 columns</p>\n",
       "</div>"
      ],
      "text/plain": [
       "    case_number         date    year        type country  area  \\\n",
       "0    2018.06.25  25-Jun-2018  2018.0     Boating     USA  None   \n",
       "1    2018.06.18  18-Jun-2018  2018.0  Unprovoked     USA  None   \n",
       "2    2018.06.09  09-Jun-2018  2018.0     Invalid     USA  None   \n",
       "7    2018.05.27  27-May-2018  2018.0  Unprovoked     USA  None   \n",
       "8  2018.05.26.b  26-May-2018  2018.0  Unprovoked     USA  None   \n",
       "\n",
       "                                            location  activity  \\\n",
       "0                        Oceanside, San Diego County  Paddling   \n",
       "1                     St. Simon Island, Glynn County  Standing   \n",
       "2                                       Habush, Oahu   Surfing   \n",
       "7  Lighhouse Point Park, Ponce Inlet, Volusia County   Fishing   \n",
       "8                       Cocoa Beach, Brevard  County   Walking   \n",
       "\n",
       "              name sex  ...          species           investigator_or_source  \\\n",
       "0      Julie Wolfe   F  ...      White shark                 R. Collier, GSAF   \n",
       "1  Adyson McNeely    F  ...          unknown   K.McMurray, TrackingSharks.com   \n",
       "2      John Denges   M  ...          unknown   K.McMurray, TrackingSharks.com   \n",
       "7             male   M  ...  Lemon shark, 3'  K. McMurray, TrackingSharks.com   \n",
       "8        Cody High   M  ...   Bull shark, 6'   K.McMurray, TrackingSharks.com   \n",
       "\n",
       "                      pdf                                       href_formula  \\\n",
       "0    2018.06.25-Wolfe.pdf  http://sharkattackfile.net/spreadsheets/pdf_di...   \n",
       "1  2018.06.18-McNeely.pdf  http://sharkattackfile.net/spreadsheets/pdf_di...   \n",
       "2   2018.06.09-Denges.pdf  http://sharkattackfile.net/spreadsheets/pdf_di...   \n",
       "7    2018.05.27-Ponce.pdf  http://sharkattackfile.net/spreadsheets/pdf_di...   \n",
       "8   2018.05.26.b-High.pdf  http://sharkattackfile.net/spreadsheets/pdf_di...   \n",
       "\n",
       "                                                href case_number.1  \\\n",
       "0  http://sharkattackfile.net/spreadsheets/pdf_di...    2018.06.25   \n",
       "1  http://sharkattackfile.net/spreadsheets/pdf_di...    2018.06.18   \n",
       "2  http://sharkattackfile.net/spreadsheets/pdf_di...    2018.06.09   \n",
       "7  http://sharkattackfile.net/spreadsheets/pdf_di...    2018.05.27   \n",
       "8  http://sharkattackfile.net/spreadsheets/pdf_di...  2018.05.26.b   \n",
       "\n",
       "  case_number.2 original_order unnamed:_22 unnamed:_23  \n",
       "0    2018.06.25         6303.0     unknown     unknown  \n",
       "1    2018.06.18         6302.0     unknown     unknown  \n",
       "2    2018.06.09         6301.0     unknown     unknown  \n",
       "7    2018.05.27         6296.0     unknown     unknown  \n",
       "8  2018.05.26.b         6295.0     unknown     unknown  \n",
       "\n",
       "[5 rows x 24 columns]"
      ]
     },
     "execution_count": 459,
     "metadata": {},
     "output_type": "execute_result"
    }
   ],
   "source": [
    "data.head()"
   ]
  },
  {
   "cell_type": "code",
   "execution_count": 460,
   "id": "b1942ea5",
   "metadata": {},
   "outputs": [
    {
     "data": {
      "text/plain": [
       "Series([], Name: area, dtype: int64)"
      ]
     },
     "execution_count": 460,
     "metadata": {},
     "output_type": "execute_result"
    }
   ],
   "source": [
    "data[\"area\"].value_counts()"
   ]
  },
  {
   "cell_type": "code",
   "execution_count": 461,
   "id": "992ce691",
   "metadata": {},
   "outputs": [
    {
     "ename": "AttributeError",
     "evalue": "'NoneType' object has no attribute 'strip'",
     "output_type": "error",
     "traceback": [
      "\u001b[1;31m---------------------------------------------------------------------------\u001b[0m",
      "\u001b[1;31mAttributeError\u001b[0m                            Traceback (most recent call last)",
      "Input \u001b[1;32mIn [461]\u001b[0m, in \u001b[0;36m<cell line: 3>\u001b[1;34m()\u001b[0m\n\u001b[0;32m      1\u001b[0m lim_area\u001b[38;5;241m=\u001b[39m[]\n\u001b[0;32m      3\u001b[0m \u001b[38;5;28;01mfor\u001b[39;00m i \u001b[38;5;129;01min\u001b[39;00m data[\u001b[38;5;124m\"\u001b[39m\u001b[38;5;124marea\u001b[39m\u001b[38;5;124m\"\u001b[39m]:\n\u001b[1;32m----> 4\u001b[0m     a\u001b[38;5;241m=\u001b[39m(\u001b[43mi\u001b[49m\u001b[38;5;241;43m.\u001b[39;49m\u001b[43mstrip\u001b[49m())\n\u001b[0;32m      5\u001b[0m     b\u001b[38;5;241m=\u001b[39m(a\u001b[38;5;241m.\u001b[39mlower())\n\u001b[0;32m      6\u001b[0m     lim_area\u001b[38;5;241m.\u001b[39mappend(b)\n",
      "\u001b[1;31mAttributeError\u001b[0m: 'NoneType' object has no attribute 'strip'"
     ]
    }
   ],
   "source": [
    "lim_area=[]\n",
    "\n",
    "for i in data[\"area\"]:\n",
    "    a=(i.strip())\n",
    "    b=(a.lower())\n",
    "    lim_area.append(b)\n",
    "    \n",
    "data.area=lim_area"
   ]
  },
  {
   "cell_type": "code",
   "execution_count": 462,
   "id": "f1715565",
   "metadata": {},
   "outputs": [],
   "source": [
    "data.area=data.area.replace(['mississippi', 'misisipi'],\n",
    "                              inplace = True)"
   ]
  },
  {
   "cell_type": "code",
   "execution_count": 463,
   "id": "18f22160",
   "metadata": {},
   "outputs": [
    {
     "data": {
      "text/plain": [
       "Series([], Name: area, dtype: int64)"
      ]
     },
     "execution_count": 463,
     "metadata": {},
     "output_type": "execute_result"
    }
   ],
   "source": [
    "data[\"area\"].value_counts()"
   ]
  },
  {
   "cell_type": "code",
   "execution_count": 367,
   "id": "cef43480",
   "metadata": {},
   "outputs": [],
   "source": [
    "#limpiamos \"sex\""
   ]
  },
  {
   "cell_type": "code",
   "execution_count": 464,
   "id": "722188eb",
   "metadata": {},
   "outputs": [
    {
     "data": {
      "text/plain": [
       "M          1792\n",
       "F           337\n",
       "unknown      98\n",
       "M             1\n",
       "lli           1\n",
       "Name: sex, dtype: int64"
      ]
     },
     "execution_count": 464,
     "metadata": {},
     "output_type": "execute_result"
    }
   ],
   "source": [
    "data[\"sex\"].value_counts()"
   ]
  },
  {
   "cell_type": "code",
   "execution_count": 465,
   "id": "5b5450d7",
   "metadata": {},
   "outputs": [],
   "source": [
    "lim_sex=[]\n",
    "\n",
    "for i in data[\"sex\"]:\n",
    "    a=(i.strip())\n",
    "    b=(a.lower())\n",
    "    lim_sex.append(b)\n",
    "    \n",
    "data.sex=lim_sex"
   ]
  },
  {
   "cell_type": "code",
   "execution_count": 466,
   "id": "2560c662",
   "metadata": {},
   "outputs": [
    {
     "data": {
      "text/plain": [
       "m          1793\n",
       "f           337\n",
       "unknown      98\n",
       "lli           1\n",
       "Name: sex, dtype: int64"
      ]
     },
     "execution_count": 466,
     "metadata": {},
     "output_type": "execute_result"
    }
   ],
   "source": [
    "data[\"sex\"].value_counts()"
   ]
  },
  {
   "cell_type": "code",
   "execution_count": 467,
   "id": "6b40869b",
   "metadata": {},
   "outputs": [
    {
     "data": {
      "text/plain": [
       "(2229, 24)"
      ]
     },
     "execution_count": 467,
     "metadata": {},
     "output_type": "execute_result"
    }
   ],
   "source": [
    "data.shape"
   ]
  },
  {
   "cell_type": "code",
   "execution_count": 468,
   "id": "9e209132",
   "metadata": {},
   "outputs": [],
   "source": [
    "#limpiamos \"fatal\""
   ]
  },
  {
   "cell_type": "code",
   "execution_count": 469,
   "id": "77c829a5",
   "metadata": {},
   "outputs": [
    {
     "data": {
      "text/plain": [
       "N          1837\n",
       "unknown     188\n",
       "Y           186\n",
       "UNKNOWN      18\n",
       "Name: fatal_(y/n), dtype: int64"
      ]
     },
     "execution_count": 469,
     "metadata": {},
     "output_type": "execute_result"
    }
   ],
   "source": [
    "data[\"fatal_(y/n)\"].value_counts()"
   ]
  },
  {
   "cell_type": "code",
   "execution_count": 470,
   "id": "e32f3404",
   "metadata": {},
   "outputs": [],
   "source": [
    "lim_fatal=[]\n",
    "\n",
    "for i in data[\"fatal_(y/n)\"]:\n",
    "    lim_fatal.append(i.strip().lower())\n",
    "    \n",
    "data[\"fatal_(y/n)\"] = lim_fatal"
   ]
  },
  {
   "cell_type": "code",
   "execution_count": 471,
   "id": "80bf9546",
   "metadata": {},
   "outputs": [
    {
     "data": {
      "text/plain": [
       "n          1837\n",
       "unknown     206\n",
       "y           186\n",
       "Name: fatal_(y/n), dtype: int64"
      ]
     },
     "execution_count": 471,
     "metadata": {},
     "output_type": "execute_result"
    }
   ],
   "source": [
    "data[\"fatal_(y/n)\"].value_counts()"
   ]
  },
  {
   "cell_type": "code",
   "execution_count": 376,
   "id": "237d468b",
   "metadata": {},
   "outputs": [],
   "source": [
    "# limpiamos \"year\"\n"
   ]
  },
  {
   "cell_type": "code",
   "execution_count": 472,
   "id": "ee86a51d",
   "metadata": {},
   "outputs": [
    {
     "data": {
      "text/plain": [
       "2015.0    73\n",
       "2014.0    66\n",
       "2007.0    66\n",
       "2017.0    65\n",
       "2016.0    64\n",
       "          ..\n",
       "1862.0     1\n",
       "1860.0     1\n",
       "1859.0     1\n",
       "1857.0     1\n",
       "1927.0     1\n",
       "Name: year, Length: 180, dtype: int64"
      ]
     },
     "execution_count": 472,
     "metadata": {},
     "output_type": "execute_result"
    }
   ],
   "source": [
    "data[\"year\"].value_counts()"
   ]
  },
  {
   "cell_type": "code",
   "execution_count": 473,
   "id": "01ff8373",
   "metadata": {},
   "outputs": [
    {
     "data": {
      "text/plain": [
       "array([2018., 2017., 2016., 2015., 2014., 2013., 2012., 2011., 2010.,\n",
       "       2009., 2008., 2007., 2006., 2005., 2004., 2003., 2002., 2001.,\n",
       "       2000., 1999., 1998., 1997., 1996., 1995., 1994., 1993., 1992.,\n",
       "       1991., 1990., 1989., 1988., 1987., 1986., 1985., 1984., 1983.,\n",
       "       1982., 1981., 1980., 1979., 1978., 1977., 1976., 1975., 1974.,\n",
       "       1973., 1972., 1971., 1970., 1969., 1968., 1967., 1966., 1965.,\n",
       "       1964., 1963., 1962., 1961., 1960., 1959., 1958., 1957., 1956.,\n",
       "       1955., 1954., 1953., 1952., 1951., 1950., 1949., 1948., 1947.,\n",
       "       1945., 1944., 1943., 1942., 1941., 1940., 1939., 1938., 1937.,\n",
       "       1936., 1935., 1934., 1933., 1932., 1931., 1930., 1929., 1928.,\n",
       "       1927., 1926., 1925., 1924., 1923., 1922., 1920., 1919., 1918.,\n",
       "       1917., 1916., 1915., 1914., 1913., 1912., 1911., 1910., 1909.,\n",
       "       1908., 1907., 1906., 1905., 1904., 1903., 1902., 1901., 1900.,\n",
       "       1899., 1898., 1897., 1896., 1895., 1894., 1892., 1891., 1890.,\n",
       "       1889., 1888., 1887., 1886., 1885., 1884., 1883., 1882., 1881.,\n",
       "       1880., 1879., 1878., 1876., 1874., 1873., 1872., 1871., 1870.,\n",
       "       1866., 1865., 1864., 1863., 1862., 1860., 1859., 1858., 1857.,\n",
       "       1855., 1853., 1852., 1851., 1850., 1849., 1848., 1847., 1845.,\n",
       "       1842., 1840., 1837., 1831., 1830., 1829., 1828., 1817., 1816.,\n",
       "       1810., 1805., 1803., 1780., 1779., 1771., 1751., 1642.,    0.])"
      ]
     },
     "execution_count": 473,
     "metadata": {},
     "output_type": "execute_result"
    }
   ],
   "source": [
    "data[\"year\"].unique()"
   ]
  },
  {
   "cell_type": "code",
   "execution_count": 379,
   "id": "01812001",
   "metadata": {},
   "outputs": [],
   "source": [
    "# limpiamos \"year\""
   ]
  },
  {
   "cell_type": "code",
   "execution_count": 474,
   "id": "93b4adfc",
   "metadata": {},
   "outputs": [],
   "source": [
    "data[\"year\"] = data[\"year\"].astype(str)"
   ]
  },
  {
   "cell_type": "code",
   "execution_count": 475,
   "id": "fce07fdb",
   "metadata": {},
   "outputs": [
    {
     "data": {
      "text/plain": [
       "05-Oct-2003             5\n",
       "28-Jul-1995             5\n",
       "12-Apr-2001             5\n",
       "20-Sep-2015             4\n",
       "Reported 10-Oct-1906    4\n",
       "                       ..\n",
       "Sep-2003                1\n",
       "17-Sep-2003             1\n",
       "19-Sep-2003             1\n",
       "21-Sep-2003             1\n",
       "1900-1905               1\n",
       "Name: date, Length: 1993, dtype: int64"
      ]
     },
     "execution_count": 475,
     "metadata": {},
     "output_type": "execute_result"
    }
   ],
   "source": [
    "data[\"date\"].value_counts()"
   ]
  },
  {
   "cell_type": "code",
   "execution_count": 476,
   "id": "a0ad043e",
   "metadata": {},
   "outputs": [
    {
     "name": "stdout",
     "output_type": "stream",
     "text": [
      "['25-Jun-2018', '18-Jun-2018', '09-Jun-2018', '27-May-2018', '26-May-2018', '21-May-2018', '13-May-2018', '19-Apr-2018', '31-Mar-2018', '31-Dec-2017', '30-Dec-2017', '24-Nov-2017', '18-Nov-2017', '26-Oct-2017', '23-Oct-2017', '18-Oct-2017', '09-Oct-2017', '05-Oct-2017', '25-Sep-2017', '24-Sep-2017', '20-Sep-2017', '16-Sep-2017', '13-Sep-2017', '02-Sep-2017', '27-Aug-2017', '23-Aug-2017', '10-Aug-2017', '03-Aug-2017', '01-Aug-2017', '31-Jul-2017', '29-Jul-2017', '23-Jul-2017', '22-Jul-2017', '20-Jul-2017', '14-Jul-2017', '11-Jul-2017', '09-Jul-2017', '29-Jun-2017', '21-Jun-2017', '19-Jun-2017', '18-Jun-2017', '10-Jun-2017', '04-Jun-2017', '30-May-2017', '28-May-2017', '03-May-2017', '29-Apr-2017', '26-Apr-2017', '20-Apr-2017', '17-Apr-2017', '14-Apr-2017', '13-Apr-2017', '12-Apr-2017', '11-Apr-2017', '10-Apr-2017', '06-Apr-2017', '05-Apr-2017', '02-Apr-2017', '27-Mar-2017', '18-Mar-2017', '11-Feb-2017', '01-Feb-2017', '22-Jan-2017', '13-Jan-2017', '05-Jan-2017', '27-Dec-2016', '11-Dec-2016', '14-Nov-2016', '30-Oct-2016', '29-Oct-2016', '21-Oct-2016', '14-Oct-2016', '10-Oct-2016', '02-Oct-2016', '01-Oct-2016', '18-Sep-2016', '17-Sep-2016', '11-Sep-2016', '07-Sep-2016', '05-Sep-2016', '04-Sep-2016', '01-Sep-2016', '29-Aug-2016', '25-Aug-2016', '06-Aug-2016', '04-Aug-2016', '27-Jul-2016', '17-Jul-2016', '16-Jul-2016', '15-Jul-2016', '08-Jul-2016', '07-Jul-2016', '06-Jul-2016', '27-Jun-2016', '25-Jun-2016', '21-Jun-2016', '15-Jun-2016', '14-Jun-2016', '11-Jun-2016', '07-Jun-2016', '05-Jun-2016', '29-May-2016', '22-May-2016', '21-May-2016', '18-May-2016', '15-May-2016', '03-May-2016', '23-Apr-2016', '13-Apr-2016', '07-Apr-2016', '31-Mar-2016', '28-Mar-2016', '13-Mar-2016', '11-Mar-2016', '04-Mar-2016', '28-Jan-2016', '25-Jan-2016', '24-Jan-2016', '23-Jan-2016', '22-Dec-2015', '16-Nov-2015', '15-Nov-2015', '07-Nov-2015', '03-Nov-2015', '01-Nov-2015', '28-Oct-2015', '21-Oct-2015', '19-Oct-2015', '17-Oct-2015', '13-Oct-2015', '09-Oct-2015', '05-Oct-2015', '04-Oct-2015', '29-Sep-2015', '24-Sep-2015', '20-Sep-2015', '19-Sep-2015', '18-Sep-2015', '17-Sep-2015', '06-Sep-2015', '05-Sep-2015', '03-Sep-2015', '29-Aug-2015', '22-Aug-2015', '20-Aug-2015', '19-Aug-2015', '18-Aug-2015', '10-Aug-2015', '26-Jul-2015', '23-Jul-2015', '10-Jul-2015', '08-Jul-2015', '04-Jul-2015', '01-Jul-2015', '30-Jun-2015', '27-Jun-2015', '26-Jun-2015', '25-Jun-2015', '24-Jun-2015', '23-Jun-2015', '17-Jun-2015', '14-Jun-2015', '13-Jun-2015', '11-Jun-2015', '07-Jun-2015', '05-Jun-2015', '29-May-2015', '24-May-2015', '20-May2015', '15-May-2015', '07-May-2015', '29-Apr-2015', '26-Apr-2015', '13-Apr-2015', '03-Apr-2015', '18-Mar-2015', '27-Jan-2015', '19-Jan-2015', '08-Jan-2015', '01-Jan-2015', '28-Dec-2014', 'Reported 17-Nov-2014', '16-Nov-2014', '13-Nov-2014', '08-Nov-2014', '31-Oct-2014', '22-Oct-2014', '20-Oct-2014', '19-Oct-2014', '18-Oct-2014', '14-Oct-2014', '12-Oct-2014', '05-Oct-2014', '07-Oct-2014', '03-Oct-2014', '02-Oct-2014', '21-Sep-2014', '13-Sep-2014', '06-Sep-2014', '03-Sep-2014', '02-Sep-2014', '31-Aug-2014', '29-Aug-2014', '28-Aug-2014', '27-Aug-2014', 'Reported 25-Aug-2014', '24-Aug-2014', '12-Aug-2014', '10-Aug-2014', '09-Aug-2014', '08-Aug-2014', '06-Aug-2014', '05-Aug-2014', '02-Aug-2014', '27-Jul-2014', '21-Jul-2014', '16-Jul-2014', '14-Jul-2014', '12-Jul-2014', '9-Jul-2014', '5-Jul-2014', '3-Jul-2014', '09-Jun-2014', '07-Jun-2014', '01-Jun-2014', '15-May-2014', '13-May2014', '11-May-2014', 'Reported 10-May-2014', '06-May-2014', '01-May-2014', '22-Apr-2014', '15-Apr-2014', '04-Apr-2014', '22-Mar-2014', '21-Mar-2014', '02-Mar-2014', '2014', '11-Dec-2013', '10-Dec-2013', '02-Dec-2013', '29-Nov2013', '22-Nov-2013', '07-Nov-2013', '31-Oct-2013', '23-Oct-2013', '20-Oct-2013', '19-Oct-2013', '06-Oct-2013', '10-Oct-2013', '29-Sep-2013', ' 25-Sep-2013', ' 21-Sep-2013', ' 14-Sep-2013', ' 12-Sep-2013', '08-Sep-2013', ' 07-Sep-2013', ' 02-Sep-2013', ' 01-Sep-2013', '31-Aug-2013', '29-Aug-2013', ' 25-Aug-2013', ' 18-Aug-2013', '17-Aug-2013', ' 14-Aug-2013', ' 13-Aug-2013', '11-Aug-2013', ' 05-Aug-2013', '  31-Jul-2013', '  30-Jul-2013', '  29-Jul-2013', '19-Jul-2013', 'Reported 17-Jul-2013', '11-Jul-2013', '25-Jun-2013', '18-Jun-2013', '17-Jun-2013', '15-Jun-2013', 'Reported 14-Jun-2013', '06-Jun-2013', '27-May-2013', '08-May-2013', '04-May-2013', '17-Apr-2013', '13-Apr-2013', '04-Apr-2013', '02-Apr-2013', '21-Feb-2013', '10-Feb-2013', '16-Jan-2013', '31-Dec-2012', '05-Dec-2012', '30-Nov-2012', '19-Nov-2012', '04-Nov-2012', '30-Oct-2012', '27-Oct-2012', '23-Oct-2012', '19-Oct-2012', '18-Oct-2012', '16-Oct-2012', '10-Oct-2012', '25-Sep-2012', '24-Sep-2012', '16-Sep-2012', '09-Sep-2012', '08-Sep-2012', '06-Sep-2012', '04-Sep-2012', '02-Sep-2012', '15-Aug-2012', '08-Aug-2012', '31-Jul-2012', '30-Jul-2012', '24-Jul-2012', '08-Jul-2012', '07-Jul-2012', '26-Jun-2012', '22-Jun-2012', '19-Jun-2012', '18-Jun-2012', '15-Jun-2012', '14-Jun-2012', '02-Jun-2012', '31-May-2012', '23-May-2012', '20-May-2012', '12-May-2012', '09-May-2012', '06-May-2012', '19-Apr-2012', '03-Apr-2012', 'Apr-2013', '24-Mar-2012', '15-Mar-2012', '14-Mar-2012', '04-Mar-2012', '26-Feb-2012', '27-Jan-2012', '13-Jan-2012', '31-Dec-2011', '23-Dec-2011', '21-Dec-2011', '06-Dec-2011', '22-Nov-2011', '  29-Oct-2011', '20-Oct-2011', '11-Oct-2011', '10-Oct-2011', '02-Oct-2011', '01-Oct-2011', '30-Sep-2011', '24-Sep-2011', '20-Sep-2011', '16-Sep-2011', '11-Sep-2011', '04-Sep-2011', '02-Sep-2011', '31-Aug-2011', '28-Aug-2011', '24-Aug-2011 ', '17-Aug-2011', '16-Aug--2011', '15-Aug-2011', '11-Aug--2011', '25-Jul-2011', '19-Jul-2011', '13-Jul-2011', '07-Jul-2011', '26-Jun-2008', '24-Jun-2011', '21-Jun-2011', '12-Jun-2011', '06-Jun-2011', '30-May-2011', '25-May-2011', '22-May-2011', '13-May-2011', '10-May-2011', '26-Apr-2011', '22-Apr-2011', 'Reported 29-Mar-2011', '26-Dec-2010', '11-Dec-2010', '19-Nov-2010', '28-Oct-2010', '23-Oct-2010', '22-Oct-2010', '27-Sep-2010', '24-Sep-2010', '07-Sep-2010', ' 04-Sep-2010', '03-Sep-2010', '18-Aug-2010', '14-Aug-2010', '07-Aug-2010', '05-Aug-2010', '02-Aug-2010', '25-Jul-2010', '23-Jul-2010', '19-Jul-2010', '17-Jul-2010', '16-Jul-2010', '11-Jul-2010', '03-Jul-2010', '02-Jul-2010', '27-Jun-2010', '25-Jun-2010', '10-Jun-2010', 'Jun-2010', '30-May-2010', '01-May-2010', '28-Apr-2010', '19-Apr-2010', '06-Feb-2010', '03-Feb-2010', '06-Jan-2010', '05-Dec-2009', '25-Nov-2009', '24-Nov-2009', '16-Nov-2009', '13-Nov-2009', '11-Nov-2009', '05-Nov-2009', '24-Oct-2009', '19-Oct-2009', '09-Oct-2009', '26-Sep-2009', '12-Sep-2009', '30-Aug-2009', '25-Aug-2009', '10-Aug-2009', '06-Aug-2009', '01-Aug-2009', '24-Jul-2009', '22-Jul-2009', '11-Jul-2009', '05-Jul-2009', '04-Jul-2009', '21-Jun-2009', '16-Jun-2009', '25-May-2009', '17-May-2009', '16-May-2009', '28-Apr-2009', 'Reported 25-Apr-2009', '21-Apr-2009', '19-Apr-2009', '17-Apr-2009', '11-Apr-2009', '06-Apr-2009', '03-Apr-2009', '18-Mar-2009', '17-Mar-2009', '08-Feb-2009', '20-Dec-2008', '08-Oct-2008', '28-Sep-2008', '14-Sep-2008', '09-Sep-2008', '08-Sep-2008', '06-Sep-2008', '01-Sep-2008', 'Sep-2008', '30-Aug-2008', '28-Aug-2008', '27-Aug-2008', '24-Aug-2008', '20-Aug-2008', '18-Aug-2008', '16-Aug-2008', '12-Aug-2008', '11-Aug-2008', '26-Jul-2008', '25-Jul-2008', '24-Jul-2008', '23-Jul-2008', '19-Jul-2008', '13-Jul-2008', '11-Jul-2008', '09-Jul-2008', '05-Jul-2008', '28-Jun-2008', '21-Jun-2008', '20-Jun-2008', '07-Jun-2008', '01-Jun-2008', '26-May-2008', '07-May-2008', '28-Apr-2008', '27-Apr-2008', '26-Apr-2008', '25-Apr-2008', '20-Apr-2008', '15-Apr-2008', '25-Mar-2008', 'Reported 08-Apr-2008', '03-Apr-2008', '28-Mar-2008', '23-Mar-2008', '21-Mar-2008', '15-Mar-2008', '07-Mar-2008', '15-Feb-2008', '06-Feb-2008', '10-Jan-2008', 'Fall 2008', '10-Dec-2007', '06-Nov-2007', '04-Nov-2007', '29-Oct-2007', '07-Oct-2007', '06-Oct-2007', '30-Sep-2007', '27-Sep-2007', '22-Sep-2007', '20-Sep-2007', '16-Sep-2007', '13-Sep-2007', '08-Sep-2007', '05-Sep-2007', '04-Sep-2007', '03-Sep-2007', '28-Aug-2007', '26-Aug-2007', '25-Aug-2007', '22-Aug-2007', '20-Aug-2007', '19-Aug-2007', '15-Aug-2007', '12-Aug-2007', '11-Aug-2007', '09-Aug-2007', '07-Aug-2007', '29-Jul-2007', '28-Jul-2007', '22-Jul-2007', '21-Jul-2007', '19-Jul-2007.b', '18-Jul-2007', '17-Jul-2007', '05-Jul-2007', '30-Jun-2007', '25-Jun-2007', '24-Jun-2007', '17-Jun-2007', '12-Jun-2007', '26-May-2007', '24-May-2007', '10-May-2007', '07-May-2007', '22-Apr-2007', '20-Apr-2007', 'Reported      13-Apr-2007', '01-Apr-2007', '31-Mar-2007', '21-Mar-2007', 'Reported 14-Mar-2007', '11-Mar-2007', '25-Jan-2007', '07-Jan-2007', '01-Jan-2007', '10-Dec-2006', '11-Nov-2006', '31-Oct-2006', '16-Oct-2006', '10-Oct-2006', '07-Oct-2006', '05-Oct-2006', '29-Sep-2006', 'Reported 18-Sep-2006', '16-Sep-2006', '14-Sep-2006', '11-Sep-2006', '03-Sep-2006', '02-Sep-2006', '29-Aug-2006', 'Aug-2006', '31-Jul-2006', '29-Jul-2006', '25-Jul-2006', '23-Jul-2006', '17-Jul-2006', '12-Jul-2006', '09-Jul-2006', '09-Jul-2006.', '08-Jul-2006', 'July 2006', '27-Jun-2006', '26-Jun-2006', '20-Jun-2006', '17-Jun-2006', '15-Jun-2006', '07-Jun-2006', '31-May-2006', '28-May-2006', '27-May-2006', '24-May-2006', '19-May-2006', '05-May-2006', '04-May-2006', 'Reported      23-Apr-2006', '21-Apr-2006', '19-Apr-2006', '13-Apr-2006', '03-Apr-2006', '23-Mar-2006', '27-Feb-2006', '23-Feb-2006', '01-Feb-2006', '18-Jan-2006', '04-Jan-2006', '24-Dec-2005', '21-Dec-2005', 'Reported 29-Nov-2005', '27-Nov-2005', '21-Nov-2005', '20-Nov-2005', '12-Nov-2005', '02-Nov-2005', '29-Oct-2005', '21-Oct-2005', '19-Oct-2005', '15-Oct-2005', '13-Oct-2005', '06-Oct-2005', '22-Sep-2005', '20-Sep-2005', '11-Sep-2005', '05-Sep-2005', '02-Sep-2005', '24-Aug-2005', '22-Aug-2005', '21-Aug-2005', '19-Aug-2005', '12-Aug-2005', '6-Aug-2005', '27-Jul-2005', '23-Jul-2005', '22-Jul-2005', '15-Jul-2005', '13-Jul-2005', '1-Jul-2005', '27-Jun-2005', '25-Jun-2005', '18-Jun-2005', '16-Jun-2005', '07-Jun-2005', '05-Jun-2005', '02-Jun-2005', '28-May-2005', '27-May-2005', '14-May-2005', '02-May-2005', '13-Apr-2005', '09-Apr-2005', '07-Apr-2005', '06-Apr-2005', '12-Mar-2005', '22-Feb-2005', '16-Feb-2005', '13-Feb-2005', '11-Nov-2004', '10-Oct-2004', '09-Oct-2004', '02-Oct-2004', '01-Oct-2004', '20-Sep-2004', '10-Sep-2004', '04-Sep-2004', '29-Aug-2004', '20-Aug-2004', '15-Aug-2004', '06-Aug-2004', '31-Jul-2004', '28-Jul-2004', '27-Jul-2004', '25-Jul-2004', '02-Jul-2004', '26-Jun-2004', '14-Jun-2004', '10-Jun-2004', '29-May-2004', '28-May-2004', '23-May-2004', '22-May-2004', '04-May-2004', '07-Apr-2004', '04-Apr-2004', '31-Mar-2004', '28-Mar-2004', '27-Mar-2004', '14-Mar-2004', '16-Mar-2004', '26-Dec-2003', '13-Dec-2003', '22-Nov-2003', '12-Nov-2003', '31-Oct-2003', '27-Oct-2003', '24-Oct-2003', '14-Oct-2003', '06-Oct-2003', '05-Oct-2003', '28-Sep-2003', '21-Sep-2003', '19-Sep-2003', '17-Sep-2003', '14-Sep-2003', '13-Sep-2003', 'Sep-2003', '29-Aug-2003', '19-Aug-2003', '12-Aug-2003', '20-Jul-2003', '15-Jul-2003', '05-Jul-2003', 'Jul-2003', '30-Jun-2003', '26-Jun-2003', '24-Jun-2003', '22-Jun-2003', '19-Jun-2003', '08-Jun-2003', 'Jun-2003', '25-May-2003', '14-May-2003', '10-May-2003', '07-May-2003', '03-May-2003', '21-Apr-2003', '20-Apr-2003', '19-Apr-2003', '18-Apr-2003', '15-Apr-2003', '09-Apr-2003', '04-Apr-2003', '10-Mar-2003', '15-Feb-2003', '28-Nov-2002', '17-Nov-2002', '11-Nov-2002', '02-Nov-2002', '30-Oct-2002', '11-Oct-2002', '05-Oct-2002', '03-Oct-2002', '30-Sep-2002', '29-Sep-2002', '27-Sep-2002', '21-Sep-2002', '16-Sep-2002', '09-Sep-2002', '05-Sep-2002', '28-Aug-2002', '17-Aug-2002', '14-Aug-2002', '11-Aug-2002', '07-Aug-2002', '05-Aug-2002', '26-Jul-2002', '20-Jul-2002', '10-Jul-2002', '09-Jul-2002', '04-Jul-2002', '20-Jun-2002', '11-Jun-2002', '10-Jun-2002', '09-Jun-2002', '31-May-2002', '22-May-2002', '13-May-2002', '20-Apr-2002', '18-Apr-2002', '02-Apr-2002', '01-Apr-2002', '25-Mar-2002', '19-Mar-2002', '15-Mar-2002', '01-Jan-2002', '14-Nov-2001', '24-Sep-2001', '18-Sep-2001', '16-Sep-2001', '15-Sep-2001', '08-Sep-2001', '07-Sep-2001', '03-Sep-2001', '02-Sep-2001', '01-Sep-2001', '29-Aug-2001', '27-Aug-2001', '26-Aug-2001', '25-Aug-2001', '22-Aug-2001', '21-Aug-2001', '19-Aug-2001', '18-Aug-2001', '05-Aug-2001', '26-Jul-2001', '25-Jul-2001', '24-Jul-2001', '21-Jul-2001', '15-Jul-2001', '06-Jul-2001', '03-Jul-2001', 'Jul-2001', '12-Jun-2001', '10-Jun-2001', '03-Jun-2001', '29-May-2001', '23-May-2001', '20-May-2001', '03-May-2001', '28-Apr-2001', '13-Apr-2001', '12-Apr-2001', '11-Apr-2001', '10-Apr-2001', '05-Apr-2001', '23-Mar-2001', '09-Mar-2001', '09-Jan-2001', '17-Nov-2000', '10-Nov-2000', '04-Nov-2000', '20-Oct-2000', '18-Oct-2000', '14-Oct-2000', '09-Oct-2000', '06-Oct-2000', '02-Oct-2000', '29-Sep-2000', '16-Sep-2000', '15-Sep-2000', '12-Sep-2000', '11-Sep-2000', '10-Sep-2000', '08-Sep-2000', '31-Aug-2000', '30-Aug-2000', 'Reported 27-Aug-2000', '21-Aug-2000', '15-Aug-2000', '13-Aug-2000', '12-Aug-2000', '11-Aug-2000', '10-Aug-2000', '25-Jul-2000', '22-Jul-2000', '17-Jul-2000', '16-Jul-2000', '10-Jul-2000', '09-Jul-2000', '07-Jul-2000', '06-Jul-2000', '04-Jul-2000', '02-Jul-2000', '19-Jun-2000', '13-Jun-2000', '10-Jun-2000', '09-Jun-2000', '02-Jun-2000', '14-Apr-2000', '09-Apr-2000', '31-Mar-2000', '26-Mar-2000', '24-Mar-2000', 'Mar-2000', '21-Feb-2000', '2000', '14-Dec-1999', '02-Dec-1999', '30-Nov-1999', '23-Nov-1999', '15-Nov-1999', '30-Oct-1999', '20-Oct-1999', '01-Oct-1999', '29-Sep-1999', '19-Sep-1999', 'Reported 16-Sep-1999', '10-Sep-1999', '05-Sep-1999', '04-Sep-1999', '26-Aug-1999', '24-Aug-1999', '21-Aug-1999', '16-Aug-1999', '05-Aug-1999', '26-Jul-1999', '21-Jul-1999', '06-Jul-1999', '04-Jul-1999', '19-Jun-1999', '17-Jun-1999', '12-Jun-1999', '09-Jun-1999', '01-Apr-1999', '18-Mar-1999', '08-Mar-1999', '05-Mar-1999', '26-Feb-1999', '03-Feb-1999', '1999', '24-Dec-1998', '21-Nov-1998', '14-Nov-1998', '11-Nov-1998', '05-Nov-1998', '24-Oct-1998', '10-Oct-1998', '01-Oct-1998', '27-Sep-1998', '22-Sep-1998', '14-Sep-1998', '30-Aug-1998', '26-Aug-1998', 'Reported      23-Aug-1998', '13-Aug-1998', '25-Jul-1998', '08-Jun-1998', '25-May-1998', '16-May-1998', '21-Apr-1998', '17-Apr-1998', '31-Mar-1998', '08-Mar-1998', '23-Feb-1998', '1998 ', '25-Dec-1997', 'Reported 05-Nov-1997', '28-Oct-1997', '24-Oct-1997', '21-Oct-1997', '04-Oct-1997', '09-Sep-1997', '08-Sep-1997', '06-Sep-1997', '30-Aug-1997', '27-Aug-1997', '24-Aug-1997', '11-Aug-1997', '10-Aug-1997', '09-Aug-1997', '05-Aug-1997', '04-Aug-1997', '02-Aug-1997', '14-Jul-1997', '24-Jun-1997', '09-Jun-1997', '02-Jun-1997', '31-May-1997', '21-Feb-1997', '29-Nov-1996', '18-Nov-1996', '05-Oct-1996', '03-Oct-1996', '18-Sep-1996', '06-Sep-1996', '02-Sep-1996', '01-Sep-1996', '29-Aug-1996', '13-Aug-1996', '11-Aug-1996', '26-Jul-1996', '21-Jul-1996', '20-Jul-1996', '14-Jul-1996', '10-Jul-1996', '04-Jul-1996', '25-Jun-1996', '18-May-1996', '07-May-1996', '28-Apr-1996', 'Reported      19-Feb-1996', '23-Jan-1996', '16-Jan-1996', '1996', '18-Dec-1995', '25-Nov-1995', 'Reported 28-Oct-1995', '21-Oct-1995', '01-Oct-1995', '30-Sep-1995', '28-Sep-1995', '19-Sep-1995', '17-Sep-1995', '13-Sep-1995', '03-Sep-1995', '31-Aug-1995', '26-Aug-1995', '25-Aug-1995', '22-Aug-1995', '21-Aug-1995', '15-Aug-1995', '13-Aug-1995', '10-Aug-1995', '07-Aug-1995', 'Aug-1995', '28-Jul-1995', '24-Jul-1995', '23-Jul-1995', '06-Jul-1995', '03-Jul-1995', 'Early Jul-1995', '30-Jun-1995', '24-Jun-1995', '23-Jun-1995', '17-Jun-1995', '16-Jun-1995', '14-Jun-1995', '26-May-1995', '16-Apr-1995', '13-Apr-1995', '1995', '18-Dec-1994', '09-Dec-1994', '13-Nov-1994', '06-Nov-1994', '09-Oct-1994', '05-Oct-1994', '26-Sep-1994', '21-Sep-1994', 'Reported 11-Sep-1994', '05-Sep-1994', '08-Jul-1994', '31-May-1994', '28-May-1994', '24-May-1994', '23-May-1994', '15-May-1994', 'Reported 16-Apr-1994', '03-Apr-1994', '07-Mar-1994', '19-Feb-1994', '13-Feb-1994', '31-Jan-1994', '1994', 'Dec-1993', '28-Nov-1993', '12-Nov-1993', '30-Oct-1993', '26-Oct-1993', '10-Oct-1993', 'Oct-1993', '14-Sep-1993', '09-Sep-1993', 'Reported      19-Aug-1993', ' 19-Aug-1993', '15-Aug-1993', '12-Aug-1993', '07-Jul-1993', '10-Jun-1993', 'Jun-1993', '22-Mar-1993', '14-Mar-1993', '12-Mar-1993', '02-Jan-1993', '1993', '28-Dec-1992', '23-Dec-1992', '29-Nov-1992', '25-Nov-1992', '23-Nov-1992', '14-Nov-1992', '11-Nov-1992', '06-Nov-1992', '05-Nov-1992', '29-Oct-1992', '22-Oct-1992', '13-Sep-1992', '11-Sep-1992', 'Sep-1992', '21-Aug-1992', '18-Aug-1992', '17-Aug-1992', 'Aug-1992', '23-Jul-1992', '21-Jul-1992', '31-May-1992', '28-Mar-1992', '08-Mar-1992', '19-Feb-1992', '04-Dec-1991', '26-Nov-1991', '19-Nov-1991', '14-Nov-1991', '12-Oct-1991', '05-Oct-1991', '26-Aug-1991', '12-Aug-1991', '09-Aug-1991', '27-Jul-1991', '18-Jul-1991', '07-Jul-1991', '01-Jul-1991', 'July 1991', '26-Jun-1991', '07-Jun-1991', '26-May-1991', '16-Apr-1991', '03-Apr-1991', '24-Feb-1991', '03-Nov-1990', '01-Nov-1990', '30-Oct-1990', '20-Oct-1990', '15-Oct-1990', '12-Oct-1990', '08-Sep-1990', '05-Sep-1990', '30-Aug-1990', '28-Aug-1990', '19-Aug-1990', '22-Jul-1990', '08-Jul-1990', '01-Apr-1990', '17-Feb-1990', '05-Feb-1990', '12-Jan-1990', '1990', '19-Dec-1989', '12-Nov-1989', '14-Oct-1989', '11-Oct-1989', '08-Oct-1989', '13-Sep-1989', '10-Sep-1989', '09-Sep-1989', '03-Sep-1989', '22-Aug-1989', '14-Jul-1989', '07-Jul-1989', '29-Jun-1989', '17-Jun-1989', '23-Apr-1989', '12-Apr-1989', '09-Apr-1989', '03-Apr-1989', 'Apr-1989', '26-Jan-1989', '20-Jan-1989', '08-Jan-1989', '1989', '23-Oct-1988', '14-Oct-1988', '11-Oct-1988', '10-Oct-1988', 'Oct-1988', '28-Sep-1988', '13-Sep-1988', '22-Aug-1988', '11-Aug-1988', '11-Jul-1988', '04-Jul-1988', '16-Jun-1988', '09-Jun-1988', '05-Jun-1988', '01-Jun-1988', '10-May-1988', '04-May-1988', '24-Apr-1988', '15-Apr-1988', '14-Apr-1988', '31-Mar-1988', '25-Mar-1988', '14-Jan-1988', '17-Dec-1987', '21-Nov-1987', '26-Oct-1987', '20-Aug-1987', '15-Aug-1987', '21-Jul-1987', '12-Jul-1987', '11-Jul-1987', '13-Jun-1987', '25-May-1987', '08-May-1987', '18-Apr-1987', '15-Apr-1987', '28-Feb-1987', '11-Dec-1986', '06-Dec-1986', '30-Nov-1986', '19-Nov-1986', '04-Nov-1986', '03-Oct-1986', 'Oct-1986', 'Reported 22-Sep-1986 ', 'Sep-1986', '19-Aug-1986', '09-Jul-1986', '20-Apr-1986', '12-Jan-1986', '1986', '10-Dec-1985', '05-Nov-1985', '03-Nov-1985', '22-Oct-1985', '18-Oct-1985', '12-Oct-1985', '  05-Oct-1985', '28-Sep-1985', '08-Sep-1985', '05-Sep-1985', '22-Aug-1985', '20-Aug-1985', '17-Aug-1985', '25-Jul-1985', '21-Jul-1985', '19-Jul-1985', '26-May-1985', '16-Mar-1985', '18-Feb-1985', '03-Feb-1985', '11-Nov-1984', '04-Nov-1984', '21-Oct-1984', '17-Oct-1984', '14-Oct-1984', '30-Sep-1984', '23-Sep-1984', '22-Sep-1984', '19-Sep-1984', '17-Sep-1984', '15-Sep-1984', '24-Aug-1984', '24-Jul-1984', '01-Jul-1984', '03-Jun-1984', '1984', '25-Dec-1983', 'Reported      10-Nov-1983', '17-Oct-1983', '13-Oct-1983', '04-Sep-1983', '20-Aug-1983', '15-Aug-1983', '13-Aug-1983', '06-Aug-1983', '12-Jul-1983', '05-Jul-1983', '29-Jun-1983', '20-Jun-1983', '31-May-1983', '24-May 1983', '21-May-1983', '19-Apr-1983', '02-Apr-1983', '10-Mar-1983', '24-Jan-1983', '1983', 'Nov-1982', '13-Oct-1982', '27-Sep-1982', '25-Sep-1982', '19-Sep-1982', '04-Sep-1982', '29-Aug-1982', '24-Jul-1982', '19-Jul-1982', ' 11-Jul-1982', '01-Jul-1982', '26-Jun-1982', '  25-Jun-1982', '13-Jun-1982', 'May 1982', '10-Mar-1982', '27-Feb-1982', '14-Feb-1982', '13-Feb-1982', '07-Feb-1982', '19-Dec-1981', '13-Dec-1981', '09-Nov-1981', '19-Oct-1981', '17-Oct-1981', '16-Oct-1981', '01-Oct-1981', '28-Sep-1981', '27-Sep-1981', '15-Sep-1981', '03-Sep-1981', '29-Aug-1981', '24-Aug-1981', '10-Aug-1981', '20-Jul-1981', '07-Jul-1981', '12-Jun-1981', '24-May-1981', '19-May-1981', '16-May-1981', '25-Mar-1981', '24-Mar-1981', '02-Feb-1981', '30-Jan-1981', '27-Oct-1980', '17-Oct-1980', '10-Aug-1980', '04-Aug-1980', '27-Jul-1980', '23-Jul-1980', 'Late Jul-1980', 'Early Jul-1980', '26-Jun-1980', '27-Nov-1979', '05-Aug-1979', '19-Jun-1979', '27-May-1979', '08-Apr-1979', '24-Mar-1979', '11-Mar-1979', '1979', '26-Nov-1978', '23-Nov-1978', '05-Aug-1978', 'Reported 01-Aug-1978', '27-Jul-1978', '19-Jul-1978', '21-Jun-1978', '1978', '31-Dec-1977', '19-Dec-1977', '14-Aug-1977', '05-Aug-1977', '02-Jul-1977', '26-Jun-1977', '06-Jun-1977', '21-Apr-1977', '18-Dec-1976', '25-Nov-1976', '18-Oct-1976', '12-Sep-1976', '06-Sep-1976', '26-Aug-1976', '24-Aug-1976', '24-Jul-1976', '21-Jul-1976', '16-Jul-1976', '12-Jul-1976', '23-Jun-1976', '10-Jun-1976', '28-Apr-1976', '12-Mar-1976', '08-Jan-1976', '1976', '06-Dec-1975', '02-Nov-1975', '21-Oct-1975', '04-Oct-1975', '12-Aug-1975', '09-Aug-1975', '30-Jul-1975', '26-Jul-1975.b', '23-Jul-1975', '19-Jul-1975', '15-Jul-1975', '04-Jul-1975', '23-Jun-1975', '15-Jun-1975', 'Reported 02-Jun-1975', 'Jun-1975', '25-May-1975', '20-May 1975', '16-Mar-1975', '01-Nov-1974', '28-Sep-1974', '14-Sep-1974', '02-Sep-1974', 'Sep-1974', '05-Aug-1974', '26-Jul-1974', '20-Jul-1974', '02-Jul-1974', '20-Jun-1974', '26-May-1974', '12-Apr-1974', '18-Dec-1973', '24-Nov-1973', '16-Aug-1973', '09-Jan-1973', '14-Oct-1972', '09-Sep-1972', '29-Aug-1972', '17-Aug-1972', '05-Jul-1972', '10-Jun-1972', '28-May-1972', '16-Mar-1972', '23-Oct-1971', '02-Oct-1971', '25-Sep-1971', '26-Jul-1971', '19-Jul-1971', '03-Dec-1970', '24-Oct-1970', 'Oct-1970', '05-Sep-1970', 'Sep-1970', '22-Jun-1970', '31-Mar-1970', '23-Mar-1970', '11-Nov-1969', '14-Oct-1969', '06-Sep-1969', '29-Aug-1969', '22-Aug-1969', '02-Aug-1969', '22-Jul-1969', '20-Jul-1969', '27-Jun-1969', 'Jun-1969', '25-May-1969', '24-May-1969', '19-Aug-1969', '09-Mar-1969', '13-Oct-1968', '22-Sep-1968', '24-Aug-1968', '21-Aug-1968', '27-Jul-1968', '23-Jul-1968', '16-Jul-1968', '09-Jun-1968', '29-Apr-1968', '20-Apr-1968', '10-Mar-1968', 'Mar-1968', '26-Feb-1968', '1968', '14-Dec-1967', '17-Oct-1967', '20-Sep-1967', '07-Sep-1967', '27-Aug-1967', '07-Aug-1967', '29-Jul-1967', 'Jul-1967', '13-Jun-1967', '19-Sep-1966', '8-Sep-1966', 'Mid Aug-1966', 'Aug-1966', '31-Jul-1966', '19-Jul-1966', '17-Jul-1966', '03-Jul-1966', '22-Jun-1966', '11-Jun-1966', '04-Jun-1966', '16-May-1966', '08-Apr-1966', '22-Jan-1966', '05-Jan-1966', 'Summer of 1996', '26-Aug-1965', '19-Jun-1965', '18-Jun-1965', '29-Apr-1965', '25-Apr-1965', '10-Apr-1965', '04-Apr-1965', '23-Mar-1965', '14-Mar-1965', '04-Feb-1965', '25-Jan-1965', 'Summer 1965', '1965', 'Early 1965', '05-Nov-1964', '25-Oct-1964', '26-Aug-1964', '22-Aug-1964', '21-Aug-1964', '08-Aug-1964', '27-Jul-1964', '15-Jul-1964', '08-Jul-1964', '28-Jun-1964', '24-Jun-1964', '05-Mar-1964', 'Feb-1964', '11-Jan-1964', '12-Nov-1963', '16-Oct-1963', '26-Sep-1963', '10-Sep-1963', '15-Jul-1963', '11-Jul-1963', '18-May-1963', '20-Apr-1963', '12-Apr-1963', '08-Apr-1963', '04-Feb-1963', '11-Nov-1962', '06-Oct-1962', '29-Aug-1962', '26-Aug-1962', '19-Aug-1962', '12-Aug-1962', '28-Jul-1962', '19-Jul-1962', '10-Jul-1962', '07-Jul-1962', '25-Jun-1962', '17-Jun-1962', '11-Jun-1962', '10-Jun-1962', '04-Jun-1962', '03-Jun-1962', '29-May-1962', '12-May-1962', '14-Jan-1962', '09-Oct-1961', 'Oct-1961', '26-Sep-1961', '20-Aug-1961', '16-Aug-1961', '02-Aug-1961', '29-Jul-1961', '24-Jun-1961', '18-Jun-1961', 'Reported 06-Jun-1961', '21-May-1961', '15-May-1961', '30-Apr-1961', '16-Apr-1961', '17-Feb-1961', 'Feb-1961', '1961', '27-Dec-1960', '22-Nov-1960', '25-Oct-1960', 'Oct-1960', '24-Sep-1960', '30-Aug-1960', '25-Aug-1960', '24-Aug-1960', '22-Aug-1960', '21-Aug-1960', '10-Aug-1960', '04-Aug-1960', 'Aug-1960', '05-Jul-1960', '03-Jul-1960', '29-Jun-1960', '24-Jun-1960', '07-Jun-1960', '04-Jun-1960', '19-May-1960', '16-May-1960', '24-Apr-1960', '31-Mar-1960', '27-Feb-1960', '03-Feb-1960', '16-Nov-1959', '10-Nov-1959', '04-Oct-1959', '26-Sep-1959', 'Between 10 and 12-Sep-1959', '02-Sep-1959', '15-Aug-1959', '14-Aug-1959', '13-Aug-1959', '10-Aug-1959', '05-Aug-1959', '30-Jul-1959', '28-Jul-1959', '25-Jul-1959', '23-Jul-1959', '02-Jul-1959', '14-Jun-1959', '13-Jun-1959', '16-May-1959', '07-May-1959', '03-May-1959', '09-Apr-1959', '29-Mar-1959', 'Mar-1959', '13-Dec-1958', '05-Nov-1958', '12-Oct-1958', '05-Oct-1958', '01-Sep-1958', '27-Jul-1958', '10-Jul-1958', '02-Jul-1958', 'Jul-1958', '26-Jun-1958', '24-Jun-1958', '17-Jun-1958', '30-Apr-1958', '01-Feb-1958', 'Aug-1957', '24-Jul-1957', '15-Jul-1957', 'May 1957', '28-Apr-1957', '22-Apr-1957', '05-Feb-1957', 'Feb-1957', '1957', '23-Sep-1956', 'Reported 15-Aug-1956', '15-Aug-1956', '28-Jul-1956', '26-Jul-1956', '17-Jul-1956', '12-Jul-1956', '1956', '11-Dec-1955', '20-Sep-1955', '04-Sep-1955', '03-Sep-1955', '30-Aug-1955', 'Reported 04-Aug-1955', '23-Jun-1955', '08-May-1955', 'Apr-1955', '10-Feb-1955', '06-Feb-1955', '1955', '20-Nov-1954', '07-Oct-1954', '21-Sep-1954', 'Reported 04-Jul-1954', '29-Jun-1954', '08-Apr-1954', '1954', 'Reported 20-Sep-1953', '18-Sep-1953', 'Reported 03-Sep-1953', '02-Sep-1953', '26-Jul-1953', '16-Jul-1953', '15-Jul-1953', '04-Jul-1953', '04-Apr-1953', '18-Feb-1953', '1953', '03-Aug-1952', '7-Dec-1952', '03-Dec-1952', '27-Jul-1952', '13-Jul-1952', '05-Jul-1952', '27-May-1952', '1952', 'Reported 19-Jul-1951', '25-Jun-1951', '28-Oct-1950', '10-Jul-1950', '09-Jul-1950', 'Jul-1950', '25-Jun-1950', '06-Jun-1950', '16-Jan-1950', '1950', '1950s', '25-Jul-1949', '16-Jul-1949', '19-Sep-1948', '01-Jul-1948', '13-Feb-1948', 'Summer 1948', '04-Aug-1947', 'Reported 27-Jul-1947', '27-Jun-1947', '06-Aug-1945', '08-May-1945', '02-Dec-1944', '03-Sep-1944', '31-May-1944', '04-Dec-1943', '26-Oct-1943', '18-Jul-1943', '5-Apr-1943', 'Fall 1943', '1943', '04-Jun-1942', 'Reported 21-Aug-1941', '01-Aug-1941', '22-Jul-1941', '01-Jul-1941', '15-Jun-1941', '09-Mar-1941', '13-Jul-1940', '30-Jun-1940', '04-Oct-1939', '01-Aug-1939', '14-Jul-1939', '03-May-1939', '18-Aug-1938', '18-Jul-1938', '17-Jul-1938', '1938', '13-Nov-1937', '    15-Jun-1937', '30-May-1937', '30-Dec-1936', '04-Sep-1936', 'Aug-1936', '25-Jul-1936', '12-Jul-1936', '06-Jun-1936', '30-Mar-1936', '21-Sep-1935', '27-Jul-1935', '18-Jun-1935', 'Reported 08-Apr-1935', '05-Aug-1934', '20-Jun-1934', '28-Aug-1933', 'Reported 26-Aug-1933', 'Reported 07-Jul-1933', '21-Jun-1933', '16-Jun-1933', '10-Apr-1933', '10-Aug-1932', 'Reported 14-Jul-1932', '28-Jun-1932', '26-Jun-1932', '16-Feb-1932', '21-Sep-1931', '02-Sep-1931', '30-Aug-1931', '27-Aug-1931', '18-Aug-1931', 'Reported 06-Aug-1931', '15-Jul-1931', '14-Jun-1931', '13-Jun-1931', 'Reported 04-Jun-1931', '06-Aug-1930', '11-Jul-1930', '27-May-1930', 'Reported 07-Mar-1930', '05-Aug-1929', '23-Jun-1929', '16-Mar-1929', '1929', '18-Nov-1928', '12-Nov-1928', 'Sep-1928', 'Reported 24-Aug-1928', 'Reported 24-Jun-1928', '21-Jan-1928', 'Some time between 08-Jan-1928 & 21-Jan-1928', 'Reported 08-Jan-1927', '24-Aug-1926', '12-Jul-1926', '08-Jul-1926', '18-May-1926', '07-Apr-1926', 'Nov-1925', '02-Aug-1925', 'May 1925', 'Reported 27-Jan-1925', '21-Nov-1924', '31-Jul-1924', '04-Jul-1924', '18-Jun-1924', 'Feb-1923', '1923', '14-Dec-1922', '28-Sep-1922', 'Reported 21-Sep-1922', '19-Jul-1922', '17-Jun-1922', '14-Jul-1920', '29-Jun-1920', '10-Aug-1919', '29-May-1919', '06-Apr-1919', '1919', 'Nov-1918', '21-Sep-1917', '09-Sep-1917', '18-Jul-1917', '03-Jun-1917', '11-Oct-1916', ' 24-Aug-1916', '26-Jul-1916', '13-Jul-1916', '12-Jul-1916', '06-Jul-1916', '01-Jul-1916', '30-Jun-1916', '23-Jun-1916', '03-Aug-1915', 'Ca. 1915', '09-Sep-1914', 'Reported 09-Jul-1914', '14-May-1914', 'Reported 14-Mar-1914', '03-Mar-1914', 'Reported 30-Dec-1913', '21-Sep-1913', 'Reported 27-Aug-1913', '12-July-1913', '21-May-1913', '30-Aug-1912', '23-Jul-1912', '08-Nov-1911', '26-Oct-1911', '23-Sep-1911', '20-Sep-1911', '17-Sep-1911', 'Reported 16-Jul-1911', 'Reported 01-May-1911', '1911', 'Reported 16-May-1910', 'Mar-1910', '1910', 'Reported 26-Nov-1909', 'Reported 04-Sep-1909', '13-Aug-1909', '24-Jul-1909', '15-Jul-1909', '10-Apr-1909', '05-Sep-1908', '08-Jun-1908', '10-May-1908', '08-Jan-1908', '08-Oct-1907', 'Reported 08-Aug-1907', 'Jul-1907', '26-Mar-1907', '1907', 'Reported 10-Oct-1906', 'Sep-1906', '04-Aug-1906', 'Reported 05-Jul-1906', 'Reported 06-Sep-1905', 'Late Aug-1905', '29-Jul-1905', 'Jul-1905', '22-May-1905', '1905', '28-Jul-1904', '27-Jul-1904', '1904', 'Reported 16-Sep-1903', 'Ca. 1903', 'Reported 01-Nov-1902', '08-Aug-1902', '06-Jul-1902', 'Summer 1901', '13-Sep-1900', '05-Sep-1900', '21-Aug-1900', '14-Jul-1900', 'Late Jul-1900', 'Early 1900s', 'Reported 23-Aug-1899', '15-Aug-1899', '1899', 'Ca. 1899', '28-Oct-1898', '22-Aug-1898', '1898', '1898-1899', 'Reported 04-Dec-1897', '17-Sep-1897', '06-Sep-1897', 'Reported 15-Mar-1897', '25-Jul-1896', 'Reported 21-Jun-1896', '1896', 'Sep-1895', '11-Aug-1895', '2-Aug-1895', '11-Dec-1894', 'Reported 06-Oct-1894', 'Reported 12-Sep-1894', 'Reported 01-Sep-1894', '21-Aug-1894', '01-Aug-1894', '29-Jun-1894', 'Reported 15-Jun-1894', 'Reported 16-Sep-1892', '29-Aug-1891', '11-Jun-1891', 'Reported 17-Aug-1890', '9-Aug-1890', '16-Nov-1889', '21-Jul-1889', '  19-Jul-1889', 'Reported 31-Jan-1889', 'Reported 01-Aug-1888', '18-Oct-1887', 'Mid-Aug-1886', 'Aug-1886', '02-Jun-1886', '26-Jul-1885', 'Reported 28-Aug-1884', '18-Aug-1884', 'Reported 18-Dec-1883', 'Reported 19-Oct-1883', 'Summer of 1883', '1883', '1882', '16-Oct-1881', '05-Sep-1881', '12-Aug-1881', '13-Jun-1881', '25-Jul-1880', 'Ca. 1880', '3-Jul-1879', '1879', 'Reported 14-Sep-1878', '09-Aug-1878', '08-Aug-1878', 'Reported 13-Oct-1876', 'Reported 04-Jun-1876', 'Reported 15-Jul-1874', '15-Jul-1874', '28-Jul-1873', 'Reported 03-Apr-1872', 'Reported 29-Aug-1871', 'Aug-1871', '27-Jul-1870', 'Reported 09-Jul-1866', '02-Sep-1865', 'Reported 14-Jul-1865', '02-Oct-1864', '12-Aug-1864', 'Reported 13-Sep-1863', 'Reported 09-Jul-1863', 'Circa 1862', '01-Aug-1860', '16-Mar-1859', '23-Aug-1858', '17-Aug-1858', 'Reported 14-Jan 1858', '05-May-1857', '30-Sep-1855', '28-Sept-1853', 'Reported 13-Jul-1853', 'Sep or Oct-1853', '1853 ', '1853 or 1854', 'Aug-1852', '1852', 'Mar-1851', '1851', '21-Oct-1850', '08-Jun-1849', '31-Aug-1848', 'Reported 17-Jul-1848', '10-Sep-1847', 'Reported 03-Jul-1847', '1847', 'Ca. 1847', 'Reported 10-Sep-1845', 'Reported 31-Jul-1845', '13-Jul-1842', '06-Jul-1842', 'Reported 22-Jul-1840', '09-Sep-1837', 'Jul-1837', 'Ca. 1837', '24-Aug-1831', '26-Jul-1830', '10-Jun-1829', '1828', '24-Jun-1817', 'Reported 03-Sept-1816', '15-Sep-1810', 'Aug-24-1806', 'Sep-1805', 'May-17-1803', '08-Aug-1780', '1779', 'Reported 12-Jul-1771', '27-Jul-1751', '1642', '2009?', 'Before 2012', 'Before 1908', 'Before 2009', 'Beforer 1994', 'Before 2006', 'No date', 'No date, Before  1975', 'No date, Before 1963', 'No date, Before 1902', 'Before  19-Jun-1959', 'Before 1958', 'Before 1921', 'Before 17-Jul-1916', '1900-1905']\n"
     ]
    }
   ],
   "source": [
    "print(list(data[\"date\"].unique()))"
   ]
  },
  {
   "cell_type": "code",
   "execution_count": 477,
   "id": "8665102b",
   "metadata": {},
   "outputs": [],
   "source": [
    "lim_date=[]\n",
    "\n",
    "for i in data[\"date\"]:\n",
    "    lim_date.append(i.strip().lower())\n",
    "    \n",
    "data[\"date\"] = lim_date"
   ]
  },
  {
   "cell_type": "code",
   "execution_count": 478,
   "id": "3fb0a709",
   "metadata": {},
   "outputs": [
    {
     "name": "stdout",
     "output_type": "stream",
     "text": [
      "['25-jun-2018', '18-jun-2018', '09-jun-2018', '27-may-2018', '26-may-2018', '21-may-2018', '13-may-2018', '19-apr-2018', '31-mar-2018', '31-dec-2017', '30-dec-2017', '24-nov-2017', '18-nov-2017', '26-oct-2017', '23-oct-2017', '18-oct-2017', '09-oct-2017', '05-oct-2017', '25-sep-2017', '24-sep-2017', '20-sep-2017', '16-sep-2017', '13-sep-2017', '02-sep-2017', '27-aug-2017', '23-aug-2017', '10-aug-2017', '03-aug-2017', '01-aug-2017', '31-jul-2017', '29-jul-2017', '23-jul-2017', '22-jul-2017', '20-jul-2017', '14-jul-2017', '11-jul-2017', '09-jul-2017', '29-jun-2017', '21-jun-2017', '19-jun-2017', '18-jun-2017', '10-jun-2017', '04-jun-2017', '30-may-2017', '28-may-2017', '03-may-2017', '29-apr-2017', '26-apr-2017', '20-apr-2017', '17-apr-2017', '14-apr-2017', '13-apr-2017', '12-apr-2017', '11-apr-2017', '10-apr-2017', '06-apr-2017', '05-apr-2017', '02-apr-2017', '27-mar-2017', '18-mar-2017', '11-feb-2017', '01-feb-2017', '22-jan-2017', '13-jan-2017', '05-jan-2017', '27-dec-2016', '11-dec-2016', '14-nov-2016', '30-oct-2016', '29-oct-2016', '21-oct-2016', '14-oct-2016', '10-oct-2016', '02-oct-2016', '01-oct-2016', '18-sep-2016', '17-sep-2016', '11-sep-2016', '07-sep-2016', '05-sep-2016', '04-sep-2016', '01-sep-2016', '29-aug-2016', '25-aug-2016', '06-aug-2016', '04-aug-2016', '27-jul-2016', '17-jul-2016', '16-jul-2016', '15-jul-2016', '08-jul-2016', '07-jul-2016', '06-jul-2016', '27-jun-2016', '25-jun-2016', '21-jun-2016', '15-jun-2016', '14-jun-2016', '11-jun-2016', '07-jun-2016', '05-jun-2016', '29-may-2016', '22-may-2016', '21-may-2016', '18-may-2016', '15-may-2016', '03-may-2016', '23-apr-2016', '13-apr-2016', '07-apr-2016', '31-mar-2016', '28-mar-2016', '13-mar-2016', '11-mar-2016', '04-mar-2016', '28-jan-2016', '25-jan-2016', '24-jan-2016', '23-jan-2016', '22-dec-2015', '16-nov-2015', '15-nov-2015', '07-nov-2015', '03-nov-2015', '01-nov-2015', '28-oct-2015', '21-oct-2015', '19-oct-2015', '17-oct-2015', '13-oct-2015', '09-oct-2015', '05-oct-2015', '04-oct-2015', '29-sep-2015', '24-sep-2015', '20-sep-2015', '19-sep-2015', '18-sep-2015', '17-sep-2015', '06-sep-2015', '05-sep-2015', '03-sep-2015', '29-aug-2015', '22-aug-2015', '20-aug-2015', '19-aug-2015', '18-aug-2015', '10-aug-2015', '26-jul-2015', '23-jul-2015', '10-jul-2015', '08-jul-2015', '04-jul-2015', '01-jul-2015', '30-jun-2015', '27-jun-2015', '26-jun-2015', '25-jun-2015', '24-jun-2015', '23-jun-2015', '17-jun-2015', '14-jun-2015', '13-jun-2015', '11-jun-2015', '07-jun-2015', '05-jun-2015', '29-may-2015', '24-may-2015', '20-may2015', '15-may-2015', '07-may-2015', '29-apr-2015', '26-apr-2015', '13-apr-2015', '03-apr-2015', '18-mar-2015', '27-jan-2015', '19-jan-2015', '08-jan-2015', '01-jan-2015', '28-dec-2014', 'reported 17-nov-2014', '16-nov-2014', '13-nov-2014', '08-nov-2014', '31-oct-2014', '22-oct-2014', '20-oct-2014', '19-oct-2014', '18-oct-2014', '14-oct-2014', '12-oct-2014', '05-oct-2014', '07-oct-2014', '03-oct-2014', '02-oct-2014', '21-sep-2014', '13-sep-2014', '06-sep-2014', '03-sep-2014', '02-sep-2014', '31-aug-2014', '29-aug-2014', '28-aug-2014', '27-aug-2014', 'reported 25-aug-2014', '24-aug-2014', '12-aug-2014', '10-aug-2014', '09-aug-2014', '08-aug-2014', '06-aug-2014', '05-aug-2014', '02-aug-2014', '27-jul-2014', '21-jul-2014', '16-jul-2014', '14-jul-2014', '12-jul-2014', '9-jul-2014', '5-jul-2014', '3-jul-2014', '09-jun-2014', '07-jun-2014', '01-jun-2014', '15-may-2014', '13-may2014', '11-may-2014', 'reported 10-may-2014', '06-may-2014', '01-may-2014', '22-apr-2014', '15-apr-2014', '04-apr-2014', '22-mar-2014', '21-mar-2014', '02-mar-2014', '2014', '11-dec-2013', '10-dec-2013', '02-dec-2013', '29-nov2013', '22-nov-2013', '07-nov-2013', '31-oct-2013', '23-oct-2013', '20-oct-2013', '19-oct-2013', '06-oct-2013', '10-oct-2013', '29-sep-2013', '25-sep-2013', '21-sep-2013', '14-sep-2013', '12-sep-2013', '08-sep-2013', '07-sep-2013', '02-sep-2013', '01-sep-2013', '31-aug-2013', '29-aug-2013', '25-aug-2013', '18-aug-2013', '17-aug-2013', '14-aug-2013', '13-aug-2013', '11-aug-2013', '05-aug-2013', '31-jul-2013', '30-jul-2013', '29-jul-2013', '19-jul-2013', 'reported 17-jul-2013', '11-jul-2013', '25-jun-2013', '18-jun-2013', '17-jun-2013', '15-jun-2013', 'reported 14-jun-2013', '06-jun-2013', '27-may-2013', '08-may-2013', '04-may-2013', '17-apr-2013', '13-apr-2013', '04-apr-2013', '02-apr-2013', '21-feb-2013', '10-feb-2013', '16-jan-2013', '31-dec-2012', '05-dec-2012', '30-nov-2012', '19-nov-2012', '04-nov-2012', '30-oct-2012', '27-oct-2012', '23-oct-2012', '19-oct-2012', '18-oct-2012', '16-oct-2012', '10-oct-2012', '25-sep-2012', '24-sep-2012', '16-sep-2012', '09-sep-2012', '08-sep-2012', '06-sep-2012', '04-sep-2012', '02-sep-2012', '15-aug-2012', '08-aug-2012', '31-jul-2012', '30-jul-2012', '24-jul-2012', '08-jul-2012', '07-jul-2012', '26-jun-2012', '22-jun-2012', '19-jun-2012', '18-jun-2012', '15-jun-2012', '14-jun-2012', '02-jun-2012', '31-may-2012', '23-may-2012', '20-may-2012', '12-may-2012', '09-may-2012', '06-may-2012', '19-apr-2012', '03-apr-2012', 'apr-2013', '24-mar-2012', '15-mar-2012', '14-mar-2012', '04-mar-2012', '26-feb-2012', '27-jan-2012', '13-jan-2012', '31-dec-2011', '23-dec-2011', '21-dec-2011', '06-dec-2011', '22-nov-2011', '29-oct-2011', '20-oct-2011', '11-oct-2011', '10-oct-2011', '02-oct-2011', '01-oct-2011', '30-sep-2011', '24-sep-2011', '20-sep-2011', '16-sep-2011', '11-sep-2011', '04-sep-2011', '02-sep-2011', '31-aug-2011', '28-aug-2011', '24-aug-2011', '17-aug-2011', '16-aug--2011', '15-aug-2011', '11-aug--2011', '25-jul-2011', '19-jul-2011', '13-jul-2011', '07-jul-2011', '26-jun-2008', '24-jun-2011', '21-jun-2011', '12-jun-2011', '06-jun-2011', '30-may-2011', '25-may-2011', '22-may-2011', '13-may-2011', '10-may-2011', '26-apr-2011', '22-apr-2011', 'reported 29-mar-2011', '26-dec-2010', '11-dec-2010', '19-nov-2010', '28-oct-2010', '23-oct-2010', '22-oct-2010', '27-sep-2010', '24-sep-2010', '07-sep-2010', '04-sep-2010', '03-sep-2010', '18-aug-2010', '14-aug-2010', '07-aug-2010', '05-aug-2010', '02-aug-2010', '25-jul-2010', '23-jul-2010', '19-jul-2010', '17-jul-2010', '16-jul-2010', '11-jul-2010', '03-jul-2010', '02-jul-2010', '27-jun-2010', '25-jun-2010', '10-jun-2010', 'jun-2010', '30-may-2010', '01-may-2010', '28-apr-2010', '19-apr-2010', '06-feb-2010', '03-feb-2010', '06-jan-2010', '05-dec-2009', '25-nov-2009', '24-nov-2009', '16-nov-2009', '13-nov-2009', '11-nov-2009', '05-nov-2009', '24-oct-2009', '19-oct-2009', '09-oct-2009', '26-sep-2009', '12-sep-2009', '30-aug-2009', '25-aug-2009', '10-aug-2009', '06-aug-2009', '01-aug-2009', '24-jul-2009', '22-jul-2009', '11-jul-2009', '05-jul-2009', '04-jul-2009', '21-jun-2009', '16-jun-2009', '25-may-2009', '17-may-2009', '16-may-2009', '28-apr-2009', 'reported 25-apr-2009', '21-apr-2009', '19-apr-2009', '17-apr-2009', '11-apr-2009', '06-apr-2009', '03-apr-2009', '18-mar-2009', '17-mar-2009', '08-feb-2009', '20-dec-2008', '08-oct-2008', '28-sep-2008', '14-sep-2008', '09-sep-2008', '08-sep-2008', '06-sep-2008', '01-sep-2008', 'sep-2008', '30-aug-2008', '28-aug-2008', '27-aug-2008', '24-aug-2008', '20-aug-2008', '18-aug-2008', '16-aug-2008', '12-aug-2008', '11-aug-2008', '26-jul-2008', '25-jul-2008', '24-jul-2008', '23-jul-2008', '19-jul-2008', '13-jul-2008', '11-jul-2008', '09-jul-2008', '05-jul-2008', '28-jun-2008', '21-jun-2008', '20-jun-2008', '07-jun-2008', '01-jun-2008', '26-may-2008', '07-may-2008', '28-apr-2008', '27-apr-2008', '26-apr-2008', '25-apr-2008', '20-apr-2008', '15-apr-2008', '25-mar-2008', 'reported 08-apr-2008', '03-apr-2008', '28-mar-2008', '23-mar-2008', '21-mar-2008', '15-mar-2008', '07-mar-2008', '15-feb-2008', '06-feb-2008', '10-jan-2008', 'fall 2008', '10-dec-2007', '06-nov-2007', '04-nov-2007', '29-oct-2007', '07-oct-2007', '06-oct-2007', '30-sep-2007', '27-sep-2007', '22-sep-2007', '20-sep-2007', '16-sep-2007', '13-sep-2007', '08-sep-2007', '05-sep-2007', '04-sep-2007', '03-sep-2007', '28-aug-2007', '26-aug-2007', '25-aug-2007', '22-aug-2007', '20-aug-2007', '19-aug-2007', '15-aug-2007', '12-aug-2007', '11-aug-2007', '09-aug-2007', '07-aug-2007', '29-jul-2007', '28-jul-2007', '22-jul-2007', '21-jul-2007', '19-jul-2007.b', '18-jul-2007', '17-jul-2007', '05-jul-2007', '30-jun-2007', '25-jun-2007', '24-jun-2007', '17-jun-2007', '12-jun-2007', '26-may-2007', '24-may-2007', '10-may-2007', '07-may-2007', '22-apr-2007', '20-apr-2007', 'reported      13-apr-2007', '01-apr-2007', '31-mar-2007', '21-mar-2007', 'reported 14-mar-2007', '11-mar-2007', '25-jan-2007', '07-jan-2007', '01-jan-2007', '10-dec-2006', '11-nov-2006', '31-oct-2006', '16-oct-2006', '10-oct-2006', '07-oct-2006', '05-oct-2006', '29-sep-2006', 'reported 18-sep-2006', '16-sep-2006', '14-sep-2006', '11-sep-2006', '03-sep-2006', '02-sep-2006', '29-aug-2006', 'aug-2006', '31-jul-2006', '29-jul-2006', '25-jul-2006', '23-jul-2006', '17-jul-2006', '12-jul-2006', '09-jul-2006', '09-jul-2006.', '08-jul-2006', 'july 2006', '27-jun-2006', '26-jun-2006', '20-jun-2006', '17-jun-2006', '15-jun-2006', '07-jun-2006', '31-may-2006', '28-may-2006', '27-may-2006', '24-may-2006', '19-may-2006', '05-may-2006', '04-may-2006', 'reported      23-apr-2006', '21-apr-2006', '19-apr-2006', '13-apr-2006', '03-apr-2006', '23-mar-2006', '27-feb-2006', '23-feb-2006', '01-feb-2006', '18-jan-2006', '04-jan-2006', '24-dec-2005', '21-dec-2005', 'reported 29-nov-2005', '27-nov-2005', '21-nov-2005', '20-nov-2005', '12-nov-2005', '02-nov-2005', '29-oct-2005', '21-oct-2005', '19-oct-2005', '15-oct-2005', '13-oct-2005', '06-oct-2005', '22-sep-2005', '20-sep-2005', '11-sep-2005', '05-sep-2005', '02-sep-2005', '24-aug-2005', '22-aug-2005', '21-aug-2005', '19-aug-2005', '12-aug-2005', '6-aug-2005', '27-jul-2005', '23-jul-2005', '22-jul-2005', '15-jul-2005', '13-jul-2005', '1-jul-2005', '27-jun-2005', '25-jun-2005', '18-jun-2005', '16-jun-2005', '07-jun-2005', '05-jun-2005', '02-jun-2005', '28-may-2005', '27-may-2005', '14-may-2005', '02-may-2005', '13-apr-2005', '09-apr-2005', '07-apr-2005', '06-apr-2005', '12-mar-2005', '22-feb-2005', '16-feb-2005', '13-feb-2005', '11-nov-2004', '10-oct-2004', '09-oct-2004', '02-oct-2004', '01-oct-2004', '20-sep-2004', '10-sep-2004', '04-sep-2004', '29-aug-2004', '20-aug-2004', '15-aug-2004', '06-aug-2004', '31-jul-2004', '28-jul-2004', '27-jul-2004', '25-jul-2004', '02-jul-2004', '26-jun-2004', '14-jun-2004', '10-jun-2004', '29-may-2004', '28-may-2004', '23-may-2004', '22-may-2004', '04-may-2004', '07-apr-2004', '04-apr-2004', '31-mar-2004', '28-mar-2004', '27-mar-2004', '14-mar-2004', '16-mar-2004', '26-dec-2003', '13-dec-2003', '22-nov-2003', '12-nov-2003', '31-oct-2003', '27-oct-2003', '24-oct-2003', '14-oct-2003', '06-oct-2003', '05-oct-2003', '28-sep-2003', '21-sep-2003', '19-sep-2003', '17-sep-2003', '14-sep-2003', '13-sep-2003', 'sep-2003', '29-aug-2003', '19-aug-2003', '12-aug-2003', '20-jul-2003', '15-jul-2003', '05-jul-2003', 'jul-2003', '30-jun-2003', '26-jun-2003', '24-jun-2003', '22-jun-2003', '19-jun-2003', '08-jun-2003', 'jun-2003', '25-may-2003', '14-may-2003', '10-may-2003', '07-may-2003', '03-may-2003', '21-apr-2003', '20-apr-2003', '19-apr-2003', '18-apr-2003', '15-apr-2003', '09-apr-2003', '04-apr-2003', '10-mar-2003', '15-feb-2003', '28-nov-2002', '17-nov-2002', '11-nov-2002', '02-nov-2002', '30-oct-2002', '11-oct-2002', '05-oct-2002', '03-oct-2002', '30-sep-2002', '29-sep-2002', '27-sep-2002', '21-sep-2002', '16-sep-2002', '09-sep-2002', '05-sep-2002', '28-aug-2002', '17-aug-2002', '14-aug-2002', '11-aug-2002', '07-aug-2002', '05-aug-2002', '26-jul-2002', '20-jul-2002', '10-jul-2002', '09-jul-2002', '04-jul-2002', '20-jun-2002', '11-jun-2002', '10-jun-2002', '09-jun-2002', '31-may-2002', '22-may-2002', '13-may-2002', '20-apr-2002', '18-apr-2002', '02-apr-2002', '01-apr-2002', '25-mar-2002', '19-mar-2002', '15-mar-2002', '01-jan-2002', '14-nov-2001', '24-sep-2001', '18-sep-2001', '16-sep-2001', '15-sep-2001', '08-sep-2001', '07-sep-2001', '03-sep-2001', '02-sep-2001', '01-sep-2001', '29-aug-2001', '27-aug-2001', '26-aug-2001', '25-aug-2001', '22-aug-2001', '21-aug-2001', '19-aug-2001', '18-aug-2001', '05-aug-2001', '26-jul-2001', '25-jul-2001', '24-jul-2001', '21-jul-2001', '15-jul-2001', '06-jul-2001', '03-jul-2001', 'jul-2001', '12-jun-2001', '10-jun-2001', '03-jun-2001', '29-may-2001', '23-may-2001', '20-may-2001', '03-may-2001', '28-apr-2001', '13-apr-2001', '12-apr-2001', '11-apr-2001', '10-apr-2001', '05-apr-2001', '23-mar-2001', '09-mar-2001', '09-jan-2001', '17-nov-2000', '10-nov-2000', '04-nov-2000', '20-oct-2000', '18-oct-2000', '14-oct-2000', '09-oct-2000', '06-oct-2000', '02-oct-2000', '29-sep-2000', '16-sep-2000', '15-sep-2000', '12-sep-2000', '11-sep-2000', '10-sep-2000', '08-sep-2000', '31-aug-2000', '30-aug-2000', 'reported 27-aug-2000', '21-aug-2000', '15-aug-2000', '13-aug-2000', '12-aug-2000', '11-aug-2000', '10-aug-2000', '25-jul-2000', '22-jul-2000', '17-jul-2000', '16-jul-2000', '10-jul-2000', '09-jul-2000', '07-jul-2000', '06-jul-2000', '04-jul-2000', '02-jul-2000', '19-jun-2000', '13-jun-2000', '10-jun-2000', '09-jun-2000', '02-jun-2000', '14-apr-2000', '09-apr-2000', '31-mar-2000', '26-mar-2000', '24-mar-2000', 'mar-2000', '21-feb-2000', '2000', '14-dec-1999', '02-dec-1999', '30-nov-1999', '23-nov-1999', '15-nov-1999', '30-oct-1999', '20-oct-1999', '01-oct-1999', '29-sep-1999', '19-sep-1999', 'reported 16-sep-1999', '10-sep-1999', '05-sep-1999', '04-sep-1999', '26-aug-1999', '24-aug-1999', '21-aug-1999', '16-aug-1999', '05-aug-1999', '26-jul-1999', '21-jul-1999', '06-jul-1999', '04-jul-1999', '19-jun-1999', '17-jun-1999', '12-jun-1999', '09-jun-1999', '01-apr-1999', '18-mar-1999', '08-mar-1999', '05-mar-1999', '26-feb-1999', '03-feb-1999', '1999', '24-dec-1998', '21-nov-1998', '14-nov-1998', '11-nov-1998', '05-nov-1998', '24-oct-1998', '10-oct-1998', '01-oct-1998', '27-sep-1998', '22-sep-1998', '14-sep-1998', '30-aug-1998', '26-aug-1998', 'reported      23-aug-1998', '13-aug-1998', '25-jul-1998', '08-jun-1998', '25-may-1998', '16-may-1998', '21-apr-1998', '17-apr-1998', '31-mar-1998', '08-mar-1998', '23-feb-1998', '1998', '25-dec-1997', 'reported 05-nov-1997', '28-oct-1997', '24-oct-1997', '21-oct-1997', '04-oct-1997', '09-sep-1997', '08-sep-1997', '06-sep-1997', '30-aug-1997', '27-aug-1997', '24-aug-1997', '11-aug-1997', '10-aug-1997', '09-aug-1997', '05-aug-1997', '04-aug-1997', '02-aug-1997', '14-jul-1997', '24-jun-1997', '09-jun-1997', '02-jun-1997', '31-may-1997', '21-feb-1997', '29-nov-1996', '18-nov-1996', '05-oct-1996', '03-oct-1996', '18-sep-1996', '06-sep-1996', '02-sep-1996', '01-sep-1996', '29-aug-1996', '13-aug-1996', '11-aug-1996', '26-jul-1996', '21-jul-1996', '20-jul-1996', '14-jul-1996', '10-jul-1996', '04-jul-1996', '25-jun-1996', '18-may-1996', '07-may-1996', '28-apr-1996', 'reported      19-feb-1996', '23-jan-1996', '16-jan-1996', '1996', '18-dec-1995', '25-nov-1995', 'reported 28-oct-1995', '21-oct-1995', '01-oct-1995', '30-sep-1995', '28-sep-1995', '19-sep-1995', '17-sep-1995', '13-sep-1995', '03-sep-1995', '31-aug-1995', '26-aug-1995', '25-aug-1995', '22-aug-1995', '21-aug-1995', '15-aug-1995', '13-aug-1995', '10-aug-1995', '07-aug-1995', 'aug-1995', '28-jul-1995', '24-jul-1995', '23-jul-1995', '06-jul-1995', '03-jul-1995', 'early jul-1995', '30-jun-1995', '24-jun-1995', '23-jun-1995', '17-jun-1995', '16-jun-1995', '14-jun-1995', '26-may-1995', '16-apr-1995', '13-apr-1995', '1995', '18-dec-1994', '09-dec-1994', '13-nov-1994', '06-nov-1994', '09-oct-1994', '05-oct-1994', '26-sep-1994', '21-sep-1994', 'reported 11-sep-1994', '05-sep-1994', '08-jul-1994', '31-may-1994', '28-may-1994', '24-may-1994', '23-may-1994', '15-may-1994', 'reported 16-apr-1994', '03-apr-1994', '07-mar-1994', '19-feb-1994', '13-feb-1994', '31-jan-1994', '1994', 'dec-1993', '28-nov-1993', '12-nov-1993', '30-oct-1993', '26-oct-1993', '10-oct-1993', 'oct-1993', '14-sep-1993', '09-sep-1993', 'reported      19-aug-1993', '19-aug-1993', '15-aug-1993', '12-aug-1993', '07-jul-1993', '10-jun-1993', 'jun-1993', '22-mar-1993', '14-mar-1993', '12-mar-1993', '02-jan-1993', '1993', '28-dec-1992', '23-dec-1992', '29-nov-1992', '25-nov-1992', '23-nov-1992', '14-nov-1992', '11-nov-1992', '06-nov-1992', '05-nov-1992', '29-oct-1992', '22-oct-1992', '13-sep-1992', '11-sep-1992', 'sep-1992', '21-aug-1992', '18-aug-1992', '17-aug-1992', 'aug-1992', '23-jul-1992', '21-jul-1992', '31-may-1992', '28-mar-1992', '08-mar-1992', '19-feb-1992', '04-dec-1991', '26-nov-1991', '19-nov-1991', '14-nov-1991', '12-oct-1991', '05-oct-1991', '26-aug-1991', '12-aug-1991', '09-aug-1991', '27-jul-1991', '18-jul-1991', '07-jul-1991', '01-jul-1991', 'july 1991', '26-jun-1991', '07-jun-1991', '26-may-1991', '16-apr-1991', '03-apr-1991', '24-feb-1991', '03-nov-1990', '01-nov-1990', '30-oct-1990', '20-oct-1990', '15-oct-1990', '12-oct-1990', '08-sep-1990', '05-sep-1990', '30-aug-1990', '28-aug-1990', '19-aug-1990', '22-jul-1990', '08-jul-1990', '01-apr-1990', '17-feb-1990', '05-feb-1990', '12-jan-1990', '1990', '19-dec-1989', '12-nov-1989', '14-oct-1989', '11-oct-1989', '08-oct-1989', '13-sep-1989', '10-sep-1989', '09-sep-1989', '03-sep-1989', '22-aug-1989', '14-jul-1989', '07-jul-1989', '29-jun-1989', '17-jun-1989', '23-apr-1989', '12-apr-1989', '09-apr-1989', '03-apr-1989', 'apr-1989', '26-jan-1989', '20-jan-1989', '08-jan-1989', '1989', '23-oct-1988', '14-oct-1988', '11-oct-1988', '10-oct-1988', 'oct-1988', '28-sep-1988', '13-sep-1988', '22-aug-1988', '11-aug-1988', '11-jul-1988', '04-jul-1988', '16-jun-1988', '09-jun-1988', '05-jun-1988', '01-jun-1988', '10-may-1988', '04-may-1988', '24-apr-1988', '15-apr-1988', '14-apr-1988', '31-mar-1988', '25-mar-1988', '14-jan-1988', '17-dec-1987', '21-nov-1987', '26-oct-1987', '20-aug-1987', '15-aug-1987', '21-jul-1987', '12-jul-1987', '11-jul-1987', '13-jun-1987', '25-may-1987', '08-may-1987', '18-apr-1987', '15-apr-1987', '28-feb-1987', '11-dec-1986', '06-dec-1986', '30-nov-1986', '19-nov-1986', '04-nov-1986', '03-oct-1986', 'oct-1986', 'reported 22-sep-1986', 'sep-1986', '19-aug-1986', '09-jul-1986', '20-apr-1986', '12-jan-1986', '1986', '10-dec-1985', '05-nov-1985', '03-nov-1985', '22-oct-1985', '18-oct-1985', '12-oct-1985', '05-oct-1985', '28-sep-1985', '08-sep-1985', '05-sep-1985', '22-aug-1985', '20-aug-1985', '17-aug-1985', '25-jul-1985', '21-jul-1985', '19-jul-1985', '26-may-1985', '16-mar-1985', '18-feb-1985', '03-feb-1985', '11-nov-1984', '04-nov-1984', '21-oct-1984', '17-oct-1984', '14-oct-1984', '30-sep-1984', '23-sep-1984', '22-sep-1984', '19-sep-1984', '17-sep-1984', '15-sep-1984', '24-aug-1984', '24-jul-1984', '01-jul-1984', '03-jun-1984', '1984', '25-dec-1983', 'reported      10-nov-1983', '17-oct-1983', '13-oct-1983', '04-sep-1983', '20-aug-1983', '15-aug-1983', '13-aug-1983', '06-aug-1983', '12-jul-1983', '05-jul-1983', '29-jun-1983', '20-jun-1983', '31-may-1983', '24-may 1983', '21-may-1983', '19-apr-1983', '02-apr-1983', '10-mar-1983', '24-jan-1983', '1983', 'nov-1982', '13-oct-1982', '27-sep-1982', '25-sep-1982', '19-sep-1982', '04-sep-1982', '29-aug-1982', '24-jul-1982', '19-jul-1982', '11-jul-1982', '01-jul-1982', '26-jun-1982', '25-jun-1982', '13-jun-1982', 'may 1982', '10-mar-1982', '27-feb-1982', '14-feb-1982', '13-feb-1982', '07-feb-1982', '19-dec-1981', '13-dec-1981', '09-nov-1981', '19-oct-1981', '17-oct-1981', '16-oct-1981', '01-oct-1981', '28-sep-1981', '27-sep-1981', '15-sep-1981', '03-sep-1981', '29-aug-1981', '24-aug-1981', '10-aug-1981', '20-jul-1981', '07-jul-1981', '12-jun-1981', '24-may-1981', '19-may-1981', '16-may-1981', '25-mar-1981', '24-mar-1981', '02-feb-1981', '30-jan-1981', '27-oct-1980', '17-oct-1980', '10-aug-1980', '04-aug-1980', '27-jul-1980', '23-jul-1980', 'late jul-1980', 'early jul-1980', '26-jun-1980', '27-nov-1979', '05-aug-1979', '19-jun-1979', '27-may-1979', '08-apr-1979', '24-mar-1979', '11-mar-1979', '1979', '26-nov-1978', '23-nov-1978', '05-aug-1978', 'reported 01-aug-1978', '27-jul-1978', '19-jul-1978', '21-jun-1978', '1978', '31-dec-1977', '19-dec-1977', '14-aug-1977', '05-aug-1977', '02-jul-1977', '26-jun-1977', '06-jun-1977', '21-apr-1977', '18-dec-1976', '25-nov-1976', '18-oct-1976', '12-sep-1976', '06-sep-1976', '26-aug-1976', '24-aug-1976', '24-jul-1976', '21-jul-1976', '16-jul-1976', '12-jul-1976', '23-jun-1976', '10-jun-1976', '28-apr-1976', '12-mar-1976', '08-jan-1976', '1976', '06-dec-1975', '02-nov-1975', '21-oct-1975', '04-oct-1975', '12-aug-1975', '09-aug-1975', '30-jul-1975', '26-jul-1975.b', '23-jul-1975', '19-jul-1975', '15-jul-1975', '04-jul-1975', '23-jun-1975', '15-jun-1975', 'reported 02-jun-1975', 'jun-1975', '25-may-1975', '20-may 1975', '16-mar-1975', '01-nov-1974', '28-sep-1974', '14-sep-1974', '02-sep-1974', 'sep-1974', '05-aug-1974', '26-jul-1974', '20-jul-1974', '02-jul-1974', '20-jun-1974', '26-may-1974', '12-apr-1974', '18-dec-1973', '24-nov-1973', '16-aug-1973', '09-jan-1973', '14-oct-1972', '09-sep-1972', '29-aug-1972', '17-aug-1972', '05-jul-1972', '10-jun-1972', '28-may-1972', '16-mar-1972', '23-oct-1971', '02-oct-1971', '25-sep-1971', '26-jul-1971', '19-jul-1971', '03-dec-1970', '24-oct-1970', 'oct-1970', '05-sep-1970', 'sep-1970', '22-jun-1970', '31-mar-1970', '23-mar-1970', '11-nov-1969', '14-oct-1969', '06-sep-1969', '29-aug-1969', '22-aug-1969', '02-aug-1969', '22-jul-1969', '20-jul-1969', '27-jun-1969', 'jun-1969', '25-may-1969', '24-may-1969', '19-aug-1969', '09-mar-1969', '13-oct-1968', '22-sep-1968', '24-aug-1968', '21-aug-1968', '27-jul-1968', '23-jul-1968', '16-jul-1968', '09-jun-1968', '29-apr-1968', '20-apr-1968', '10-mar-1968', 'mar-1968', '26-feb-1968', '1968', '14-dec-1967', '17-oct-1967', '20-sep-1967', '07-sep-1967', '27-aug-1967', '07-aug-1967', '29-jul-1967', 'jul-1967', '13-jun-1967', '19-sep-1966', '8-sep-1966', 'mid aug-1966', 'aug-1966', '31-jul-1966', '19-jul-1966', '17-jul-1966', '03-jul-1966', '22-jun-1966', '11-jun-1966', '04-jun-1966', '16-may-1966', '08-apr-1966', '22-jan-1966', '05-jan-1966', 'summer of 1996', '26-aug-1965', '19-jun-1965', '18-jun-1965', '29-apr-1965', '25-apr-1965', '10-apr-1965', '04-apr-1965', '23-mar-1965', '14-mar-1965', '04-feb-1965', '25-jan-1965', 'summer 1965', '1965', 'early 1965', '05-nov-1964', '25-oct-1964', '26-aug-1964', '22-aug-1964', '21-aug-1964', '08-aug-1964', '27-jul-1964', '15-jul-1964', '08-jul-1964', '28-jun-1964', '24-jun-1964', '05-mar-1964', 'feb-1964', '11-jan-1964', '12-nov-1963', '16-oct-1963', '26-sep-1963', '10-sep-1963', '15-jul-1963', '11-jul-1963', '18-may-1963', '20-apr-1963', '12-apr-1963', '08-apr-1963', '04-feb-1963', '11-nov-1962', '06-oct-1962', '29-aug-1962', '26-aug-1962', '19-aug-1962', '12-aug-1962', '28-jul-1962', '19-jul-1962', '10-jul-1962', '07-jul-1962', '25-jun-1962', '17-jun-1962', '11-jun-1962', '10-jun-1962', '04-jun-1962', '03-jun-1962', '29-may-1962', '12-may-1962', '14-jan-1962', '09-oct-1961', 'oct-1961', '26-sep-1961', '20-aug-1961', '16-aug-1961', '02-aug-1961', '29-jul-1961', '24-jun-1961', '18-jun-1961', 'reported 06-jun-1961', '21-may-1961', '15-may-1961', '30-apr-1961', '16-apr-1961', '17-feb-1961', 'feb-1961', '1961', '27-dec-1960', '22-nov-1960', '25-oct-1960', 'oct-1960', '24-sep-1960', '30-aug-1960', '25-aug-1960', '24-aug-1960', '22-aug-1960', '21-aug-1960', '10-aug-1960', '04-aug-1960', 'aug-1960', '05-jul-1960', '03-jul-1960', '29-jun-1960', '24-jun-1960', '07-jun-1960', '04-jun-1960', '19-may-1960', '16-may-1960', '24-apr-1960', '31-mar-1960', '27-feb-1960', '03-feb-1960', '16-nov-1959', '10-nov-1959', '04-oct-1959', '26-sep-1959', 'between 10 and 12-sep-1959', '02-sep-1959', '15-aug-1959', '14-aug-1959', '13-aug-1959', '10-aug-1959', '05-aug-1959', '30-jul-1959', '28-jul-1959', '25-jul-1959', '23-jul-1959', '02-jul-1959', '14-jun-1959', '13-jun-1959', '16-may-1959', '07-may-1959', '03-may-1959', '09-apr-1959', '29-mar-1959', 'mar-1959', '13-dec-1958', '05-nov-1958', '12-oct-1958', '05-oct-1958', '01-sep-1958', '27-jul-1958', '10-jul-1958', '02-jul-1958', 'jul-1958', '26-jun-1958', '24-jun-1958', '17-jun-1958', '30-apr-1958', '01-feb-1958', 'aug-1957', '24-jul-1957', '15-jul-1957', 'may 1957', '28-apr-1957', '22-apr-1957', '05-feb-1957', 'feb-1957', '1957', '23-sep-1956', 'reported 15-aug-1956', '15-aug-1956', '28-jul-1956', '26-jul-1956', '17-jul-1956', '12-jul-1956', '1956', '11-dec-1955', '20-sep-1955', '04-sep-1955', '03-sep-1955', '30-aug-1955', 'reported 04-aug-1955', '23-jun-1955', '08-may-1955', 'apr-1955', '10-feb-1955', '06-feb-1955', '1955', '20-nov-1954', '07-oct-1954', '21-sep-1954', 'reported 04-jul-1954', '29-jun-1954', '08-apr-1954', '1954', 'reported 20-sep-1953', '18-sep-1953', 'reported 03-sep-1953', '02-sep-1953', '26-jul-1953', '16-jul-1953', '15-jul-1953', '04-jul-1953', '04-apr-1953', '18-feb-1953', '1953', '03-aug-1952', '7-dec-1952', '03-dec-1952', '27-jul-1952', '13-jul-1952', '05-jul-1952', '27-may-1952', '1952', 'reported 19-jul-1951', '25-jun-1951', '28-oct-1950', '10-jul-1950', '09-jul-1950', 'jul-1950', '25-jun-1950', '06-jun-1950', '16-jan-1950', '1950', '1950s', '25-jul-1949', '16-jul-1949', '19-sep-1948', '01-jul-1948', '13-feb-1948', 'summer 1948', '04-aug-1947', 'reported 27-jul-1947', '27-jun-1947', '06-aug-1945', '08-may-1945', '02-dec-1944', '03-sep-1944', '31-may-1944', '04-dec-1943', '26-oct-1943', '18-jul-1943', '5-apr-1943', 'fall 1943', '1943', '04-jun-1942', 'reported 21-aug-1941', '01-aug-1941', '22-jul-1941', '01-jul-1941', '15-jun-1941', '09-mar-1941', '13-jul-1940', '30-jun-1940', '04-oct-1939', '01-aug-1939', '14-jul-1939', '03-may-1939', '18-aug-1938', '18-jul-1938', '17-jul-1938', '1938', '13-nov-1937', '15-jun-1937', '30-may-1937', '30-dec-1936', '04-sep-1936', 'aug-1936', '25-jul-1936', '12-jul-1936', '06-jun-1936', '30-mar-1936', '21-sep-1935', '27-jul-1935', '18-jun-1935', 'reported 08-apr-1935', '05-aug-1934', '20-jun-1934', '28-aug-1933', 'reported 26-aug-1933', 'reported 07-jul-1933', '21-jun-1933', '16-jun-1933', '10-apr-1933', '10-aug-1932', 'reported 14-jul-1932', '28-jun-1932', '26-jun-1932', '16-feb-1932', '21-sep-1931', '02-sep-1931', '30-aug-1931', '27-aug-1931', '18-aug-1931', 'reported 06-aug-1931', '15-jul-1931', '14-jun-1931', '13-jun-1931', 'reported 04-jun-1931', '06-aug-1930', '11-jul-1930', '27-may-1930', 'reported 07-mar-1930', '05-aug-1929', '23-jun-1929', '16-mar-1929', '1929', '18-nov-1928', '12-nov-1928', 'sep-1928', 'reported 24-aug-1928', 'reported 24-jun-1928', '21-jan-1928', 'some time between 08-jan-1928 & 21-jan-1928', 'reported 08-jan-1927', '24-aug-1926', '12-jul-1926', '08-jul-1926', '18-may-1926', '07-apr-1926', 'nov-1925', '02-aug-1925', 'may 1925', 'reported 27-jan-1925', '21-nov-1924', '31-jul-1924', '04-jul-1924', '18-jun-1924', 'feb-1923', '1923', '14-dec-1922', '28-sep-1922', 'reported 21-sep-1922', '19-jul-1922', '17-jun-1922', '14-jul-1920', '29-jun-1920', '10-aug-1919', '29-may-1919', '06-apr-1919', '1919', 'nov-1918', '21-sep-1917', '09-sep-1917', '18-jul-1917', '03-jun-1917', '11-oct-1916', '24-aug-1916', '26-jul-1916', '13-jul-1916', '12-jul-1916', '06-jul-1916', '01-jul-1916', '30-jun-1916', '23-jun-1916', '03-aug-1915', 'ca. 1915', '09-sep-1914', 'reported 09-jul-1914', '14-may-1914', 'reported 14-mar-1914', '03-mar-1914', 'reported 30-dec-1913', '21-sep-1913', 'reported 27-aug-1913', '12-july-1913', '21-may-1913', '30-aug-1912', '23-jul-1912', '08-nov-1911', '26-oct-1911', '23-sep-1911', '20-sep-1911', '17-sep-1911', 'reported 16-jul-1911', 'reported 01-may-1911', '1911', 'reported 16-may-1910', 'mar-1910', '1910', 'reported 26-nov-1909', 'reported 04-sep-1909', '13-aug-1909', '24-jul-1909', '15-jul-1909', '10-apr-1909', '05-sep-1908', '08-jun-1908', '10-may-1908', '08-jan-1908', '08-oct-1907', 'reported 08-aug-1907', 'jul-1907', '26-mar-1907', '1907', 'reported 10-oct-1906', 'sep-1906', '04-aug-1906', 'reported 05-jul-1906', 'reported 06-sep-1905', 'late aug-1905', '29-jul-1905', 'jul-1905', '22-may-1905', '1905', '28-jul-1904', '27-jul-1904', '1904', 'reported 16-sep-1903', 'ca. 1903', 'reported 01-nov-1902', '08-aug-1902', '06-jul-1902', 'summer 1901', '13-sep-1900', '05-sep-1900', '21-aug-1900', '14-jul-1900', 'late jul-1900', 'early 1900s', 'reported 23-aug-1899', '15-aug-1899', '1899', 'ca. 1899', '28-oct-1898', '22-aug-1898', '1898', '1898-1899', 'reported 04-dec-1897', '17-sep-1897', '06-sep-1897', 'reported 15-mar-1897', '25-jul-1896', 'reported 21-jun-1896', '1896', 'sep-1895', '11-aug-1895', '2-aug-1895', '11-dec-1894', 'reported 06-oct-1894', 'reported 12-sep-1894', 'reported 01-sep-1894', '21-aug-1894', '01-aug-1894', '29-jun-1894', 'reported 15-jun-1894', 'reported 16-sep-1892', '29-aug-1891', '11-jun-1891', 'reported 17-aug-1890', '9-aug-1890', '16-nov-1889', '21-jul-1889', '19-jul-1889', 'reported 31-jan-1889', 'reported 01-aug-1888', '18-oct-1887', 'mid-aug-1886', 'aug-1886', '02-jun-1886', '26-jul-1885', 'reported 28-aug-1884', '18-aug-1884', 'reported 18-dec-1883', 'reported 19-oct-1883', 'summer of 1883', '1883', '1882', '16-oct-1881', '05-sep-1881', '12-aug-1881', '13-jun-1881', '25-jul-1880', 'ca. 1880', '3-jul-1879', '1879', 'reported 14-sep-1878', '09-aug-1878', '08-aug-1878', 'reported 13-oct-1876', 'reported 04-jun-1876', 'reported 15-jul-1874', '15-jul-1874', '28-jul-1873', 'reported 03-apr-1872', 'reported 29-aug-1871', 'aug-1871', '27-jul-1870', 'reported 09-jul-1866', '02-sep-1865', 'reported 14-jul-1865', '02-oct-1864', '12-aug-1864', 'reported 13-sep-1863', 'reported 09-jul-1863', 'circa 1862', '01-aug-1860', '16-mar-1859', '23-aug-1858', '17-aug-1858', 'reported 14-jan 1858', '05-may-1857', '30-sep-1855', '28-sept-1853', 'reported 13-jul-1853', 'sep or oct-1853', '1853', '1853 or 1854', 'aug-1852', '1852', 'mar-1851', '1851', '21-oct-1850', '08-jun-1849', '31-aug-1848', 'reported 17-jul-1848', '10-sep-1847', 'reported 03-jul-1847', '1847', 'ca. 1847', 'reported 10-sep-1845', 'reported 31-jul-1845', '13-jul-1842', '06-jul-1842', 'reported 22-jul-1840', '09-sep-1837', 'jul-1837', 'ca. 1837', '24-aug-1831', '26-jul-1830', '10-jun-1829', '1828', '24-jun-1817', 'reported 03-sept-1816', '15-sep-1810', 'aug-24-1806', 'sep-1805', 'may-17-1803', '08-aug-1780', '1779', 'reported 12-jul-1771', '27-jul-1751', '1642', '2009?', 'before 2012', 'before 1908', 'before 2009', 'beforer 1994', 'before 2006', 'no date', 'no date, before  1975', 'no date, before 1963', 'no date, before 1902', 'before  19-jun-1959', 'before 1958', 'before 1921', 'before 17-jul-1916', '1900-1905']\n"
     ]
    }
   ],
   "source": [
    "print(list(data[\"date\"].unique()))"
   ]
  },
  {
   "cell_type": "code",
   "execution_count": 479,
   "id": "c033c20a",
   "metadata": {},
   "outputs": [
    {
     "data": {
      "text/plain": [
       "05-oct-2003             5\n",
       "28-jul-1995             5\n",
       "12-apr-2001             5\n",
       "20-sep-2015             4\n",
       "reported 10-oct-1906    4\n",
       "                       ..\n",
       "sep-2003                1\n",
       "17-sep-2003             1\n",
       "19-sep-2003             1\n",
       "21-sep-2003             1\n",
       "1900-1905               1\n",
       "Name: date, Length: 1993, dtype: int64"
      ]
     },
     "execution_count": 479,
     "metadata": {},
     "output_type": "execute_result"
    }
   ],
   "source": [
    "data[\"date\"].value_counts()"
   ]
  },
  {
   "cell_type": "code",
   "execution_count": null,
   "id": "fd13ecc1",
   "metadata": {},
   "outputs": [],
   "source": [
    "#data.date=data.date.replace([\"before\",\"reported\",\"no date\",\"circa\",\"late\",\"early\",\"summer\",\"ca.\"], \"\")\n",
    "#no puedo hacerlo de manera conjunta, he probado diferentes formas. "
   ]
  },
  {
   "cell_type": "code",
   "execution_count": 480,
   "id": "688c7410",
   "metadata": {},
   "outputs": [],
   "source": [
    "data.date=data.date.str.replace(\"no date\", \"unknow\")\n",
    "data.date=data.date.str.replace(\"before\", \"\")\n",
    "data.date=data.date.str.replace(\"reported\", \"\")\n",
    "data.date=data.date.str.replace(\"circa\", \"\")\n",
    "data.date=data.date.str.replace(\"late\", \"\")\n",
    "data.date=data.date.str.replace(\"early\", \"\")\n",
    "data.date=data.date.str.replace(\"summer\", \"\")\n",
    "data.date=data.date.str.replace(\"ca.\", \"\")\n",
    "data.date=data.date.str.replace(\"r.\", \"\")"
   ]
  },
  {
   "cell_type": "code",
   "execution_count": 481,
   "id": "9974df8d",
   "metadata": {},
   "outputs": [],
   "source": [
    "lim_date=[]\n",
    "\n",
    "for i in data[\"date\"]:\n",
    "    lim_date.append(i.strip().lower())\n",
    "    \n",
    "data[\"date\"] = lim_date"
   ]
  },
  {
   "cell_type": "code",
   "execution_count": 482,
   "id": "33d01780",
   "metadata": {
    "scrolled": false
   },
   "outputs": [
    {
     "name": "stdout",
     "output_type": "stream",
     "text": [
      "['25-jun-2018', '18-jun-2018', '09-jun-2018', '27-may-2018', '26-may-2018', '21-may-2018', '13-may-2018', '19-ap2018', '31-ma2018', '31-dec-2017', '30-dec-2017', '24-nov-2017', '18-nov-2017', '26-oct-2017', '23-oct-2017', '18-oct-2017', '09-oct-2017', '05-oct-2017', '25-sep-2017', '24-sep-2017', '20-sep-2017', '16-sep-2017', '13-sep-2017', '02-sep-2017', '27-aug-2017', '23-aug-2017', '10-aug-2017', '03-aug-2017', '01-aug-2017', '31-jul-2017', '29-jul-2017', '23-jul-2017', '22-jul-2017', '20-jul-2017', '14-jul-2017', '11-jul-2017', '09-jul-2017', '29-jun-2017', '21-jun-2017', '19-jun-2017', '18-jun-2017', '10-jun-2017', '04-jun-2017', '30-may-2017', '28-may-2017', '03-may-2017', '29-ap2017', '26-ap2017', '20-ap2017', '17-ap2017', '14-ap2017', '13-ap2017', '12-ap2017', '11-ap2017', '10-ap2017', '06-ap2017', '05-ap2017', '02-ap2017', '27-ma2017', '18-ma2017', '11-feb-2017', '01-feb-2017', '22-jan-2017', '13-jan-2017', '05-jan-2017', '27-dec-2016', '11-dec-2016', '14-nov-2016', '30-oct-2016', '29-oct-2016', '21-oct-2016', '14-oct-2016', '10-oct-2016', '02-oct-2016', '01-oct-2016', '18-sep-2016', '17-sep-2016', '11-sep-2016', '07-sep-2016', '05-sep-2016', '04-sep-2016', '01-sep-2016', '29-aug-2016', '25-aug-2016', '06-aug-2016', '04-aug-2016', '27-jul-2016', '17-jul-2016', '16-jul-2016', '15-jul-2016', '08-jul-2016', '07-jul-2016', '06-jul-2016', '27-jun-2016', '25-jun-2016', '21-jun-2016', '15-jun-2016', '14-jun-2016', '11-jun-2016', '07-jun-2016', '05-jun-2016', '29-may-2016', '22-may-2016', '21-may-2016', '18-may-2016', '15-may-2016', '03-may-2016', '23-ap2016', '13-ap2016', '07-ap2016', '31-ma2016', '28-ma2016', '13-ma2016', '11-ma2016', '04-ma2016', '28-jan-2016', '25-jan-2016', '24-jan-2016', '23-jan-2016', '22-dec-2015', '16-nov-2015', '15-nov-2015', '07-nov-2015', '03-nov-2015', '01-nov-2015', '28-oct-2015', '21-oct-2015', '19-oct-2015', '17-oct-2015', '13-oct-2015', '09-oct-2015', '05-oct-2015', '04-oct-2015', '29-sep-2015', '24-sep-2015', '20-sep-2015', '19-sep-2015', '18-sep-2015', '17-sep-2015', '06-sep-2015', '05-sep-2015', '03-sep-2015', '29-aug-2015', '22-aug-2015', '20-aug-2015', '19-aug-2015', '18-aug-2015', '10-aug-2015', '26-jul-2015', '23-jul-2015', '10-jul-2015', '08-jul-2015', '04-jul-2015', '01-jul-2015', '30-jun-2015', '27-jun-2015', '26-jun-2015', '25-jun-2015', '24-jun-2015', '23-jun-2015', '17-jun-2015', '14-jun-2015', '13-jun-2015', '11-jun-2015', '07-jun-2015', '05-jun-2015', '29-may-2015', '24-may-2015', '20-may2015', '15-may-2015', '07-may-2015', '29-ap2015', '26-ap2015', '13-ap2015', '03-ap2015', '18-ma2015', '27-jan-2015', '19-jan-2015', '08-jan-2015', '01-jan-2015', '28-dec-2014', '17-nov-2014', '16-nov-2014', '13-nov-2014', '08-nov-2014', '31-oct-2014', '22-oct-2014', '20-oct-2014', '19-oct-2014', '18-oct-2014', '14-oct-2014', '12-oct-2014', '05-oct-2014', '07-oct-2014', '03-oct-2014', '02-oct-2014', '21-sep-2014', '13-sep-2014', '06-sep-2014', '03-sep-2014', '02-sep-2014', '31-aug-2014', '29-aug-2014', '28-aug-2014', '27-aug-2014', '25-aug-2014', '24-aug-2014', '12-aug-2014', '10-aug-2014', '09-aug-2014', '08-aug-2014', '06-aug-2014', '05-aug-2014', '02-aug-2014', '27-jul-2014', '21-jul-2014', '16-jul-2014', '14-jul-2014', '12-jul-2014', '9-jul-2014', '5-jul-2014', '3-jul-2014', '09-jun-2014', '07-jun-2014', '01-jun-2014', '15-may-2014', '13-may2014', '11-may-2014', '10-may-2014', '06-may-2014', '01-may-2014', '22-ap2014', '15-ap2014', '04-ap2014', '22-ma2014', '21-ma2014', '02-ma2014', '2014', '11-dec-2013', '10-dec-2013', '02-dec-2013', '29-nov2013', '22-nov-2013', '07-nov-2013', '31-oct-2013', '23-oct-2013', '20-oct-2013', '19-oct-2013', '06-oct-2013', '10-oct-2013', '29-sep-2013', '25-sep-2013', '21-sep-2013', '14-sep-2013', '12-sep-2013', '08-sep-2013', '07-sep-2013', '02-sep-2013', '01-sep-2013', '31-aug-2013', '29-aug-2013', '25-aug-2013', '18-aug-2013', '17-aug-2013', '14-aug-2013', '13-aug-2013', '11-aug-2013', '05-aug-2013', '31-jul-2013', '30-jul-2013', '29-jul-2013', '19-jul-2013', '17-jul-2013', '11-jul-2013', '25-jun-2013', '18-jun-2013', '17-jun-2013', '15-jun-2013', '14-jun-2013', '06-jun-2013', '27-may-2013', '08-may-2013', '04-may-2013', '17-ap2013', '13-ap2013', '04-ap2013', '02-ap2013', '21-feb-2013', '10-feb-2013', '16-jan-2013', '31-dec-2012', '05-dec-2012', '30-nov-2012', '19-nov-2012', '04-nov-2012', '30-oct-2012', '27-oct-2012', '23-oct-2012', '19-oct-2012', '18-oct-2012', '16-oct-2012', '10-oct-2012', '25-sep-2012', '24-sep-2012', '16-sep-2012', '09-sep-2012', '08-sep-2012', '06-sep-2012', '04-sep-2012', '02-sep-2012', '15-aug-2012', '08-aug-2012', '31-jul-2012', '30-jul-2012', '24-jul-2012', '08-jul-2012', '07-jul-2012', '26-jun-2012', '22-jun-2012', '19-jun-2012', '18-jun-2012', '15-jun-2012', '14-jun-2012', '02-jun-2012', '31-may-2012', '23-may-2012', '20-may-2012', '12-may-2012', '09-may-2012', '06-may-2012', '19-ap2012', '03-ap2012', 'ap2013', '24-ma2012', '15-ma2012', '14-ma2012', '04-ma2012', '26-feb-2012', '27-jan-2012', '13-jan-2012', '31-dec-2011', '23-dec-2011', '21-dec-2011', '06-dec-2011', '22-nov-2011', '29-oct-2011', '20-oct-2011', '11-oct-2011', '10-oct-2011', '02-oct-2011', '01-oct-2011', '30-sep-2011', '24-sep-2011', '20-sep-2011', '16-sep-2011', '11-sep-2011', '04-sep-2011', '02-sep-2011', '31-aug-2011', '28-aug-2011', '24-aug-2011', '17-aug-2011', '16-aug--2011', '15-aug-2011', '11-aug--2011', '25-jul-2011', '19-jul-2011', '13-jul-2011', '07-jul-2011', '26-jun-2008', '24-jun-2011', '21-jun-2011', '12-jun-2011', '06-jun-2011', '30-may-2011', '25-may-2011', '22-may-2011', '13-may-2011', '10-may-2011', '26-ap2011', '22-ap2011', '29-ma2011', '26-dec-2010', '11-dec-2010', '19-nov-2010', '28-oct-2010', '23-oct-2010', '22-oct-2010', '27-sep-2010', '24-sep-2010', '07-sep-2010', '04-sep-2010', '03-sep-2010', '18-aug-2010', '14-aug-2010', '07-aug-2010', '05-aug-2010', '02-aug-2010', '25-jul-2010', '23-jul-2010', '19-jul-2010', '17-jul-2010', '16-jul-2010', '11-jul-2010', '03-jul-2010', '02-jul-2010', '27-jun-2010', '25-jun-2010', '10-jun-2010', 'jun-2010', '30-may-2010', '01-may-2010', '28-ap2010', '19-ap2010', '06-feb-2010', '03-feb-2010', '06-jan-2010', '05-dec-2009', '25-nov-2009', '24-nov-2009', '16-nov-2009', '13-nov-2009', '11-nov-2009', '05-nov-2009', '24-oct-2009', '19-oct-2009', '09-oct-2009', '26-sep-2009', '12-sep-2009', '30-aug-2009', '25-aug-2009', '10-aug-2009', '06-aug-2009', '01-aug-2009', '24-jul-2009', '22-jul-2009', '11-jul-2009', '05-jul-2009', '04-jul-2009', '21-jun-2009', '16-jun-2009', '25-may-2009', '17-may-2009', '16-may-2009', '28-ap2009', '25-ap2009', '21-ap2009', '19-ap2009', '17-ap2009', '11-ap2009', '06-ap2009', '03-ap2009', '18-ma2009', '17-ma2009', '08-feb-2009', '20-dec-2008', '08-oct-2008', '28-sep-2008', '14-sep-2008', '09-sep-2008', '08-sep-2008', '06-sep-2008', '01-sep-2008', 'sep-2008', '30-aug-2008', '28-aug-2008', '27-aug-2008', '24-aug-2008', '20-aug-2008', '18-aug-2008', '16-aug-2008', '12-aug-2008', '11-aug-2008', '26-jul-2008', '25-jul-2008', '24-jul-2008', '23-jul-2008', '19-jul-2008', '13-jul-2008', '11-jul-2008', '09-jul-2008', '05-jul-2008', '28-jun-2008', '21-jun-2008', '20-jun-2008', '07-jun-2008', '01-jun-2008', '26-may-2008', '07-may-2008', '28-ap2008', '27-ap2008', '26-ap2008', '25-ap2008', '20-ap2008', '15-ap2008', '25-ma2008', '08-ap2008', '03-ap2008', '28-ma2008', '23-ma2008', '21-ma2008', '15-ma2008', '07-ma2008', '15-feb-2008', '06-feb-2008', '10-jan-2008', 'fall 2008', '10-dec-2007', '06-nov-2007', '04-nov-2007', '29-oct-2007', '07-oct-2007', '06-oct-2007', '30-sep-2007', '27-sep-2007', '22-sep-2007', '20-sep-2007', '16-sep-2007', '13-sep-2007', '08-sep-2007', '05-sep-2007', '04-sep-2007', '03-sep-2007', '28-aug-2007', '26-aug-2007', '25-aug-2007', '22-aug-2007', '20-aug-2007', '19-aug-2007', '15-aug-2007', '12-aug-2007', '11-aug-2007', '09-aug-2007', '07-aug-2007', '29-jul-2007', '28-jul-2007', '22-jul-2007', '21-jul-2007', '19-jul-2007.b', '18-jul-2007', '17-jul-2007', '05-jul-2007', '30-jun-2007', '25-jun-2007', '24-jun-2007', '17-jun-2007', '12-jun-2007', '26-may-2007', '24-may-2007', '10-may-2007', '07-may-2007', '22-ap2007', '20-ap2007', '13-ap2007', '01-ap2007', '31-ma2007', '21-ma2007', '14-ma2007', '11-ma2007', '25-jan-2007', '07-jan-2007', '01-jan-2007', '10-dec-2006', '11-nov-2006', '31-oct-2006', '16-oct-2006', '10-oct-2006', '07-oct-2006', '05-oct-2006', '29-sep-2006', '18-sep-2006', '16-sep-2006', '14-sep-2006', '11-sep-2006', '03-sep-2006', '02-sep-2006', '29-aug-2006', 'aug-2006', '31-jul-2006', '29-jul-2006', '25-jul-2006', '23-jul-2006', '17-jul-2006', '12-jul-2006', '09-jul-2006', '09-jul-2006.', '08-jul-2006', 'july 2006', '27-jun-2006', '26-jun-2006', '20-jun-2006', '17-jun-2006', '15-jun-2006', '07-jun-2006', '31-may-2006', '28-may-2006', '27-may-2006', '24-may-2006', '19-may-2006', '05-may-2006', '04-may-2006', '23-ap2006', '21-ap2006', '19-ap2006', '13-ap2006', '03-ap2006', '23-ma2006', '27-feb-2006', '23-feb-2006', '01-feb-2006', '18-jan-2006', '04-jan-2006', '24-dec-2005', '21-dec-2005', '29-nov-2005', '27-nov-2005', '21-nov-2005', '20-nov-2005', '12-nov-2005', '02-nov-2005', '29-oct-2005', '21-oct-2005', '19-oct-2005', '15-oct-2005', '13-oct-2005', '06-oct-2005', '22-sep-2005', '20-sep-2005', '11-sep-2005', '05-sep-2005', '02-sep-2005', '24-aug-2005', '22-aug-2005', '21-aug-2005', '19-aug-2005', '12-aug-2005', '6-aug-2005', '27-jul-2005', '23-jul-2005', '22-jul-2005', '15-jul-2005', '13-jul-2005', '1-jul-2005', '27-jun-2005', '25-jun-2005', '18-jun-2005', '16-jun-2005', '07-jun-2005', '05-jun-2005', '02-jun-2005', '28-may-2005', '27-may-2005', '14-may-2005', '02-may-2005', '13-ap2005', '09-ap2005', '07-ap2005', '06-ap2005', '12-ma2005', '22-feb-2005', '16-feb-2005', '13-feb-2005', '11-nov-2004', '10-oct-2004', '09-oct-2004', '02-oct-2004', '01-oct-2004', '20-sep-2004', '10-sep-2004', '04-sep-2004', '29-aug-2004', '20-aug-2004', '15-aug-2004', '06-aug-2004', '31-jul-2004', '28-jul-2004', '27-jul-2004', '25-jul-2004', '02-jul-2004', '26-jun-2004', '14-jun-2004', '10-jun-2004', '29-may-2004', '28-may-2004', '23-may-2004', '22-may-2004', '04-may-2004', '07-ap2004', '04-ap2004', '31-ma2004', '28-ma2004', '27-ma2004', '14-ma2004', '16-ma2004', '26-dec-2003', '13-dec-2003', '22-nov-2003', '12-nov-2003', '31-oct-2003', '27-oct-2003', '24-oct-2003', '14-oct-2003', '06-oct-2003', '05-oct-2003', '28-sep-2003', '21-sep-2003', '19-sep-2003', '17-sep-2003', '14-sep-2003', '13-sep-2003', 'sep-2003', '29-aug-2003', '19-aug-2003', '12-aug-2003', '20-jul-2003', '15-jul-2003', '05-jul-2003', 'jul-2003', '30-jun-2003', '26-jun-2003', '24-jun-2003', '22-jun-2003', '19-jun-2003', '08-jun-2003', 'jun-2003', '25-may-2003', '14-may-2003', '10-may-2003', '07-may-2003', '03-may-2003', '21-ap2003', '20-ap2003', '19-ap2003', '18-ap2003', '15-ap2003', '09-ap2003', '04-ap2003', '10-ma2003', '15-feb-2003', '28-nov-2002', '17-nov-2002', '11-nov-2002', '02-nov-2002', '30-oct-2002', '11-oct-2002', '05-oct-2002', '03-oct-2002', '30-sep-2002', '29-sep-2002', '27-sep-2002', '21-sep-2002', '16-sep-2002', '09-sep-2002', '05-sep-2002', '28-aug-2002', '17-aug-2002', '14-aug-2002', '11-aug-2002', '07-aug-2002', '05-aug-2002', '26-jul-2002', '20-jul-2002', '10-jul-2002', '09-jul-2002', '04-jul-2002', '20-jun-2002', '11-jun-2002', '10-jun-2002', '09-jun-2002', '31-may-2002', '22-may-2002', '13-may-2002', '20-ap2002', '18-ap2002', '02-ap2002', '01-ap2002', '25-ma2002', '19-ma2002', '15-ma2002', '01-jan-2002', '14-nov-2001', '24-sep-2001', '18-sep-2001', '16-sep-2001', '15-sep-2001', '08-sep-2001', '07-sep-2001', '03-sep-2001', '02-sep-2001', '01-sep-2001', '29-aug-2001', '27-aug-2001', '26-aug-2001', '25-aug-2001', '22-aug-2001', '21-aug-2001', '19-aug-2001', '18-aug-2001', '05-aug-2001', '26-jul-2001', '25-jul-2001', '24-jul-2001', '21-jul-2001', '15-jul-2001', '06-jul-2001', '03-jul-2001', 'jul-2001', '12-jun-2001', '10-jun-2001', '03-jun-2001', '29-may-2001', '23-may-2001', '20-may-2001', '03-may-2001', '28-ap2001', '13-ap2001', '12-ap2001', '11-ap2001', '10-ap2001', '05-ap2001', '23-ma2001', '09-ma2001', '09-jan-2001', '17-nov-2000', '10-nov-2000', '04-nov-2000', '20-oct-2000', '18-oct-2000', '14-oct-2000', '09-oct-2000', '06-oct-2000', '02-oct-2000', '29-sep-2000', '16-sep-2000', '15-sep-2000', '12-sep-2000', '11-sep-2000', '10-sep-2000', '08-sep-2000', '31-aug-2000', '30-aug-2000', '27-aug-2000', '21-aug-2000', '15-aug-2000', '13-aug-2000', '12-aug-2000', '11-aug-2000', '10-aug-2000', '25-jul-2000', '22-jul-2000', '17-jul-2000', '16-jul-2000', '10-jul-2000', '09-jul-2000', '07-jul-2000', '06-jul-2000', '04-jul-2000', '02-jul-2000', '19-jun-2000', '13-jun-2000', '10-jun-2000', '09-jun-2000', '02-jun-2000', '14-ap2000', '09-ap2000', '31-ma2000', '26-ma2000', '24-ma2000', 'ma2000', '21-feb-2000', '2000', '14-dec-1999', '02-dec-1999', '30-nov-1999', '23-nov-1999', '15-nov-1999', '30-oct-1999', '20-oct-1999', '01-oct-1999', '29-sep-1999', '19-sep-1999', '16-sep-1999', '10-sep-1999', '05-sep-1999', '04-sep-1999', '26-aug-1999', '24-aug-1999', '21-aug-1999', '16-aug-1999', '05-aug-1999', '26-jul-1999', '21-jul-1999', '06-jul-1999', '04-jul-1999', '19-jun-1999', '17-jun-1999', '12-jun-1999', '09-jun-1999', '01-ap1999', '18-ma1999', '08-ma1999', '05-ma1999', '26-feb-1999', '03-feb-1999', '1999', '24-dec-1998', '21-nov-1998', '14-nov-1998', '11-nov-1998', '05-nov-1998', '24-oct-1998', '10-oct-1998', '01-oct-1998', '27-sep-1998', '22-sep-1998', '14-sep-1998', '30-aug-1998', '26-aug-1998', '23-aug-1998', '13-aug-1998', '25-jul-1998', '08-jun-1998', '25-may-1998', '16-may-1998', '21-ap1998', '17-ap1998', '31-ma1998', '08-ma1998', '23-feb-1998', '1998', '25-dec-1997', '05-nov-1997', '28-oct-1997', '24-oct-1997', '21-oct-1997', '04-oct-1997', '09-sep-1997', '08-sep-1997', '06-sep-1997', '30-aug-1997', '27-aug-1997', '24-aug-1997', '11-aug-1997', '10-aug-1997', '09-aug-1997', '05-aug-1997', '04-aug-1997', '02-aug-1997', '14-jul-1997', '24-jun-1997', '09-jun-1997', '02-jun-1997', '31-may-1997', '21-feb-1997', '29-nov-1996', '18-nov-1996', '05-oct-1996', '03-oct-1996', '18-sep-1996', '06-sep-1996', '02-sep-1996', '01-sep-1996', '29-aug-1996', '13-aug-1996', '11-aug-1996', '26-jul-1996', '21-jul-1996', '20-jul-1996', '14-jul-1996', '10-jul-1996', '04-jul-1996', '25-jun-1996', '18-may-1996', '07-may-1996', '28-ap1996', '19-feb-1996', '23-jan-1996', '16-jan-1996', '1996', '18-dec-1995', '25-nov-1995', '28-oct-1995', '21-oct-1995', '01-oct-1995', '30-sep-1995', '28-sep-1995', '19-sep-1995', '17-sep-1995', '13-sep-1995', '03-sep-1995', '31-aug-1995', '26-aug-1995', '25-aug-1995', '22-aug-1995', '21-aug-1995', '15-aug-1995', '13-aug-1995', '10-aug-1995', '07-aug-1995', 'aug-1995', '28-jul-1995', '24-jul-1995', '23-jul-1995', '06-jul-1995', '03-jul-1995', 'jul-1995', '30-jun-1995', '24-jun-1995', '23-jun-1995', '17-jun-1995', '16-jun-1995', '14-jun-1995', '26-may-1995', '16-ap1995', '13-ap1995', '1995', '18-dec-1994', '09-dec-1994', '13-nov-1994', '06-nov-1994', '09-oct-1994', '05-oct-1994', '26-sep-1994', '21-sep-1994', '11-sep-1994', '05-sep-1994', '08-jul-1994', '31-may-1994', '28-may-1994', '24-may-1994', '23-may-1994', '15-may-1994', '16-ap1994', '03-ap1994', '07-ma1994', '19-feb-1994', '13-feb-1994', '31-jan-1994', '1994', 'dec-1993', '28-nov-1993', '12-nov-1993', '30-oct-1993', '26-oct-1993', '10-oct-1993', 'oct-1993', '14-sep-1993', '09-sep-1993', '19-aug-1993', '15-aug-1993', '12-aug-1993', '07-jul-1993', '10-jun-1993', 'jun-1993', '22-ma1993', '14-ma1993', '12-ma1993', '02-jan-1993', '1993', '28-dec-1992', '23-dec-1992', '29-nov-1992', '25-nov-1992', '23-nov-1992', '14-nov-1992', '11-nov-1992', '06-nov-1992', '05-nov-1992', '29-oct-1992', '22-oct-1992', '13-sep-1992', '11-sep-1992', 'sep-1992', '21-aug-1992', '18-aug-1992', '17-aug-1992', 'aug-1992', '23-jul-1992', '21-jul-1992', '31-may-1992', '28-ma1992', '08-ma1992', '19-feb-1992', '04-dec-1991', '26-nov-1991', '19-nov-1991', '14-nov-1991', '12-oct-1991', '05-oct-1991', '26-aug-1991', '12-aug-1991', '09-aug-1991', '27-jul-1991', '18-jul-1991', '07-jul-1991', '01-jul-1991', 'july 1991', '26-jun-1991', '07-jun-1991', '26-may-1991', '16-ap1991', '03-ap1991', '24-feb-1991', '03-nov-1990', '01-nov-1990', '30-oct-1990', '20-oct-1990', '15-oct-1990', '12-oct-1990', '08-sep-1990', '05-sep-1990', '30-aug-1990', '28-aug-1990', '19-aug-1990', '22-jul-1990', '08-jul-1990', '01-ap1990', '17-feb-1990', '05-feb-1990', '12-jan-1990', '1990', '19-dec-1989', '12-nov-1989', '14-oct-1989', '11-oct-1989', '08-oct-1989', '13-sep-1989', '10-sep-1989', '09-sep-1989', '03-sep-1989', '22-aug-1989', '14-jul-1989', '07-jul-1989', '29-jun-1989', '17-jun-1989', '23-ap1989', '12-ap1989', '09-ap1989', '03-ap1989', 'ap1989', '26-jan-1989', '20-jan-1989', '08-jan-1989', '1989', '23-oct-1988', '14-oct-1988', '11-oct-1988', '10-oct-1988', 'oct-1988', '28-sep-1988', '13-sep-1988', '22-aug-1988', '11-aug-1988', '11-jul-1988', '04-jul-1988', '16-jun-1988', '09-jun-1988', '05-jun-1988', '01-jun-1988', '10-may-1988', '04-may-1988', '24-ap1988', '15-ap1988', '14-ap1988', '31-ma1988', '25-ma1988', '14-jan-1988', '17-dec-1987', '21-nov-1987', '26-oct-1987', '20-aug-1987', '15-aug-1987', '21-jul-1987', '12-jul-1987', '11-jul-1987', '13-jun-1987', '25-may-1987', '08-may-1987', '18-ap1987', '15-ap1987', '28-feb-1987', '11-dec-1986', '06-dec-1986', '30-nov-1986', '19-nov-1986', '04-nov-1986', '03-oct-1986', 'oct-1986', '22-sep-1986', 'sep-1986', '19-aug-1986', '09-jul-1986', '20-ap1986', '12-jan-1986', '1986', '10-dec-1985', '05-nov-1985', '03-nov-1985', '22-oct-1985', '18-oct-1985', '12-oct-1985', '05-oct-1985', '28-sep-1985', '08-sep-1985', '05-sep-1985', '22-aug-1985', '20-aug-1985', '17-aug-1985', '25-jul-1985', '21-jul-1985', '19-jul-1985', '26-may-1985', '16-ma1985', '18-feb-1985', '03-feb-1985', '11-nov-1984', '04-nov-1984', '21-oct-1984', '17-oct-1984', '14-oct-1984', '30-sep-1984', '23-sep-1984', '22-sep-1984', '19-sep-1984', '17-sep-1984', '15-sep-1984', '24-aug-1984', '24-jul-1984', '01-jul-1984', '03-jun-1984', '1984', '25-dec-1983', '10-nov-1983', '17-oct-1983', '13-oct-1983', '04-sep-1983', '20-aug-1983', '15-aug-1983', '13-aug-1983', '06-aug-1983', '12-jul-1983', '05-jul-1983', '29-jun-1983', '20-jun-1983', '31-may-1983', '24-may 1983', '21-may-1983', '19-ap1983', '02-ap1983', '10-ma1983', '24-jan-1983', '1983', 'nov-1982', '13-oct-1982', '27-sep-1982', '25-sep-1982', '19-sep-1982', '04-sep-1982', '29-aug-1982', '24-jul-1982', '19-jul-1982', '11-jul-1982', '01-jul-1982', '26-jun-1982', '25-jun-1982', '13-jun-1982', 'may 1982', '10-ma1982', '27-feb-1982', '14-feb-1982', '13-feb-1982', '07-feb-1982', '19-dec-1981', '13-dec-1981', '09-nov-1981', '19-oct-1981', '17-oct-1981', '16-oct-1981', '01-oct-1981', '28-sep-1981', '27-sep-1981', '15-sep-1981', '03-sep-1981', '29-aug-1981', '24-aug-1981', '10-aug-1981', '20-jul-1981', '07-jul-1981', '12-jun-1981', '24-may-1981', '19-may-1981', '16-may-1981', '25-ma1981', '24-ma1981', '02-feb-1981', '30-jan-1981', '27-oct-1980', '17-oct-1980', '10-aug-1980', '04-aug-1980', '27-jul-1980', '23-jul-1980', 'jul-1980', '26-jun-1980', '27-nov-1979', '05-aug-1979', '19-jun-1979', '27-may-1979', '08-ap1979', '24-ma1979', '11-ma1979', '1979', '26-nov-1978', '23-nov-1978', '05-aug-1978', '01-aug-1978', '27-jul-1978', '19-jul-1978', '21-jun-1978', '1978', '31-dec-1977', '19-dec-1977', '14-aug-1977', '05-aug-1977', '02-jul-1977', '26-jun-1977', '06-jun-1977', '21-ap1977', '18-dec-1976', '25-nov-1976', '18-oct-1976', '12-sep-1976', '06-sep-1976', '26-aug-1976', '24-aug-1976', '24-jul-1976', '21-jul-1976', '16-jul-1976', '12-jul-1976', '23-jun-1976', '10-jun-1976', '28-ap1976', '12-ma1976', '08-jan-1976', '1976', '06-dec-1975', '02-nov-1975', '21-oct-1975', '04-oct-1975', '12-aug-1975', '09-aug-1975', '30-jul-1975', '26-jul-1975.b', '23-jul-1975', '19-jul-1975', '15-jul-1975', '04-jul-1975', '23-jun-1975', '15-jun-1975', '02-jun-1975', 'jun-1975', '25-may-1975', '20-may 1975', '16-ma1975', '01-nov-1974', '28-sep-1974', '14-sep-1974', '02-sep-1974', 'sep-1974', '05-aug-1974', '26-jul-1974', '20-jul-1974', '02-jul-1974', '20-jun-1974', '26-may-1974', '12-ap1974', '18-dec-1973', '24-nov-1973', '16-aug-1973', '09-jan-1973', '14-oct-1972', '09-sep-1972', '29-aug-1972', '17-aug-1972', '05-jul-1972', '10-jun-1972', '28-may-1972', '16-ma1972', '23-oct-1971', '02-oct-1971', '25-sep-1971', '26-jul-1971', '19-jul-1971', '03-dec-1970', '24-oct-1970', 'oct-1970', '05-sep-1970', 'sep-1970', '22-jun-1970', '31-ma1970', '23-ma1970', '11-nov-1969', '14-oct-1969', '06-sep-1969', '29-aug-1969', '22-aug-1969', '02-aug-1969', '22-jul-1969', '20-jul-1969', '27-jun-1969', 'jun-1969', '25-may-1969', '24-may-1969', '19-aug-1969', '09-ma1969', '13-oct-1968', '22-sep-1968', '24-aug-1968', '21-aug-1968', '27-jul-1968', '23-jul-1968', '16-jul-1968', '09-jun-1968', '29-ap1968', '20-ap1968', '10-ma1968', 'ma1968', '26-feb-1968', '1968', '14-dec-1967', '17-oct-1967', '20-sep-1967', '07-sep-1967', '27-aug-1967', '07-aug-1967', '29-jul-1967', 'jul-1967', '13-jun-1967', '19-sep-1966', '8-sep-1966', 'mid aug-1966', 'aug-1966', '31-jul-1966', '19-jul-1966', '17-jul-1966', '03-jul-1966', '22-jun-1966', '11-jun-1966', '04-jun-1966', '16-may-1966', '08-ap1966', '22-jan-1966', '05-jan-1966', 'of 1996', '26-aug-1965', '19-jun-1965', '18-jun-1965', '29-ap1965', '25-ap1965', '10-ap1965', '04-ap1965', '23-ma1965', '14-ma1965', '04-feb-1965', '25-jan-1965', '1965', '05-nov-1964', '25-oct-1964', '26-aug-1964', '22-aug-1964', '21-aug-1964', '08-aug-1964', '27-jul-1964', '15-jul-1964', '08-jul-1964', '28-jun-1964', '24-jun-1964', '05-ma1964', 'feb-1964', '11-jan-1964', '12-nov-1963', '16-oct-1963', '26-sep-1963', '10-sep-1963', '15-jul-1963', '11-jul-1963', '18-may-1963', '20-ap1963', '12-ap1963', '08-ap1963', '04-feb-1963', '11-nov-1962', '06-oct-1962', '29-aug-1962', '26-aug-1962', '19-aug-1962', '12-aug-1962', '28-jul-1962', '19-jul-1962', '10-jul-1962', '07-jul-1962', '25-jun-1962', '17-jun-1962', '11-jun-1962', '10-jun-1962', '04-jun-1962', '03-jun-1962', '29-may-1962', '12-may-1962', '14-jan-1962', '09-oct-1961', 'oct-1961', '26-sep-1961', '20-aug-1961', '16-aug-1961', '02-aug-1961', '29-jul-1961', '24-jun-1961', '18-jun-1961', '06-jun-1961', '21-may-1961', '15-may-1961', '30-ap1961', '16-ap1961', '17-feb-1961', 'feb-1961', '1961', '27-dec-1960', '22-nov-1960', '25-oct-1960', 'oct-1960', '24-sep-1960', '30-aug-1960', '25-aug-1960', '24-aug-1960', '22-aug-1960', '21-aug-1960', '10-aug-1960', '04-aug-1960', 'aug-1960', '05-jul-1960', '03-jul-1960', '29-jun-1960', '24-jun-1960', '07-jun-1960', '04-jun-1960', '19-may-1960', '16-may-1960', '24-ap1960', '31-ma1960', '27-feb-1960', '03-feb-1960', '16-nov-1959', '10-nov-1959', '04-oct-1959', '26-sep-1959', 'between 10 and 12-sep-1959', '02-sep-1959', '15-aug-1959', '14-aug-1959', '13-aug-1959', '10-aug-1959', '05-aug-1959', '30-jul-1959', '28-jul-1959', '25-jul-1959', '23-jul-1959', '02-jul-1959', '14-jun-1959', '13-jun-1959', '16-may-1959', '07-may-1959', '03-may-1959', '09-ap1959', '29-ma1959', 'ma1959', '13-dec-1958', '05-nov-1958', '12-oct-1958', '05-oct-1958', '01-sep-1958', '27-jul-1958', '10-jul-1958', '02-jul-1958', 'jul-1958', '26-jun-1958', '24-jun-1958', '17-jun-1958', '30-ap1958', '01-feb-1958', 'aug-1957', '24-jul-1957', '15-jul-1957', 'may 1957', '28-ap1957', '22-ap1957', '05-feb-1957', 'feb-1957', '1957', '23-sep-1956', '15-aug-1956', '28-jul-1956', '26-jul-1956', '17-jul-1956', '12-jul-1956', '1956', '11-dec-1955', '20-sep-1955', '04-sep-1955', '03-sep-1955', '30-aug-1955', '04-aug-1955', '23-jun-1955', '08-may-1955', 'ap1955', '10-feb-1955', '06-feb-1955', '1955', '20-nov-1954', '07-oct-1954', '21-sep-1954', '04-jul-1954', '29-jun-1954', '08-ap1954', '1954', '20-sep-1953', '18-sep-1953', '03-sep-1953', '02-sep-1953', '26-jul-1953', '16-jul-1953', '15-jul-1953', '04-jul-1953', '04-ap1953', '18-feb-1953', '1953', '03-aug-1952', '7-dec-1952', '03-dec-1952', '27-jul-1952', '13-jul-1952', '05-jul-1952', '27-may-1952', '1952', '19-jul-1951', '25-jun-1951', '28-oct-1950', '10-jul-1950', '09-jul-1950', 'jul-1950', '25-jun-1950', '06-jun-1950', '16-jan-1950', '1950', '1950s', '25-jul-1949', '16-jul-1949', '19-sep-1948', '01-jul-1948', '13-feb-1948', '1948', '04-aug-1947', '27-jul-1947', '27-jun-1947', '06-aug-1945', '08-may-1945', '02-dec-1944', '03-sep-1944', '31-may-1944', '04-dec-1943', '26-oct-1943', '18-jul-1943', '5-ap1943', 'fall 1943', '1943', '04-jun-1942', '21-aug-1941', '01-aug-1941', '22-jul-1941', '01-jul-1941', '15-jun-1941', '09-ma1941', '13-jul-1940', '30-jun-1940', '04-oct-1939', '01-aug-1939', '14-jul-1939', '03-may-1939', '18-aug-1938', '18-jul-1938', '17-jul-1938', '1938', '13-nov-1937', '15-jun-1937', '30-may-1937', '30-dec-1936', '04-sep-1936', 'aug-1936', '25-jul-1936', '12-jul-1936', '06-jun-1936', '30-ma1936', '21-sep-1935', '27-jul-1935', '18-jun-1935', '08-ap1935', '05-aug-1934', '20-jun-1934', '28-aug-1933', '26-aug-1933', '07-jul-1933', '21-jun-1933', '16-jun-1933', '10-ap1933', '10-aug-1932', '14-jul-1932', '28-jun-1932', '26-jun-1932', '16-feb-1932', '21-sep-1931', '02-sep-1931', '30-aug-1931', '27-aug-1931', '18-aug-1931', '06-aug-1931', '15-jul-1931', '14-jun-1931', '13-jun-1931', '04-jun-1931', '06-aug-1930', '11-jul-1930', '27-may-1930', '07-ma1930', '05-aug-1929', '23-jun-1929', '16-ma1929', '1929', '18-nov-1928', '12-nov-1928', 'sep-1928', '24-aug-1928', '24-jun-1928', '21-jan-1928', 'some time between 08-jan-1928 & 21-jan-1928', '08-jan-1927', '24-aug-1926', '12-jul-1926', '08-jul-1926', '18-may-1926', '07-ap1926', 'nov-1925', '02-aug-1925', 'may 1925', '27-jan-1925', '21-nov-1924', '31-jul-1924', '04-jul-1924', '18-jun-1924', 'feb-1923', '1923', '14-dec-1922', '28-sep-1922', '21-sep-1922', '19-jul-1922', '17-jun-1922', '14-jul-1920', '29-jun-1920', '10-aug-1919', '29-may-1919', '06-ap1919', '1919', 'nov-1918', '21-sep-1917', '09-sep-1917', '18-jul-1917', '03-jun-1917', '11-oct-1916', '24-aug-1916', '26-jul-1916', '13-jul-1916', '12-jul-1916', '06-jul-1916', '01-jul-1916', '30-jun-1916', '23-jun-1916', '03-aug-1915', '1915', '09-sep-1914', '09-jul-1914', '14-may-1914', '14-ma1914', '03-ma1914', '30-dec-1913', '21-sep-1913', '27-aug-1913', '12-july-1913', '21-may-1913', '30-aug-1912', '23-jul-1912', '08-nov-1911', '26-oct-1911', '23-sep-1911', '20-sep-1911', '17-sep-1911', '16-jul-1911', '01-may-1911', '1911', '16-may-1910', 'ma1910', '1910', '26-nov-1909', '04-sep-1909', '13-aug-1909', '24-jul-1909', '15-jul-1909', '10-ap1909', '05-sep-1908', '08-jun-1908', '10-may-1908', '08-jan-1908', '08-oct-1907', '08-aug-1907', 'jul-1907', '26-ma1907', '1907', '10-oct-1906', 'sep-1906', '04-aug-1906', '05-jul-1906', '06-sep-1905', 'aug-1905', '29-jul-1905', 'jul-1905', '22-may-1905', '1905', '28-jul-1904', '27-jul-1904', '1904', '16-sep-1903', '1903', '01-nov-1902', '08-aug-1902', '06-jul-1902', '1901', '13-sep-1900', '05-sep-1900', '21-aug-1900', '14-jul-1900', 'jul-1900', '1900s', '23-aug-1899', '15-aug-1899', '1899', '28-oct-1898', '22-aug-1898', '1898', '1898-1899', '04-dec-1897', '17-sep-1897', '06-sep-1897', '15-ma1897', '25-jul-1896', '21-jun-1896', '1896', 'sep-1895', '11-aug-1895', '2-aug-1895', '11-dec-1894', '06-oct-1894', '12-sep-1894', '01-sep-1894', '21-aug-1894', '01-aug-1894', '29-jun-1894', '15-jun-1894', '16-sep-1892', '29-aug-1891', '11-jun-1891', '17-aug-1890', '9-aug-1890', '16-nov-1889', '21-jul-1889', '19-jul-1889', '31-jan-1889', '01-aug-1888', '18-oct-1887', 'mid-aug-1886', 'aug-1886', '02-jun-1886', '26-jul-1885', '28-aug-1884', '18-aug-1884', '18-dec-1883', '19-oct-1883', 'of 1883', '1883', '1882', '16-oct-1881', '05-sep-1881', '12-aug-1881', '13-jun-1881', '25-jul-1880', '1880', '3-jul-1879', '1879', '14-sep-1878', '09-aug-1878', '08-aug-1878', '13-oct-1876', '04-jun-1876', '15-jul-1874', '28-jul-1873', '03-ap1872', '29-aug-1871', 'aug-1871', '27-jul-1870', '09-jul-1866', '02-sep-1865', '14-jul-1865', '02-oct-1864', '12-aug-1864', '13-sep-1863', '09-jul-1863', '1862', '01-aug-1860', '16-ma1859', '23-aug-1858', '17-aug-1858', '14-jan 1858', '05-may-1857', '30-sep-1855', '28-sept-1853', '13-jul-1853', 'sep ooct-1853', '1853', '1853 o1854', 'aug-1852', '1852', 'ma1851', '1851', '21-oct-1850', '08-jun-1849', '31-aug-1848', '17-jul-1848', '10-sep-1847', '03-jul-1847', '1847', '10-sep-1845', '31-jul-1845', '13-jul-1842', '06-jul-1842', '22-jul-1840', '09-sep-1837', 'jul-1837', '1837', '24-aug-1831', '26-jul-1830', '10-jun-1829', '1828', '24-jun-1817', '03-sept-1816', '15-sep-1810', 'aug-24-1806', 'sep-1805', 'may-17-1803', '08-aug-1780', '1779', '12-jul-1771', '27-jul-1751', '1642', '2009?', '2012', '1908', '2009', '2006', 'unknow', 'unknow,   1975', 'unknow,  1963', 'unknow,  1902', '19-jun-1959', '1958', '1921', '17-jul-1916', '1900-1905']\n"
     ]
    }
   ],
   "source": [
    "print(list(data[\"date\"].unique())) "
   ]
  },
  {
   "cell_type": "code",
   "execution_count": 484,
   "id": "91dd97f9",
   "metadata": {},
   "outputs": [
    {
     "data": {
      "text/plain": [
       "28-jul-1995    5\n",
       "05-oct-2003    5\n",
       "12-ap2001      5\n",
       "10-oct-1906    4\n",
       "20-sep-2015    4\n",
       "              ..\n",
       "28-sep-2003    1\n",
       "06-oct-2003    1\n",
       "14-oct-2003    1\n",
       "24-oct-2003    1\n",
       "1900-1905      1\n",
       "Name: date, Length: 1984, dtype: int64"
      ]
     },
     "execution_count": 484,
     "metadata": {},
     "output_type": "execute_result"
    }
   ],
   "source": [
    "data[\"date\"].value_counts()"
   ]
  },
  {
   "cell_type": "code",
   "execution_count": 501,
   "id": "8e72d3ef",
   "metadata": {
    "scrolled": false
   },
   "outputs": [],
   "source": [
    "meses=[]\n",
    "for i in data.date:\n",
    "    if i.find(\"jan\") >=0:\n",
    "        meses.append(\"jan\")\n",
    "    elif i.find(\"feb\") >=0:\n",
    "        meses.append(\"feb\")\n",
    "    elif i.find(\"may\") >=0:\n",
    "        meses.append(\"may\")\n",
    "    elif i.find(\"ap\") >=0:\n",
    "        meses.append(\"apr\")\n",
    "    elif i.find(\"jun\") >=0:\n",
    "        meses.append(\"jun\")\n",
    "    elif i.find(\"jul\") >=0:\n",
    "        meses.append(\"jul\")\n",
    "    elif i.find(\"aug\") >=0:\n",
    "        meses.append(\"aug\")\n",
    "    elif i.find(\"sep\") >=0:\n",
    "        meses.append(\"sep\")\n",
    "    elif i.find(\"oct\") >=0:\n",
    "        meses.append(\"oct\")\n",
    "    elif i.find(\"nov\") >=0:\n",
    "        meses.append(\"nov\")\n",
    "    elif i.find(\"dec\") >=0:\n",
    "        meses.append(\"dec\")    \n",
    "    elif i.find(\"ma2\") >=0:\n",
    "        meses.append(\"mar\")\n",
    "    elif i.find(\"19\") >=0:\n",
    "        meses.append(\"unknow\")\n",
    "    elif i.find(\"18\") >=0:\n",
    "        meses.append(\"unknow\")\n",
    "    elif i.find(\"20\") >=0:\n",
    "        meses.append(\"unknow\")\n",
    "    elif i.find(\"17\") >=0:\n",
    "        meses.append(\"unknow\")\n",
    "    elif i.find(\"16\") >=0:\n",
    "        meses.append(\"unknow\")\n",
    "    else:\n",
    "        meses.append(i)\n",
    "            \n",
    "        \n",
    "data.date=meses"
   ]
  },
  {
   "cell_type": "code",
   "execution_count": 502,
   "id": "cc53e329",
   "metadata": {},
   "outputs": [
    {
     "data": {
      "text/plain": [
       "array(['jun', 'may', 'apr', 'ma', 'dec', 'nov', 'oct', 'SEP', 'aug',\n",
       "       'jul', 'feb', 'jan', 'unknow'], dtype=object)"
      ]
     },
     "execution_count": 502,
     "metadata": {},
     "output_type": "execute_result"
    }
   ],
   "source": [
    "data[\"date\"].unique()"
   ]
  },
  {
   "cell_type": "code",
   "execution_count": 493,
   "id": "e2334c9c",
   "metadata": {},
   "outputs": [
    {
     "data": {
      "text/plain": [
       "jul          359\n",
       "aug          326\n",
       "SEP          299\n",
       "jun          243\n",
       "oct          206\n",
       "            ... \n",
       "1911           1\n",
       "1910           1\n",
       "1907           1\n",
       "1905           1\n",
       "1900-1905      1\n",
       "Name: date, Length: 88, dtype: int64"
      ]
     },
     "execution_count": 493,
     "metadata": {},
     "output_type": "execute_result"
    }
   ],
   "source": [
    "data.date.value_counts()"
   ]
  },
  {
   "cell_type": "code",
   "execution_count": 400,
   "id": "9b878bb7",
   "metadata": {},
   "outputs": [
    {
     "ename": "ParserError",
     "evalue": "Unknown string format: 19-ap2018",
     "output_type": "error",
     "traceback": [
      "\u001b[1;31m---------------------------------------------------------------------------\u001b[0m",
      "\u001b[1;31mTypeError\u001b[0m                                 Traceback (most recent call last)",
      "File \u001b[1;32m~\\OneDrive\\Documentos\\Anaconda\\Anaconda\\lib\\site-packages\\pandas\\core\\arrays\\datetimes.py:2211\u001b[0m, in \u001b[0;36mobjects_to_datetime64ns\u001b[1;34m(data, dayfirst, yearfirst, utc, errors, require_iso8601, allow_object, allow_mixed)\u001b[0m\n\u001b[0;32m   2210\u001b[0m \u001b[38;5;28;01mtry\u001b[39;00m:\n\u001b[1;32m-> 2211\u001b[0m     values, tz_parsed \u001b[38;5;241m=\u001b[39m \u001b[43mconversion\u001b[49m\u001b[38;5;241;43m.\u001b[39;49m\u001b[43mdatetime_to_datetime64\u001b[49m\u001b[43m(\u001b[49m\u001b[43mdata\u001b[49m\u001b[38;5;241;43m.\u001b[39;49m\u001b[43mravel\u001b[49m\u001b[43m(\u001b[49m\u001b[38;5;124;43m\"\u001b[39;49m\u001b[38;5;124;43mK\u001b[39;49m\u001b[38;5;124;43m\"\u001b[39;49m\u001b[43m)\u001b[49m\u001b[43m)\u001b[49m\n\u001b[0;32m   2212\u001b[0m     \u001b[38;5;66;03m# If tzaware, these values represent unix timestamps, so we\u001b[39;00m\n\u001b[0;32m   2213\u001b[0m     \u001b[38;5;66;03m#  return them as i8 to distinguish from wall times\u001b[39;00m\n",
      "File \u001b[1;32m~\\OneDrive\\Documentos\\Anaconda\\Anaconda\\lib\\site-packages\\pandas\\_libs\\tslibs\\conversion.pyx:360\u001b[0m, in \u001b[0;36mpandas._libs.tslibs.conversion.datetime_to_datetime64\u001b[1;34m()\u001b[0m\n",
      "\u001b[1;31mTypeError\u001b[0m: Unrecognized value type: <class 'str'>",
      "\nDuring handling of the above exception, another exception occurred:\n",
      "\u001b[1;31mParserError\u001b[0m                               Traceback (most recent call last)",
      "Input \u001b[1;32mIn [400]\u001b[0m, in \u001b[0;36m<cell line: 1>\u001b[1;34m()\u001b[0m\n\u001b[1;32m----> 1\u001b[0m data\u001b[38;5;241m.\u001b[39mdate \u001b[38;5;241m=\u001b[39m pd\u001b[38;5;241m.\u001b[39mDataFrame({\u001b[38;5;124m'\u001b[39m\u001b[38;5;124mJoined date\u001b[39m\u001b[38;5;124m'\u001b[39m: \u001b[43mpd\u001b[49m\u001b[38;5;241;43m.\u001b[39;49m\u001b[43mto_datetime\u001b[49m\u001b[43m(\u001b[49m\u001b[43mdata\u001b[49m\u001b[38;5;241;43m.\u001b[39;49m\u001b[43mdate\u001b[49m\u001b[43m)\u001b[49m},index)\n\u001b[0;32m      2\u001b[0m data\u001b[38;5;241m.\u001b[39mdate[\u001b[38;5;124m'\u001b[39m\u001b[38;5;124mMonth\u001b[39m\u001b[38;5;124m'\u001b[39m] \u001b[38;5;241m=\u001b[39m data\u001b[38;5;241m.\u001b[39mdate[\u001b[38;5;124m'\u001b[39m\u001b[38;5;124mJoined date\u001b[39m\u001b[38;5;124m'\u001b[39m]\u001b[38;5;241m.\u001b[39mdt\u001b[38;5;241m.\u001b[39mmonth\n",
      "File \u001b[1;32m~\\OneDrive\\Documentos\\Anaconda\\Anaconda\\lib\\site-packages\\pandas\\core\\tools\\datetimes.py:1051\u001b[0m, in \u001b[0;36mto_datetime\u001b[1;34m(arg, errors, dayfirst, yearfirst, utc, format, exact, unit, infer_datetime_format, origin, cache)\u001b[0m\n\u001b[0;32m   1049\u001b[0m         result \u001b[38;5;241m=\u001b[39m arg\u001b[38;5;241m.\u001b[39mmap(cache_array)\n\u001b[0;32m   1050\u001b[0m     \u001b[38;5;28;01melse\u001b[39;00m:\n\u001b[1;32m-> 1051\u001b[0m         values \u001b[38;5;241m=\u001b[39m \u001b[43mconvert_listlike\u001b[49m\u001b[43m(\u001b[49m\u001b[43marg\u001b[49m\u001b[38;5;241;43m.\u001b[39;49m\u001b[43m_values\u001b[49m\u001b[43m,\u001b[49m\u001b[43m \u001b[49m\u001b[38;5;28;43mformat\u001b[39;49m\u001b[43m)\u001b[49m\n\u001b[0;32m   1052\u001b[0m         result \u001b[38;5;241m=\u001b[39m arg\u001b[38;5;241m.\u001b[39m_constructor(values, index\u001b[38;5;241m=\u001b[39marg\u001b[38;5;241m.\u001b[39mindex, name\u001b[38;5;241m=\u001b[39marg\u001b[38;5;241m.\u001b[39mname)\n\u001b[0;32m   1053\u001b[0m \u001b[38;5;28;01melif\u001b[39;00m \u001b[38;5;28misinstance\u001b[39m(arg, (ABCDataFrame, abc\u001b[38;5;241m.\u001b[39mMutableMapping)):\n",
      "File \u001b[1;32m~\\OneDrive\\Documentos\\Anaconda\\Anaconda\\lib\\site-packages\\pandas\\core\\tools\\datetimes.py:402\u001b[0m, in \u001b[0;36m_convert_listlike_datetimes\u001b[1;34m(arg, format, name, tz, unit, errors, infer_datetime_format, dayfirst, yearfirst, exact)\u001b[0m\n\u001b[0;32m    400\u001b[0m \u001b[38;5;28;01massert\u001b[39;00m \u001b[38;5;28mformat\u001b[39m \u001b[38;5;129;01mis\u001b[39;00m \u001b[38;5;28;01mNone\u001b[39;00m \u001b[38;5;129;01mor\u001b[39;00m infer_datetime_format\n\u001b[0;32m    401\u001b[0m utc \u001b[38;5;241m=\u001b[39m tz \u001b[38;5;241m==\u001b[39m \u001b[38;5;124m\"\u001b[39m\u001b[38;5;124mutc\u001b[39m\u001b[38;5;124m\"\u001b[39m\n\u001b[1;32m--> 402\u001b[0m result, tz_parsed \u001b[38;5;241m=\u001b[39m \u001b[43mobjects_to_datetime64ns\u001b[49m\u001b[43m(\u001b[49m\n\u001b[0;32m    403\u001b[0m \u001b[43m    \u001b[49m\u001b[43marg\u001b[49m\u001b[43m,\u001b[49m\n\u001b[0;32m    404\u001b[0m \u001b[43m    \u001b[49m\u001b[43mdayfirst\u001b[49m\u001b[38;5;241;43m=\u001b[39;49m\u001b[43mdayfirst\u001b[49m\u001b[43m,\u001b[49m\n\u001b[0;32m    405\u001b[0m \u001b[43m    \u001b[49m\u001b[43myearfirst\u001b[49m\u001b[38;5;241;43m=\u001b[39;49m\u001b[43myearfirst\u001b[49m\u001b[43m,\u001b[49m\n\u001b[0;32m    406\u001b[0m \u001b[43m    \u001b[49m\u001b[43mutc\u001b[49m\u001b[38;5;241;43m=\u001b[39;49m\u001b[43mutc\u001b[49m\u001b[43m,\u001b[49m\n\u001b[0;32m    407\u001b[0m \u001b[43m    \u001b[49m\u001b[43merrors\u001b[49m\u001b[38;5;241;43m=\u001b[39;49m\u001b[43merrors\u001b[49m\u001b[43m,\u001b[49m\n\u001b[0;32m    408\u001b[0m \u001b[43m    \u001b[49m\u001b[43mrequire_iso8601\u001b[49m\u001b[38;5;241;43m=\u001b[39;49m\u001b[43mrequire_iso8601\u001b[49m\u001b[43m,\u001b[49m\n\u001b[0;32m    409\u001b[0m \u001b[43m    \u001b[49m\u001b[43mallow_object\u001b[49m\u001b[38;5;241;43m=\u001b[39;49m\u001b[38;5;28;43;01mTrue\u001b[39;49;00m\u001b[43m,\u001b[49m\n\u001b[0;32m    410\u001b[0m \u001b[43m\u001b[49m\u001b[43m)\u001b[49m\n\u001b[0;32m    412\u001b[0m \u001b[38;5;28;01mif\u001b[39;00m tz_parsed \u001b[38;5;129;01mis\u001b[39;00m \u001b[38;5;129;01mnot\u001b[39;00m \u001b[38;5;28;01mNone\u001b[39;00m:\n\u001b[0;32m    413\u001b[0m     \u001b[38;5;66;03m# We can take a shortcut since the datetime64 numpy array\u001b[39;00m\n\u001b[0;32m    414\u001b[0m     \u001b[38;5;66;03m# is in UTC\u001b[39;00m\n\u001b[0;32m    415\u001b[0m     dta \u001b[38;5;241m=\u001b[39m DatetimeArray(result, dtype\u001b[38;5;241m=\u001b[39mtz_to_dtype(tz_parsed))\n",
      "File \u001b[1;32m~\\OneDrive\\Documentos\\Anaconda\\Anaconda\\lib\\site-packages\\pandas\\core\\arrays\\datetimes.py:2217\u001b[0m, in \u001b[0;36mobjects_to_datetime64ns\u001b[1;34m(data, dayfirst, yearfirst, utc, errors, require_iso8601, allow_object, allow_mixed)\u001b[0m\n\u001b[0;32m   2215\u001b[0m         \u001b[38;5;28;01mreturn\u001b[39;00m values\u001b[38;5;241m.\u001b[39mview(\u001b[38;5;124m\"\u001b[39m\u001b[38;5;124mi8\u001b[39m\u001b[38;5;124m\"\u001b[39m), tz_parsed\n\u001b[0;32m   2216\u001b[0m     \u001b[38;5;28;01mexcept\u001b[39;00m (\u001b[38;5;167;01mValueError\u001b[39;00m, \u001b[38;5;167;01mTypeError\u001b[39;00m):\n\u001b[1;32m-> 2217\u001b[0m         \u001b[38;5;28;01mraise\u001b[39;00m err\n\u001b[0;32m   2219\u001b[0m \u001b[38;5;28;01mif\u001b[39;00m tz_parsed \u001b[38;5;129;01mis\u001b[39;00m \u001b[38;5;129;01mnot\u001b[39;00m \u001b[38;5;28;01mNone\u001b[39;00m:\n\u001b[0;32m   2220\u001b[0m     \u001b[38;5;66;03m# We can take a shortcut since the datetime64 numpy array\u001b[39;00m\n\u001b[0;32m   2221\u001b[0m     \u001b[38;5;66;03m#  is in UTC\u001b[39;00m\n\u001b[0;32m   2222\u001b[0m     \u001b[38;5;66;03m# Return i8 values to denote unix timestamps\u001b[39;00m\n\u001b[0;32m   2223\u001b[0m     \u001b[38;5;28;01mreturn\u001b[39;00m result\u001b[38;5;241m.\u001b[39mview(\u001b[38;5;124m\"\u001b[39m\u001b[38;5;124mi8\u001b[39m\u001b[38;5;124m\"\u001b[39m), tz_parsed\n",
      "File \u001b[1;32m~\\OneDrive\\Documentos\\Anaconda\\Anaconda\\lib\\site-packages\\pandas\\core\\arrays\\datetimes.py:2199\u001b[0m, in \u001b[0;36mobjects_to_datetime64ns\u001b[1;34m(data, dayfirst, yearfirst, utc, errors, require_iso8601, allow_object, allow_mixed)\u001b[0m\n\u001b[0;32m   2197\u001b[0m order: Literal[\u001b[38;5;124m\"\u001b[39m\u001b[38;5;124mF\u001b[39m\u001b[38;5;124m\"\u001b[39m, \u001b[38;5;124m\"\u001b[39m\u001b[38;5;124mC\u001b[39m\u001b[38;5;124m\"\u001b[39m] \u001b[38;5;241m=\u001b[39m \u001b[38;5;124m\"\u001b[39m\u001b[38;5;124mF\u001b[39m\u001b[38;5;124m\"\u001b[39m \u001b[38;5;28;01mif\u001b[39;00m flags\u001b[38;5;241m.\u001b[39mf_contiguous \u001b[38;5;28;01melse\u001b[39;00m \u001b[38;5;124m\"\u001b[39m\u001b[38;5;124mC\u001b[39m\u001b[38;5;124m\"\u001b[39m\n\u001b[0;32m   2198\u001b[0m \u001b[38;5;28;01mtry\u001b[39;00m:\n\u001b[1;32m-> 2199\u001b[0m     result, tz_parsed \u001b[38;5;241m=\u001b[39m \u001b[43mtslib\u001b[49m\u001b[38;5;241;43m.\u001b[39;49m\u001b[43marray_to_datetime\u001b[49m\u001b[43m(\u001b[49m\n\u001b[0;32m   2200\u001b[0m \u001b[43m        \u001b[49m\u001b[43mdata\u001b[49m\u001b[38;5;241;43m.\u001b[39;49m\u001b[43mravel\u001b[49m\u001b[43m(\u001b[49m\u001b[38;5;124;43m\"\u001b[39;49m\u001b[38;5;124;43mK\u001b[39;49m\u001b[38;5;124;43m\"\u001b[39;49m\u001b[43m)\u001b[49m\u001b[43m,\u001b[49m\n\u001b[0;32m   2201\u001b[0m \u001b[43m        \u001b[49m\u001b[43merrors\u001b[49m\u001b[38;5;241;43m=\u001b[39;49m\u001b[43merrors\u001b[49m\u001b[43m,\u001b[49m\n\u001b[0;32m   2202\u001b[0m \u001b[43m        \u001b[49m\u001b[43mutc\u001b[49m\u001b[38;5;241;43m=\u001b[39;49m\u001b[43mutc\u001b[49m\u001b[43m,\u001b[49m\n\u001b[0;32m   2203\u001b[0m \u001b[43m        \u001b[49m\u001b[43mdayfirst\u001b[49m\u001b[38;5;241;43m=\u001b[39;49m\u001b[43mdayfirst\u001b[49m\u001b[43m,\u001b[49m\n\u001b[0;32m   2204\u001b[0m \u001b[43m        \u001b[49m\u001b[43myearfirst\u001b[49m\u001b[38;5;241;43m=\u001b[39;49m\u001b[43myearfirst\u001b[49m\u001b[43m,\u001b[49m\n\u001b[0;32m   2205\u001b[0m \u001b[43m        \u001b[49m\u001b[43mrequire_iso8601\u001b[49m\u001b[38;5;241;43m=\u001b[39;49m\u001b[43mrequire_iso8601\u001b[49m\u001b[43m,\u001b[49m\n\u001b[0;32m   2206\u001b[0m \u001b[43m        \u001b[49m\u001b[43mallow_mixed\u001b[49m\u001b[38;5;241;43m=\u001b[39;49m\u001b[43mallow_mixed\u001b[49m\u001b[43m,\u001b[49m\n\u001b[0;32m   2207\u001b[0m \u001b[43m    \u001b[49m\u001b[43m)\u001b[49m\n\u001b[0;32m   2208\u001b[0m     result \u001b[38;5;241m=\u001b[39m result\u001b[38;5;241m.\u001b[39mreshape(data\u001b[38;5;241m.\u001b[39mshape, order\u001b[38;5;241m=\u001b[39morder)\n\u001b[0;32m   2209\u001b[0m \u001b[38;5;28;01mexcept\u001b[39;00m \u001b[38;5;167;01mValueError\u001b[39;00m \u001b[38;5;28;01mas\u001b[39;00m err:\n",
      "File \u001b[1;32m~\\OneDrive\\Documentos\\Anaconda\\Anaconda\\lib\\site-packages\\pandas\\_libs\\tslib.pyx:381\u001b[0m, in \u001b[0;36mpandas._libs.tslib.array_to_datetime\u001b[1;34m()\u001b[0m\n",
      "File \u001b[1;32m~\\OneDrive\\Documentos\\Anaconda\\Anaconda\\lib\\site-packages\\pandas\\_libs\\tslib.pyx:613\u001b[0m, in \u001b[0;36mpandas._libs.tslib.array_to_datetime\u001b[1;34m()\u001b[0m\n",
      "File \u001b[1;32m~\\OneDrive\\Documentos\\Anaconda\\Anaconda\\lib\\site-packages\\pandas\\_libs\\tslib.pyx:751\u001b[0m, in \u001b[0;36mpandas._libs.tslib._array_to_datetime_object\u001b[1;34m()\u001b[0m\n",
      "File \u001b[1;32m~\\OneDrive\\Documentos\\Anaconda\\Anaconda\\lib\\site-packages\\pandas\\_libs\\tslib.pyx:742\u001b[0m, in \u001b[0;36mpandas._libs.tslib._array_to_datetime_object\u001b[1;34m()\u001b[0m\n",
      "File \u001b[1;32m~\\OneDrive\\Documentos\\Anaconda\\Anaconda\\lib\\site-packages\\pandas\\_libs\\tslibs\\parsing.pyx:281\u001b[0m, in \u001b[0;36mpandas._libs.tslibs.parsing.parse_datetime_string\u001b[1;34m()\u001b[0m\n",
      "File \u001b[1;32m~\\OneDrive\\Documentos\\Anaconda\\Anaconda\\lib\\site-packages\\dateutil\\parser\\_parser.py:1368\u001b[0m, in \u001b[0;36mparse\u001b[1;34m(timestr, parserinfo, **kwargs)\u001b[0m\n\u001b[0;32m   1366\u001b[0m     \u001b[38;5;28;01mreturn\u001b[39;00m parser(parserinfo)\u001b[38;5;241m.\u001b[39mparse(timestr, \u001b[38;5;241m*\u001b[39m\u001b[38;5;241m*\u001b[39mkwargs)\n\u001b[0;32m   1367\u001b[0m \u001b[38;5;28;01melse\u001b[39;00m:\n\u001b[1;32m-> 1368\u001b[0m     \u001b[38;5;28;01mreturn\u001b[39;00m DEFAULTPARSER\u001b[38;5;241m.\u001b[39mparse(timestr, \u001b[38;5;241m*\u001b[39m\u001b[38;5;241m*\u001b[39mkwargs)\n",
      "File \u001b[1;32m~\\OneDrive\\Documentos\\Anaconda\\Anaconda\\lib\\site-packages\\dateutil\\parser\\_parser.py:643\u001b[0m, in \u001b[0;36mparser.parse\u001b[1;34m(self, timestr, default, ignoretz, tzinfos, **kwargs)\u001b[0m\n\u001b[0;32m    640\u001b[0m res, skipped_tokens \u001b[38;5;241m=\u001b[39m \u001b[38;5;28mself\u001b[39m\u001b[38;5;241m.\u001b[39m_parse(timestr, \u001b[38;5;241m*\u001b[39m\u001b[38;5;241m*\u001b[39mkwargs)\n\u001b[0;32m    642\u001b[0m \u001b[38;5;28;01mif\u001b[39;00m res \u001b[38;5;129;01mis\u001b[39;00m \u001b[38;5;28;01mNone\u001b[39;00m:\n\u001b[1;32m--> 643\u001b[0m     \u001b[38;5;28;01mraise\u001b[39;00m ParserError(\u001b[38;5;124m\"\u001b[39m\u001b[38;5;124mUnknown string format: \u001b[39m\u001b[38;5;132;01m%s\u001b[39;00m\u001b[38;5;124m\"\u001b[39m, timestr)\n\u001b[0;32m    645\u001b[0m \u001b[38;5;28;01mif\u001b[39;00m \u001b[38;5;28mlen\u001b[39m(res) \u001b[38;5;241m==\u001b[39m \u001b[38;5;241m0\u001b[39m:\n\u001b[0;32m    646\u001b[0m     \u001b[38;5;28;01mraise\u001b[39;00m ParserError(\u001b[38;5;124m\"\u001b[39m\u001b[38;5;124mString does not contain a date: \u001b[39m\u001b[38;5;132;01m%s\u001b[39;00m\u001b[38;5;124m\"\u001b[39m, timestr)\n",
      "\u001b[1;31mParserError\u001b[0m: Unknown string format: 19-ap2018"
     ]
    }
   ],
   "source": [
    "#data.date = pd.DataFrame({'Joined date': pd.to_datetime(data.date)},index)\n",
    "#data.date['Month'] = data.date['Joined date'].dt.month "
   ]
  },
  {
   "cell_type": "code",
   "execution_count": null,
   "id": "0aa120d7",
   "metadata": {},
   "outputs": [],
   "source": []
  },
  {
   "cell_type": "code",
   "execution_count": null,
   "id": "4126dd51",
   "metadata": {},
   "outputs": [],
   "source": []
  },
  {
   "cell_type": "code",
   "execution_count": null,
   "id": "344b3186",
   "metadata": {},
   "outputs": [],
   "source": []
  },
  {
   "cell_type": "code",
   "execution_count": 49,
   "id": "c0c115fa",
   "metadata": {},
   "outputs": [],
   "source": [
    "#cambiar tipo de dato"
   ]
  },
  {
   "cell_type": "code",
   "execution_count": 255,
   "id": "8d906814",
   "metadata": {
    "scrolled": true
   },
   "outputs": [
    {
     "name": "stdout",
     "output_type": "stream",
     "text": [
      "<class 'pandas.core.frame.DataFrame'>\n",
      "Int64Index: 2229 entries, 0 to 6299\n",
      "Data columns (total 24 columns):\n",
      " #   Column                  Non-Null Count  Dtype  \n",
      "---  ------                  --------------  -----  \n",
      " 0   case_number             2229 non-null   object \n",
      " 1   date                    2229 non-null   object \n",
      " 2   year                    2229 non-null   float64\n",
      " 3   type                    2229 non-null   object \n",
      " 4   country                 2229 non-null   object \n",
      " 5   area                    2229 non-null   object \n",
      " 6   location                2229 non-null   object \n",
      " 7   activity                2229 non-null   object \n",
      " 8   name                    2229 non-null   object \n",
      " 9   sex                     2229 non-null   object \n",
      " 10  age                     2229 non-null   object \n",
      " 11  injury                  2229 non-null   object \n",
      " 12  fatal_(y/n)             2229 non-null   object \n",
      " 13  time                    2229 non-null   object \n",
      " 14  species                 2229 non-null   object \n",
      " 15  investigator_or_source  2229 non-null   object \n",
      " 16  pdf                     2229 non-null   object \n",
      " 17  href_formula            2229 non-null   object \n",
      " 18  href                    2229 non-null   object \n",
      " 19  case_number.1           2229 non-null   object \n",
      " 20  case_number.2           2229 non-null   object \n",
      " 21  original_order          2229 non-null   float64\n",
      " 22  unnamed:_22             2229 non-null   object \n",
      " 23  unnamed:_23             2229 non-null   object \n",
      "dtypes: float64(2), object(22)\n",
      "memory usage: 3.6 MB\n"
     ]
    }
   ],
   "source": [
    "data.info(memory_usage='deep')"
   ]
  },
  {
   "cell_type": "code",
   "execution_count": 256,
   "id": "81e09106",
   "metadata": {},
   "outputs": [
    {
     "name": "stdout",
     "output_type": "stream",
     "text": [
      "case_number\n",
      "date\n",
      "year\n",
      "type\n",
      "country\n",
      "area\n",
      "location\n",
      "activity\n",
      "name\n",
      "sex\n",
      "age\n",
      "injury\n",
      "fatal_(y/n)\n",
      "time\n",
      "species\n",
      "investigator_or_source\n",
      "pdf\n",
      "href_formula\n",
      "href\n",
      "case_number.1\n",
      "case_number.2\n",
      "original_order\n",
      "unnamed:_22\n",
      "unnamed:_23\n"
     ]
    }
   ],
   "source": [
    "for c in data:\n",
    "    print(c)"
   ]
  },
  {
   "cell_type": "code",
   "execution_count": 257,
   "id": "05b6e766",
   "metadata": {},
   "outputs": [],
   "source": [
    "for c in data.select_dtypes('object').columns:\n",
    "    data[c]=data[c].astype('category')"
   ]
  },
  {
   "cell_type": "code",
   "execution_count": 258,
   "id": "5793b818",
   "metadata": {},
   "outputs": [],
   "source": [
    "for c in data.select_dtypes('float').columns:\n",
    "    data[c] = pd.to_numeric(data[c], downcast='float')"
   ]
  },
  {
   "cell_type": "code",
   "execution_count": 259,
   "id": "bc7c1e4d",
   "metadata": {},
   "outputs": [
    {
     "name": "stdout",
     "output_type": "stream",
     "text": [
      "<class 'pandas.core.frame.DataFrame'>\n",
      "Int64Index: 2229 entries, 0 to 6299\n",
      "Data columns (total 24 columns):\n",
      " #   Column                  Non-Null Count  Dtype   \n",
      "---  ------                  --------------  -----   \n",
      " 0   case_number             2229 non-null   category\n",
      " 1   date                    2229 non-null   category\n",
      " 2   year                    2229 non-null   float32 \n",
      " 3   type                    2229 non-null   category\n",
      " 4   country                 2229 non-null   category\n",
      " 5   area                    2229 non-null   category\n",
      " 6   location                2229 non-null   category\n",
      " 7   activity                2229 non-null   category\n",
      " 8   name                    2229 non-null   category\n",
      " 9   sex                     2229 non-null   category\n",
      " 10  age                     2229 non-null   category\n",
      " 11  injury                  2229 non-null   category\n",
      " 12  fatal_(y/n)             2229 non-null   category\n",
      " 13  time                    2229 non-null   category\n",
      " 14  species                 2229 non-null   category\n",
      " 15  investigator_or_source  2229 non-null   category\n",
      " 16  pdf                     2229 non-null   category\n",
      " 17  href_formula            2229 non-null   category\n",
      " 18  href                    2229 non-null   category\n",
      " 19  case_number.1           2229 non-null   category\n",
      " 20  case_number.2           2229 non-null   category\n",
      " 21  original_order          2229 non-null   float32 \n",
      " 22  unnamed:_22             2229 non-null   category\n",
      " 23  unnamed:_23             2229 non-null   category\n",
      "dtypes: category(22), float32(2)\n",
      "memory usage: 2.8 MB\n"
     ]
    }
   ],
   "source": [
    "data.info(memory_usage='deep')"
   ]
  },
  {
   "cell_type": "code",
   "execution_count": null,
   "id": "9aed7b4c",
   "metadata": {},
   "outputs": [],
   "source": [
    "#Empezamos el análisis:\n",
    "- % de hombres muertos "
   ]
  },
  {
   "cell_type": "code",
   "execution_count": 261,
   "id": "ee5c0cac",
   "metadata": {},
   "outputs": [
    {
     "ename": "IndentationError",
     "evalue": "expected an indented block (891948860.py, line 5)",
     "output_type": "error",
     "traceback": [
      "\u001b[1;36m  Input \u001b[1;32mIn [261]\u001b[1;36m\u001b[0m\n\u001b[1;33m    print (HM)\u001b[0m\n\u001b[1;37m    ^\u001b[0m\n\u001b[1;31mIndentationError\u001b[0m\u001b[1;31m:\u001b[0m expected an indented block\n"
     ]
    }
   ],
   "source": [
    "hombre_muertos=[]\n",
    "\n",
    "for HM in data.sex:\n",
    "    if HM == \"m\":\n",
    "    print (HM)\n",
    "    break\n",
    "        for MV in data.year:\n",
    "            if MV == \"2015\":\n",
    "                hombre_muertos.append(MV)\n",
    "hombre_muertos"
   ]
  },
  {
   "cell_type": "code",
   "execution_count": 130,
   "id": "381e6734",
   "metadata": {},
   "outputs": [
    {
     "ename": "SyntaxError",
     "evalue": "invalid syntax (3191506413.py, line 3)",
     "output_type": "error",
     "traceback": [
      "\u001b[1;36m  Input \u001b[1;32mIn [130]\u001b[1;36m\u001b[0m\n\u001b[1;33m    if i == \"f\"\u001b[0m\n\u001b[1;37m               ^\u001b[0m\n\u001b[1;31mSyntaxError\u001b[0m\u001b[1;31m:\u001b[0m invalid syntax\n"
     ]
    }
   ],
   "source": [
    "hombre=[]\n",
    "for i in data.sex:\n",
    "    if i == \"f\"\n",
    "    for j in data[\"fatal_(y/n)\"]:\n",
    "        j == \"y\":\n",
    "            hombre.append(j)\n",
    "len(hombre)"
   ]
  },
  {
   "cell_type": "code",
   "execution_count": null,
   "id": "96917472",
   "metadata": {},
   "outputs": [],
   "source": []
  }
 ],
 "metadata": {
  "kernelspec": {
   "display_name": "Python 3 (ipykernel)",
   "language": "python",
   "name": "python3"
  },
  "language_info": {
   "codemirror_mode": {
    "name": "ipython",
    "version": 3
   },
   "file_extension": ".py",
   "mimetype": "text/x-python",
   "name": "python",
   "nbconvert_exporter": "python",
   "pygments_lexer": "ipython3",
   "version": "3.9.12"
  }
 },
 "nbformat": 4,
 "nbformat_minor": 5
}
